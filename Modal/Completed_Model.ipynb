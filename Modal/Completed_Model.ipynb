{
  "cells": [
    {
      "cell_type": "code",
      "execution_count": 283,
      "id": "272f8a92",
      "metadata": {
        "id": "272f8a92"
      },
      "outputs": [],
      "source": [
        "import pandas as pd\n",
        "import numpy as np\n",
        "import matplotlib.pyplot as plt\n",
        "import seaborn as sns\n",
        "import warnings \n",
        "from sklearn.metrics import confusion_matrix,classification_report, roc_auc_score\n",
        "\n",
        "warnings.filterwarnings('ignore')"
      ]
    },
    {
      "cell_type": "code",
      "execution_count": 284,
      "id": "3f88b640",
      "metadata": {
        "id": "3f88b640"
      },
      "outputs": [],
      "source": [
        "from sklearn.tree import DecisionTreeClassifier\n",
        "from sklearn.neighbors import KNeighborsClassifier\n",
        "from sklearn.linear_model import LogisticRegression\n",
        "from sklearn.ensemble import AdaBoostClassifier, GradientBoostingClassifier,RandomForestClassifier,BaggingClassifier,ExtraTreesClassifier\n",
        "from xgboost.sklearn import XGBClassifier\n",
        "from sklearn.svm import SVC\n",
        "import lightgbm as lgb\n",
        "from sklearn.ensemble import VotingClassifier\n"
      ]
    },
    {
      "cell_type": "code",
      "execution_count": 285,
      "id": "d3373d81",
      "metadata": {},
      "outputs": [],
      "source": [
        "from sklearn.metrics import precision_score, recall_score, f1_score,accuracy_score\n",
        "from sklearn.model_selection import KFold\n",
        "from imblearn.under_sampling import RandomUnderSampler\n",
        "from imblearn.over_sampling import SMOTE, RandomOverSampler\n",
        "\n",
        "from sklearn.neighbors import KNeighborsClassifier\n",
        "from sklearn.linear_model import LogisticRegression\n",
        "from sklearn.ensemble import RandomForestClassifier\n",
        "from xgboost.sklearn import XGBClassifier\n"
      ]
    },
    {
      "cell_type": "code",
      "execution_count": 286,
      "id": "9a103af6",
      "metadata": {
        "colab": {
          "base_uri": "https://localhost:8080/"
        },
        "id": "9a103af6",
        "outputId": "fcd53110-332d-418a-f630-376613f204c1",
        "scrolled": true
      },
      "outputs": [
        {
          "data": {
            "text/plain": [
              "(118981, 35)"
            ]
          },
          "execution_count": 286,
          "metadata": {},
          "output_type": "execute_result"
        }
      ],
      "source": [
        "df = pd.read_csv('hotel_cleaned_data_set_final_for_model.csv')\n",
        "df.head()\n",
        "df.shape"
      ]
    },
    {
      "cell_type": "code",
      "execution_count": 287,
      "id": "yWwY0avsrL79",
      "metadata": {
        "colab": {
          "base_uri": "https://localhost:8080/"
        },
        "id": "yWwY0avsrL79",
        "outputId": "325b5539-2a3c-4ee3-d986-5ce89befda8b"
      },
      "outputs": [
        {
          "data": {
            "text/plain": [
              "(59490, 35)"
            ]
          },
          "execution_count": 287,
          "metadata": {},
          "output_type": "execute_result"
        }
      ],
      "source": [
        "df1 = df.sample(frac=0.5)\n",
        "df1.shape"
      ]
    },
    {
      "cell_type": "code",
      "execution_count": 288,
      "id": "DGZ5pxHFsF50",
      "metadata": {
        "colab": {
          "base_uri": "https://localhost:8080/"
        },
        "id": "DGZ5pxHFsF50",
        "outputId": "238c2861-ae18-4afb-8eb2-3fb5bca65027"
      },
      "outputs": [
        {
          "data": {
            "text/plain": [
              "0    0.631804\n",
              "1    0.368196\n",
              "Name: is_canceled, dtype: float64"
            ]
          },
          "execution_count": 288,
          "metadata": {},
          "output_type": "execute_result"
        }
      ],
      "source": [
        "df1['is_canceled'].value_counts(normalize=True)\n"
      ]
    },
    {
      "cell_type": "markdown",
      "id": "87d67cbb",
      "metadata": {
        "id": "87d67cbb"
      },
      "source": [
        "# X/y Split and Mteric Selection"
      ]
    },
    {
      "cell_type": "code",
      "execution_count": 289,
      "id": "ed513156",
      "metadata": {
        "id": "ed513156"
      },
      "outputs": [],
      "source": [
        "X = df1.drop(['is_canceled'], axis = 1)\n",
        "y = df1['is_canceled']"
      ]
    },
    {
      "cell_type": "markdown",
      "id": "5c0d4267",
      "metadata": {
        "id": "5c0d4267"
      },
      "source": [
        "To select the appropriate evaluation metric, we need to understand about the risk of false negative and false positive in our prediction case. In short term point-of-view (POV), false negative of booking cancellation prediction is more likely resulting in profit-loss because of unnecessary preparation of the hotel towards non-existent customer. But in the long term POV, failing to prepare for the customer's arrival also will reduce our customer's experience, resulting in unseen profit/opportunity-loss in the future (false positive). So, balancing false positive and false negative (F1 score) is necessity for this prediction model building."
      ]
    },
    {
      "cell_type": "markdown",
      "id": "785a084b",
      "metadata": {
        "id": "785a084b"
      },
      "source": [
        "Thus we select F1 score as our performance metric in addition to accuracy (primary)"
      ]
    },
    {
      "cell_type": "markdown",
      "id": "9a9e4085",
      "metadata": {
        "id": "9a9e4085"
      },
      "source": [
        "# Balancing Method\n"
      ]
    },
    {
      "cell_type": "code",
      "execution_count": 290,
      "id": "3e767b3b",
      "metadata": {
        "id": "3e767b3b"
      },
      "outputs": [],
      "source": [
        "def balance_train_data(X, y, method=None):\n",
        "    '''\n",
        "    Balances the data passed in according to the specified method.\n",
        "    Returns balanced numpy arrays.\n",
        "    '''\n",
        "    if method == None:\n",
        "        return X, y\n",
        "\n",
        "    elif method == 'undersampling':\n",
        "        rus = RandomUnderSampler()\n",
        "        X_train, y_train = rus.fit_resample(X, y)\n",
        "        return X_train, y_train\n",
        "\n",
        "    elif method == 'oversampling':\n",
        "        ros = RandomOverSampler()\n",
        "        X_train, y_train = ros.fit_resample(X, y)\n",
        "        return X_train, y_train\n",
        "\n",
        "    elif method == 'smote':\n",
        "        smote = SMOTE()\n",
        "        X_train, y_train = smote.fit_resample(X, y)\n",
        "        return X_train, y_train\n",
        "\n",
        "    elif method == 'both':\n",
        "        smote = SMOTE(sampling_strategy=0.75)\n",
        "        under = RandomUnderSampler(sampling_strategy=1)\n",
        "        X_train, y_train = smote.fit_resample(X, y)\n",
        "        X_train, y_train = under.fit_resample(X_train, y_train)\n",
        "        return X_train, y_train\n",
        "\n",
        "    else:\n",
        "        print('Incorrect balance method')\n",
        "        return"
      ]
    },
    {
      "cell_type": "code",
      "execution_count": 291,
      "id": "039e3efe",
      "metadata": {
        "id": "039e3efe"
      },
      "outputs": [],
      "source": [
        "def plot_cross_val(models, X, y, ax, sampling_method, names, n_splits=5):\n",
        "    kf = KFold(n_splits=n_splits, shuffle=True)\n",
        "\n",
        "\n",
        "    precisions = []\n",
        "    recalls = []\n",
        "    f1 = []\n",
        "    for i in range(len(models)):\n",
        "        precisions.append([])\n",
        "        recalls.append([])\n",
        "        f1.append([])\n",
        "\n",
        "    for train, test in kf.split(X):\n",
        "        X_test, y_test = X.iloc[test], y.iloc[test]\n",
        "        X_train, y_train = X.iloc[train], y.iloc[train]\n",
        "        \n",
        "        X_train, y_train = balance_train_data(X_train, y_train, method=sampling_method)\n",
        "\n",
        "        for i, model in enumerate(models):\n",
        "            model.fit(X_train, y_train)\n",
        "            y_pred = model.predict(X_test)\n",
        "\n",
        "            # precisions[i].append(precision_score(y_test, y_pred))\n",
        "            # recalls[i].append(recall_score(y_test, y_pred))\n",
        "            f1[i].append(f1_score(y_test, y_pred))\n",
        "\n",
        "    x = range(0, n_splits)\n",
        "    colormap = {0 : 'r',\n",
        "                1 : 'b',\n",
        "                2 : 'g',\n",
        "                3 : 'c',\n",
        "                4 : 'm'}\n",
        "\n",
        "\n",
        "    for i in range(len(models)):\n",
        "        print(f1[i])\n",
        "        ax.plot(x, f1[i], c=colormap[i],\n",
        "                linewidth=1, linestyle='-',\n",
        "                label='%s F1 Score' % names[i])\n",
        "        # ax.plot(x, precisions[i], c=colormap[i],\n",
        "        #        linewidth=1, linestyle='-',\n",
        "        #        label='%s Precision' % names[i])\n",
        "        # ax.plot(x, recalls[i], c=colormap[i],\n",
        "        #        linewidth=1, linestyle='--',\n",
        "        #        label='%s Recall' % names[i])"
      ]
    },
    {
      "cell_type": "markdown",
      "id": "47a07c8b",
      "metadata": {
        "id": "47a07c8b"
      },
      "source": [
        "To find the effect of balancing will use logistic regression as our basic binary classification model, KNN as instance-based machine learning model, Forest as bagging ensemble method, and XGBoost as boosting ensemble method."
      ]
    },
    {
      "cell_type": "code",
      "execution_count": 292,
      "id": "6b87fd4b",
      "metadata": {
        "id": "6b87fd4b"
      },
      "outputs": [],
      "source": [
        "models = [LogisticRegression(), KNeighborsClassifier(), RandomForestClassifier(), XGBClassifier()]\n"
      ]
    },
    {
      "cell_type": "code",
      "execution_count": 293,
      "id": "86d6d420",
      "metadata": {
        "colab": {
          "base_uri": "https://localhost:8080/",
          "height": 682
        },
        "id": "86d6d420",
        "outputId": "50dc0719-4740-45bd-d52f-94f29a588e3e"
      },
      "outputs": [
        {
          "name": "stdout",
          "output_type": "stream",
          "text": [
            "[20:58:45] WARNING: /Users/runner/miniforge3/conda-bld/xgboost-split_1643227205751/work/src/learner.cc:1115: Starting in XGBoost 1.3.0, the default evaluation metric used with the objective 'binary:logistic' was changed from 'error' to 'logloss'. Explicitly set eval_metric if you'd like to restore the old behavior.\n",
            "[20:59:01] WARNING: /Users/runner/miniforge3/conda-bld/xgboost-split_1643227205751/work/src/learner.cc:1115: Starting in XGBoost 1.3.0, the default evaluation metric used with the objective 'binary:logistic' was changed from 'error' to 'logloss'. Explicitly set eval_metric if you'd like to restore the old behavior.\n",
            "[20:59:17] WARNING: /Users/runner/miniforge3/conda-bld/xgboost-split_1643227205751/work/src/learner.cc:1115: Starting in XGBoost 1.3.0, the default evaluation metric used with the objective 'binary:logistic' was changed from 'error' to 'logloss'. Explicitly set eval_metric if you'd like to restore the old behavior.\n",
            "[20:59:33] WARNING: /Users/runner/miniforge3/conda-bld/xgboost-split_1643227205751/work/src/learner.cc:1115: Starting in XGBoost 1.3.0, the default evaluation metric used with the objective 'binary:logistic' was changed from 'error' to 'logloss'. Explicitly set eval_metric if you'd like to restore the old behavior.\n",
            "[20:59:50] WARNING: /Users/runner/miniforge3/conda-bld/xgboost-split_1643227205751/work/src/learner.cc:1115: Starting in XGBoost 1.3.0, the default evaluation metric used with the objective 'binary:logistic' was changed from 'error' to 'logloss'. Explicitly set eval_metric if you'd like to restore the old behavior.\n",
            "[0.6802575107296137, 0.6872362869198313, 0.7006485084306096, 0.7010363373999738, 0.6761470351489134]\n",
            "[0.639013181763212, 0.6335942203491872, 0.6413461538461538, 0.6442590775269872, 0.6341882439563137]\n",
            "[0.7756449443697273, 0.7843137254901962, 0.7827136648961854, 0.7839682342722423, 0.7740414443479341]\n",
            "[0.7473803812649918, 0.7554265522463404, 0.7548921224284998, 0.762386248736097, 0.7509851277488243]\n"
          ]
        },
        {
          "data": {
            "text/plain": [
              "Text(0.5, 1.0, 'No Balancing')"
            ]
          },
          "execution_count": 293,
          "metadata": {},
          "output_type": "execute_result"
        },
        {
          "data": {
            "image/png": "[encoded data removed]",
            "text/plain": [
              "<Figure size 720x360 with 1 Axes>"
            ]
          },
          "metadata": {},
          "output_type": "display_data"
        }
      ],
      "source": [
        "fig, ax = plt.subplots(figsize=(10, 5))\n",
        "\n",
        "plot_cross_val(models, X, y, ax, None, [m.__class__.__name__ for m in models])\n",
        "ax.legend()\n",
        "ax.set_ylim(-0.05, 1.05)\n",
        "ax.set_xticks([0, 1, 2, 3, 4])\n",
        "ax.set_xlabel('Folds', fontsize=20)\n",
        "ax.set_ylabel('F1 Score', fontsize=20)\n",
        "ax.set_title('No Balancing', fontsize=20)\n",
        "\n"
      ]
    },
    {
      "cell_type": "code",
      "execution_count": 294,
      "id": "4338262e",
      "metadata": {
        "id": "4338262e"
      },
      "outputs": [
        {
          "name": "stdout",
          "output_type": "stream",
          "text": [
            "[21:00:03] WARNING: /Users/runner/miniforge3/conda-bld/xgboost-split_1643227205751/work/src/learner.cc:1115: Starting in XGBoost 1.3.0, the default evaluation metric used with the objective 'binary:logistic' was changed from 'error' to 'logloss'. Explicitly set eval_metric if you'd like to restore the old behavior.\n",
            "[21:00:17] WARNING: /Users/runner/miniforge3/conda-bld/xgboost-split_1643227205751/work/src/learner.cc:1115: Starting in XGBoost 1.3.0, the default evaluation metric used with the objective 'binary:logistic' was changed from 'error' to 'logloss'. Explicitly set eval_metric if you'd like to restore the old behavior.\n",
            "[21:00:32] WARNING: /Users/runner/miniforge3/conda-bld/xgboost-split_1643227205751/work/src/learner.cc:1115: Starting in XGBoost 1.3.0, the default evaluation metric used with the objective 'binary:logistic' was changed from 'error' to 'logloss'. Explicitly set eval_metric if you'd like to restore the old behavior.\n",
            "[21:00:46] WARNING: /Users/runner/miniforge3/conda-bld/xgboost-split_1643227205751/work/src/learner.cc:1115: Starting in XGBoost 1.3.0, the default evaluation metric used with the objective 'binary:logistic' was changed from 'error' to 'logloss'. Explicitly set eval_metric if you'd like to restore the old behavior.\n",
            "[21:00:58] WARNING: /Users/runner/miniforge3/conda-bld/xgboost-split_1643227205751/work/src/learner.cc:1115: Starting in XGBoost 1.3.0, the default evaluation metric used with the objective 'binary:logistic' was changed from 'error' to 'logloss'. Explicitly set eval_metric if you'd like to restore the old behavior.\n",
            "[0.7087830928303601, 0.7034190889854104, 0.6991454888469648, 0.7118491921005385, 0.6952951620062139]\n",
            "[0.6338417442931723, 0.6462675839408564, 0.6429452900041135, 0.6330695543523531, 0.6421356421356422]\n",
            "[0.7839540280693998, 0.7826861021475465, 0.7775039211292853, 0.7849775784753363, 0.7721843955798638]\n",
            "[0.7652408218255304, 0.7650260830120208, 0.7595850248082994, 0.7712801986904493, 0.7567445023804127]\n"
          ]
        },
        {
          "data": {
            "text/plain": [
              "Text(0.5, 1.0, 'Undersampling')"
            ]
          },
          "execution_count": 294,
          "metadata": {},
          "output_type": "execute_result"
        },
        {
          "data": {
            "image/png": "[encoded data removed]",
            "text/plain": [
              "<Figure size 720x360 with 1 Axes>"
            ]
          },
          "metadata": {},
          "output_type": "display_data"
        }
      ],
      "source": [
        "fig, ax = plt.subplots(figsize=(10, 5))\n",
        "plot_cross_val(models, X, y, ax, 'undersampling', [m.__class__.__name__ for m in models])\n",
        "ax.legend()\n",
        "ax.set_ylim(-0.05, 1.05)\n",
        "ax.set_xticks([0, 1, 2, 3, 4])\n",
        "ax.set_xlabel('Folds', fontsize=20)\n",
        "ax.set_ylabel('F1 Score', fontsize=20)\n",
        "ax.set_title('Undersampling', fontsize=20)"
      ]
    },
    {
      "cell_type": "code",
      "execution_count": 295,
      "id": "6213ae56",
      "metadata": {
        "id": "6213ae56"
      },
      "outputs": [
        {
          "name": "stdout",
          "output_type": "stream",
          "text": [
            "[21:01:18] WARNING: /Users/runner/miniforge3/conda-bld/xgboost-split_1643227205751/work/src/learner.cc:1115: Starting in XGBoost 1.3.0, the default evaluation metric used with the objective 'binary:logistic' was changed from 'error' to 'logloss'. Explicitly set eval_metric if you'd like to restore the old behavior.\n",
            "[21:01:38] WARNING: /Users/runner/miniforge3/conda-bld/xgboost-split_1643227205751/work/src/learner.cc:1115: Starting in XGBoost 1.3.0, the default evaluation metric used with the objective 'binary:logistic' was changed from 'error' to 'logloss'. Explicitly set eval_metric if you'd like to restore the old behavior.\n",
            "[21:01:59] WARNING: /Users/runner/miniforge3/conda-bld/xgboost-split_1643227205751/work/src/learner.cc:1115: Starting in XGBoost 1.3.0, the default evaluation metric used with the objective 'binary:logistic' was changed from 'error' to 'logloss'. Explicitly set eval_metric if you'd like to restore the old behavior.\n",
            "[21:02:19] WARNING: /Users/runner/miniforge3/conda-bld/xgboost-split_1643227205751/work/src/learner.cc:1115: Starting in XGBoost 1.3.0, the default evaluation metric used with the objective 'binary:logistic' was changed from 'error' to 'logloss'. Explicitly set eval_metric if you'd like to restore the old behavior.\n",
            "[21:02:39] WARNING: /Users/runner/miniforge3/conda-bld/xgboost-split_1643227205751/work/src/learner.cc:1115: Starting in XGBoost 1.3.0, the default evaluation metric used with the objective 'binary:logistic' was changed from 'error' to 'logloss'. Explicitly set eval_metric if you'd like to restore the old behavior.\n",
            "[0.7032023770221195, 0.7056306306306307, 0.7095525446886028, 0.7072285179887776, 0.696547144754316]\n",
            "[0.64998953317982, 0.6441685238246843, 0.6508698900629737, 0.6518273113158712, 0.6389267372392831]\n",
            "[0.7901670195248177, 0.780429308070512, 0.78440866723157, 0.7817460317460317, 0.7749207467418104]\n",
            "[0.7649738100660441, 0.7695511337343822, 0.7727910238429173, 0.7623997288441984, 0.7574584377135049]\n"
          ]
        },
        {
          "data": {
            "text/plain": [
              "Text(0.5, 1.0, 'Oversampling')"
            ]
          },
          "execution_count": 295,
          "metadata": {},
          "output_type": "execute_result"
        },
        {
          "data": {
            "image/png": "[encoded data removed]",
            "text/plain": [
              "<Figure size 720x360 with 1 Axes>"
            ]
          },
          "metadata": {},
          "output_type": "display_data"
        }
      ],
      "source": [
        "fig, ax = plt.subplots(figsize=(10, 5))\n",
        "plot_cross_val(models, X, y, ax, 'oversampling', [m.__class__.__name__ for m in models])\n",
        "ax.legend()\n",
        "ax.set_ylim(-0.05, 1.05)\n",
        "ax.set_xticks([0, 1, 2, 3, 4])\n",
        "ax.set_xlabel('Folds', fontsize=20)\n",
        "ax.set_ylabel('F1 Score', fontsize=20)\n",
        "ax.set_title('Oversampling')"
      ]
    },
    {
      "cell_type": "code",
      "execution_count": 296,
      "id": "53d5397f",
      "metadata": {
        "id": "53d5397f"
      },
      "outputs": [
        {
          "name": "stdout",
          "output_type": "stream",
          "text": [
            "[21:03:09] WARNING: /Users/runner/miniforge3/conda-bld/xgboost-split_1643227205751/work/src/learner.cc:1115: Starting in XGBoost 1.3.0, the default evaluation metric used with the objective 'binary:logistic' was changed from 'error' to 'logloss'. Explicitly set eval_metric if you'd like to restore the old behavior.\n",
            "[21:03:34] WARNING: /Users/runner/miniforge3/conda-bld/xgboost-split_1643227205751/work/src/learner.cc:1115: Starting in XGBoost 1.3.0, the default evaluation metric used with the objective 'binary:logistic' was changed from 'error' to 'logloss'. Explicitly set eval_metric if you'd like to restore the old behavior.\n",
            "[21:04:00] WARNING: /Users/runner/miniforge3/conda-bld/xgboost-split_1643227205751/work/src/learner.cc:1115: Starting in XGBoost 1.3.0, the default evaluation metric used with the objective 'binary:logistic' was changed from 'error' to 'logloss'. Explicitly set eval_metric if you'd like to restore the old behavior.\n",
            "[21:04:26] WARNING: /Users/runner/miniforge3/conda-bld/xgboost-split_1643227205751/work/src/learner.cc:1115: Starting in XGBoost 1.3.0, the default evaluation metric used with the objective 'binary:logistic' was changed from 'error' to 'logloss'. Explicitly set eval_metric if you'd like to restore the old behavior.\n",
            "[21:04:51] WARNING: /Users/runner/miniforge3/conda-bld/xgboost-split_1643227205751/work/src/learner.cc:1115: Starting in XGBoost 1.3.0, the default evaluation metric used with the objective 'binary:logistic' was changed from 'error' to 'logloss'. Explicitly set eval_metric if you'd like to restore the old behavior.\n",
            "[0.694153272769625, 0.6971031286210891, 0.7086107921928817, 0.7003618536243726, 0.7002163269953319]\n",
            "[0.6468012389191499, 0.641770691282912, 0.6458941225510629, 0.6427364864864865, 0.6556653352953542]\n",
            "[0.7818751506387082, 0.7829560585885486, 0.7845461009717942, 0.7783462224866151, 0.7768891011101826]\n",
            "[0.7608350628738859, 0.7610031964593067, 0.7656702025072324, 0.7621936423198253, 0.7591452372328867]\n"
          ]
        },
        {
          "data": {
            "text/plain": [
              "Text(0.5, 1.0, 'SMOTE')"
            ]
          },
          "execution_count": 296,
          "metadata": {},
          "output_type": "execute_result"
        },
        {
          "data": {
            "image/png": "[encoded data removed]",
            "text/plain": [
              "<Figure size 720x360 with 1 Axes>"
            ]
          },
          "metadata": {},
          "output_type": "display_data"
        }
      ],
      "source": [
        "fig, ax = plt.subplots(figsize=(10, 5))\n",
        "plot_cross_val(models, X, y, ax, 'smote', [m.__class__.__name__ for m in models])\n",
        "ax.legend()\n",
        "ax.set_ylim(-0.05, 1.05)\n",
        "ax.set_xticks([0, 1, 2, 3, 4])\n",
        "ax.set_xlabel('Folds', fontsize=20)\n",
        "ax.set_ylabel('F1 Score', fontsize=20)\n",
        "ax.set_title('SMOTE')"
      ]
    },
    {
      "cell_type": "code",
      "execution_count": 297,
      "id": "2ce35d7f",
      "metadata": {
        "id": "2ce35d7f"
      },
      "outputs": [
        {
          "name": "stdout",
          "output_type": "stream",
          "text": [
            "[21:05:14] WARNING: /Users/runner/miniforge3/conda-bld/xgboost-split_1643227205751/work/src/learner.cc:1115: Starting in XGBoost 1.3.0, the default evaluation metric used with the objective 'binary:logistic' was changed from 'error' to 'logloss'. Explicitly set eval_metric if you'd like to restore the old behavior.\n",
            "[21:05:34] WARNING: /Users/runner/miniforge3/conda-bld/xgboost-split_1643227205751/work/src/learner.cc:1115: Starting in XGBoost 1.3.0, the default evaluation metric used with the objective 'binary:logistic' was changed from 'error' to 'logloss'. Explicitly set eval_metric if you'd like to restore the old behavior.\n",
            "[21:05:55] WARNING: /Users/runner/miniforge3/conda-bld/xgboost-split_1643227205751/work/src/learner.cc:1115: Starting in XGBoost 1.3.0, the default evaluation metric used with the objective 'binary:logistic' was changed from 'error' to 'logloss'. Explicitly set eval_metric if you'd like to restore the old behavior.\n",
            "[21:06:15] WARNING: /Users/runner/miniforge3/conda-bld/xgboost-split_1643227205751/work/src/learner.cc:1115: Starting in XGBoost 1.3.0, the default evaluation metric used with the objective 'binary:logistic' was changed from 'error' to 'logloss'. Explicitly set eval_metric if you'd like to restore the old behavior.\n",
            "[21:06:36] WARNING: /Users/runner/miniforge3/conda-bld/xgboost-split_1643227205751/work/src/learner.cc:1115: Starting in XGBoost 1.3.0, the default evaluation metric used with the objective 'binary:logistic' was changed from 'error' to 'logloss'. Explicitly set eval_metric if you'd like to restore the old behavior.\n",
            "[0.7065167508031207, 0.7094433737671466, 0.7015073165364726, 0.7076266427047062, 0.699240448928693]\n",
            "[0.6437723167401807, 0.6445018069179143, 0.6473940524298001, 0.6387848522679983, 0.6504552980132451]\n",
            "[0.7802514707578728, 0.7825787965616046, 0.7845063985374771, 0.7760332486723621, 0.7890733056708161]\n",
            "[0.756446319737459, 0.7640554068210919, 0.7638376383763837, 0.7566366506841306, 0.7689983732279804]\n"
          ]
        },
        {
          "data": {
            "text/plain": [
              "Text(0.5, 1.0, 'SMOTE + Undersampling')"
            ]
          },
          "execution_count": 297,
          "metadata": {},
          "output_type": "execute_result"
        },
        {
          "data": {
            "image/png": "[encoded data removed]",
            "text/plain": [
              "<Figure size 720x360 with 1 Axes>"
            ]
          },
          "metadata": {},
          "output_type": "display_data"
        }
      ],
      "source": [
        "fig, ax = plt.subplots(figsize=(10, 5))\n",
        "plot_cross_val(models, X, y, ax, 'both', [m.__class__.__name__ for m in models])\n",
        "ax.legend()\n",
        "ax.set_ylim(-0.05, 1.05)\n",
        "ax.set_xticks([0, 1, 2, 3, 4])\n",
        "ax.set_xlabel('Folds', fontsize=20)\n",
        "ax.set_ylabel('F1 Score', fontsize=20)\n",
        "ax.set_title('SMOTE + Undersampling')"
      ]
    },
    {
      "cell_type": "markdown",
      "id": "9640070a",
      "metadata": {
        "id": "9640070a"
      },
      "source": [
        "Not balancing the data actually doesn't make much of a difference, so I decided to move forward with the data as is. It is likely that this is the case because the data is not too imbalanced."
      ]
    },
    {
      "cell_type": "markdown",
      "id": "34b452f5",
      "metadata": {
        "id": "34b452f5"
      },
      "source": [
        "# Train/Test Split"
      ]
    },
    {
      "cell_type": "code",
      "execution_count": 298,
      "id": "da7b7460",
      "metadata": {
        "id": "da7b7460"
      },
      "outputs": [],
      "source": [
        "# Train and test split data\n",
        "from sklearn.model_selection import train_test_split\n",
        "X_train,X_test,y_train,y_test = train_test_split(X,y,random_state = 42,stratify = y,test_size = 0.30)"
      ]
    },
    {
      "cell_type": "markdown",
      "id": "3cf3b591",
      "metadata": {
        "id": "3cf3b591"
      },
      "source": [
        "# Model Building"
      ]
    },
    {
      "cell_type": "markdown",
      "id": "47a49652",
      "metadata": {
        "id": "47a49652"
      },
      "source": [
        "### XGBoost"
      ]
    },
    {
      "cell_type": "code",
      "execution_count": 299,
      "id": "ed540e73",
      "metadata": {
        "colab": {
          "base_uri": "https://localhost:8080/",
          "height": 244
        },
        "id": "ed540e73",
        "outputId": "a55633ca-28e9-4a56-ffb6-b1864f8d0996"
      },
      "outputs": [
        {
          "name": "stdout",
          "output_type": "stream",
          "text": [
            "[21:15:24] WARNING: /Users/runner/miniforge3/conda-bld/xgboost-split_1643227205751/work/src/learner.cc:1115: Starting in XGBoost 1.3.0, the default evaluation metric used with the objective 'binary:logistic' was changed from 'error' to 'logloss'. Explicitly set eval_metric if you'd like to restore the old behavior.\n"
          ]
        },
        {
          "data": {
            "text/plain": [
              "XGBClassifier(base_score=0.5, booster='gbtree', colsample_bylevel=1,\n",
              "              colsample_bynode=1, colsample_bytree=1, enable_categorical=False,\n",
              "              gamma=0, gpu_id=-1, importance_type=None,\n",
              "              interaction_constraints='', learning_rate=0.300000012,\n",
              "              max_delta_step=0, max_depth=6, min_child_weight=1, missing=nan,\n",
              "              monotone_constraints='()', n_estimators=100, n_jobs=8,\n",
              "              num_parallel_tree=1, predictor='auto', random_state=0,\n",
              "              reg_alpha=0, reg_lambda=1, scale_pos_weight=1, subsample=1,\n",
              "              tree_method='exact', validate_parameters=1, verbosity=None)"
            ]
          },
          "execution_count": 299,
          "metadata": {},
          "output_type": "execute_result"
        }
      ],
      "source": [
        "xgb = XGBClassifier()\n",
        "xgb.fit(X_train,y_train)"
      ]
    },
    {
      "cell_type": "code",
      "execution_count": 300,
      "id": "6e809539",
      "metadata": {
        "colab": {
          "base_uri": "https://localhost:8080/"
        },
        "id": "6e809539",
        "outputId": "89e7b963-f232-44a4-e211-2dbb16475a53",
        "scrolled": true
      },
      "outputs": [
        {
          "name": "stdout",
          "output_type": "stream",
          "text": [
            "Training Accuracy : 0.8651874264582283\n",
            "Testing Accuracy : 0.8369473861153135\n"
          ]
        }
      ],
      "source": [
        "training_acc_xgb=xgb.score(X_train,y_train)\n",
        "testing_acc_xgb=xgb.score(X_test,y_test)\n",
        "\n",
        "y_predicted=xgb.predict(X_test)\n",
        "\n",
        "recall_xgb=recall_score(y_test,y_predicted)\n",
        "accuracy_xgb=accuracy_score(y_test,y_predicted)\n",
        "precision_xgb=precision_score(y_test,y_predicted)\n",
        "f1_xgb=f1_score(y_test,y_predicted)\n",
        "\n",
        "print(f\"Training Accuracy : {training_acc_xgb}\")\n",
        "print(f\"Testing Accuracy : {testing_acc_xgb}\")\n",
        "\n",
        "#Model is not over or under fitting"
      ]
    },
    {
      "cell_type": "code",
      "execution_count": 301,
      "id": "bbd01910",
      "metadata": {
        "colab": {
          "base_uri": "https://localhost:8080/",
          "height": 337
        },
        "id": "bbd01910",
        "outputId": "8d14edac-b5a6-48db-ff62-0a1eabec4e3a"
      },
      "outputs": [
        {
          "data": {
            "text/plain": [
              "<AxesSubplot:>"
            ]
          },
          "execution_count": 301,
          "metadata": {},
          "output_type": "execute_result"
        },
        {
          "data": {
            "image/png": "[encoded data removed]",
            "text/plain": [
              "<Figure size 504x360 with 2 Axes>"
            ]
          },
          "metadata": {},
          "output_type": "display_data"
        }
      ],
      "source": [
        "\n",
        "cm=confusion_matrix(y_test, y_predicted)\n",
        "df_stacked_model = pd.DataFrame(data = cm, index = ['actual 1', 'actual 0'], columns = ['Predicted 1', 'Predicted 0'])\n",
        "\n",
        "\n",
        "plt.figure(figsize = (7, 5))\n",
        "sns.heatmap(df_stacked_model, annot = True,fmt='g')"
      ]
    },
    {
      "cell_type": "code",
      "execution_count": 302,
      "id": "d2c45c3d",
      "metadata": {
        "colab": {
          "base_uri": "https://localhost:8080/"
        },
        "id": "d2c45c3d",
        "outputId": "3e818a16-9484-4ccd-ea81-29abeb0dbb4e"
      },
      "outputs": [
        {
          "name": "stdout",
          "output_type": "stream",
          "text": [
            "              precision    recall  f1-score   support\n",
            "\n",
            "           0       0.83      0.93      0.88     11276\n",
            "           1       0.85      0.68      0.75      6571\n",
            "\n",
            "    accuracy                           0.84     17847\n",
            "   macro avg       0.84      0.80      0.82     17847\n",
            "weighted avg       0.84      0.84      0.83     17847\n",
            "\n"
          ]
        }
      ],
      "source": [
        "print(classification_report(y_test, y_predicted))"
      ]
    },
    {
      "cell_type": "markdown",
      "id": "8uDOyoCf2z7h",
      "metadata": {
        "id": "8uDOyoCf2z7h"
      },
      "source": [
        "### LGB"
      ]
    },
    {
      "cell_type": "code",
      "execution_count": 303,
      "id": "Baqdp1Hh22pt",
      "metadata": {
        "colab": {
          "base_uri": "https://localhost:8080/",
          "height": 74
        },
        "id": "Baqdp1Hh22pt",
        "outputId": "29b4f8ce-48ac-47b1-afe7-1c7248d58c92"
      },
      "outputs": [
        {
          "data": {
            "text/plain": [
              "LGBMClassifier()"
            ]
          },
          "execution_count": 303,
          "metadata": {},
          "output_type": "execute_result"
        }
      ],
      "source": [
        "lgb_model = lgb.LGBMClassifier()\n",
        "lgb_model.fit(X_train,y_train)"
      ]
    },
    {
      "cell_type": "code",
      "execution_count": 304,
      "id": "V9Jczn0z3B6C",
      "metadata": {
        "colab": {
          "base_uri": "https://localhost:8080/"
        },
        "id": "V9Jczn0z3B6C",
        "outputId": "cf8206d5-9ceb-4226-d9e6-e5ef28da5522"
      },
      "outputs": [
        {
          "name": "stdout",
          "output_type": "stream",
          "text": [
            "Training Accuracy : 0.8434550824868525\n",
            "Testing Accuracy : 0.8339776993332213\n"
          ]
        }
      ],
      "source": [
        "training_acc_lgb=lgb_model.score(X_train,y_train)\n",
        "testing_acc_lgb=lgb_model.score(X_test,y_test)\n",
        "\n",
        "y_predicted=lgb_model.predict(X_test)\n",
        "\n",
        "recall_lgb=recall_score(y_test,y_predicted)\n",
        "accuracy_lgb=accuracy_score(y_test,y_predicted)\n",
        "precision_lgb=precision_score(y_test,y_predicted)\n",
        "f1_lgb=f1_score(y_test,y_predicted)\n",
        "\n",
        "print(f\"Training Accuracy : {training_acc_lgb}\")\n",
        "print(f\"Testing Accuracy : {testing_acc_lgb}\")\n",
        "\n",
        "#Model is not overfitting or underfitting"
      ]
    },
    {
      "cell_type": "code",
      "execution_count": 305,
      "id": "mLAyur203PbZ",
      "metadata": {
        "colab": {
          "base_uri": "https://localhost:8080/",
          "height": 337
        },
        "id": "mLAyur203PbZ",
        "outputId": "0487cac8-0236-42e0-a436-021e2910be17"
      },
      "outputs": [
        {
          "data": {
            "text/plain": [
              "<AxesSubplot:>"
            ]
          },
          "execution_count": 305,
          "metadata": {},
          "output_type": "execute_result"
        },
        {
          "data": {
            "image/png": "[encoded data removed]",
            "text/plain": [
              "<Figure size 504x360 with 2 Axes>"
            ]
          },
          "metadata": {},
          "output_type": "display_data"
        }
      ],
      "source": [
        "\n",
        "cm=confusion_matrix(y_test, y_predicted)\n",
        "df_stacked_model = pd.DataFrame(data = cm, index = ['actual 1', 'actual 0'], columns = ['Predicted 1', 'Predicted 0'])\n",
        "\n",
        "\n",
        "plt.figure(figsize = (7, 5))\n",
        "sns.heatmap(df_stacked_model, annot = True,fmt='g')"
      ]
    },
    {
      "cell_type": "code",
      "execution_count": 306,
      "id": "UR_N3tSy3SBy",
      "metadata": {
        "colab": {
          "base_uri": "https://localhost:8080/"
        },
        "id": "UR_N3tSy3SBy",
        "outputId": "c98ee902-c6ec-4fce-ce80-f8bee0b221af"
      },
      "outputs": [
        {
          "name": "stdout",
          "output_type": "stream",
          "text": [
            "              precision    recall  f1-score   support\n",
            "\n",
            "           0       0.82      0.94      0.88     11276\n",
            "           1       0.86      0.66      0.74      6571\n",
            "\n",
            "    accuracy                           0.83     17847\n",
            "   macro avg       0.84      0.80      0.81     17847\n",
            "weighted avg       0.84      0.83      0.83     17847\n",
            "\n"
          ]
        }
      ],
      "source": [
        "print(classification_report(y_test, y_predicted))"
      ]
    },
    {
      "cell_type": "markdown",
      "id": "3c781871",
      "metadata": {
        "id": "3c781871"
      },
      "source": [
        "### Decision Tree"
      ]
    },
    {
      "cell_type": "code",
      "execution_count": 307,
      "id": "c890df97",
      "metadata": {
        "colab": {
          "base_uri": "https://localhost:8080/",
          "height": 74
        },
        "id": "c890df97",
        "outputId": "140cf1d9-d4fa-4fff-faa8-c57ffd65166f"
      },
      "outputs": [
        {
          "data": {
            "text/plain": [
              "DecisionTreeClassifier()"
            ]
          },
          "execution_count": 307,
          "metadata": {},
          "output_type": "execute_result"
        }
      ],
      "source": [
        "dt_model = DecisionTreeClassifier()\n",
        "dt_model.fit(X_train,y_train)"
      ]
    },
    {
      "cell_type": "code",
      "execution_count": 308,
      "id": "7477929b",
      "metadata": {
        "colab": {
          "base_uri": "https://localhost:8080/"
        },
        "id": "7477929b",
        "outputId": "c070cb35-7825-4d51-c525-8f175522738c"
      },
      "outputs": [
        {
          "name": "stdout",
          "output_type": "stream",
          "text": [
            "Training Accuracy : 0.9923396489205869\n",
            "Testing Accuracy : 0.794251134644478\n"
          ]
        }
      ],
      "source": [
        "training_acc_dt=dt_model.score(X_train,y_train)\n",
        "testing_acc_dt=dt_model.score(X_test,y_test)\n",
        "\n",
        "y_predicted=dt_model.predict(X_test)\n",
        "\n",
        "recall_dt=recall_score(y_test,y_predicted)\n",
        "accuracy_dt=accuracy_score(y_test,y_predicted)\n",
        "precision_dt=precision_score(y_test,y_predicted)\n",
        "f1_dt=f1_score(y_test,y_predicted)\n",
        "\n",
        "print(f\"Training Accuracy : {training_acc_dt}\")\n",
        "print(f\"Testing Accuracy : {testing_acc_dt}\")\n",
        "\n",
        "#Model is overfitting"
      ]
    },
    {
      "cell_type": "code",
      "execution_count": 309,
      "id": "c9a67e75",
      "metadata": {
        "colab": {
          "base_uri": "https://localhost:8080/",
          "height": 337
        },
        "id": "c9a67e75",
        "outputId": "8308a659-5b84-47d1-add8-c5ea8ea71322"
      },
      "outputs": [
        {
          "data": {
            "text/plain": [
              "<AxesSubplot:>"
            ]
          },
          "execution_count": 309,
          "metadata": {},
          "output_type": "execute_result"
        },
        {
          "data": {
            "image/png": "[encoded data removed]",
            "text/plain": [
              "<Figure size 504x360 with 2 Axes>"
            ]
          },
          "metadata": {},
          "output_type": "display_data"
        }
      ],
      "source": [
        "\n",
        "cm=confusion_matrix(y_test, y_predicted)\n",
        "df_stacked_model = pd.DataFrame(data = cm, index = ['actual 1', 'actual 0'], columns = ['Predicted 1', 'Predicted 0'])\n",
        "\n",
        "\n",
        "plt.figure(figsize = (7, 5))\n",
        "sns.heatmap(df_stacked_model, annot = True,fmt='g')"
      ]
    },
    {
      "cell_type": "code",
      "execution_count": 310,
      "id": "4d422495",
      "metadata": {
        "colab": {
          "base_uri": "https://localhost:8080/"
        },
        "id": "4d422495",
        "outputId": "18485e02-1982-41b2-d15a-55a51ac5abe6"
      },
      "outputs": [
        {
          "name": "stdout",
          "output_type": "stream",
          "text": [
            "              precision    recall  f1-score   support\n",
            "\n",
            "           0       0.84      0.83      0.84     11276\n",
            "           1       0.72      0.73      0.72      6571\n",
            "\n",
            "    accuracy                           0.79     17847\n",
            "   macro avg       0.78      0.78      0.78     17847\n",
            "weighted avg       0.79      0.79      0.79     17847\n",
            "\n"
          ]
        }
      ],
      "source": [
        "\n",
        "print(classification_report(y_test, y_predicted))"
      ]
    },
    {
      "cell_type": "markdown",
      "id": "aac9df5f",
      "metadata": {
        "id": "aac9df5f"
      },
      "source": [
        "### RandomForest"
      ]
    },
    {
      "cell_type": "code",
      "execution_count": 311,
      "id": "21d276e4",
      "metadata": {
        "colab": {
          "base_uri": "https://localhost:8080/",
          "height": 94
        },
        "id": "21d276e4",
        "outputId": "24634349-90cf-47db-dbe3-e98d1222b5f6"
      },
      "outputs": [
        {
          "data": {
            "text/plain": [
              "RandomForestClassifier()"
            ]
          },
          "execution_count": 311,
          "metadata": {},
          "output_type": "execute_result"
        }
      ],
      "source": [
        "rf_model = RandomForestClassifier( )\n",
        "rf_model.fit(X_train,y_train)"
      ]
    },
    {
      "cell_type": "code",
      "execution_count": 312,
      "id": "390a3bdd",
      "metadata": {
        "colab": {
          "base_uri": "https://localhost:8080/"
        },
        "id": "390a3bdd",
        "outputId": "c431cbe8-f971-4989-f5eb-88ce1d6a4d7c"
      },
      "outputs": [
        {
          "name": "stdout",
          "output_type": "stream",
          "text": [
            "Training Accuracy : 0.9923396489205869\n",
            "Testing Accuracy : 0.8477054967221381\n"
          ]
        }
      ],
      "source": [
        "training_acc_rf=rf_model.score(X_train,y_train)\n",
        "testing_acc_rf=rf_model.score(X_test,y_test)\n",
        "\n",
        "y_predicted=rf_model.predict(X_test)\n",
        "\n",
        "recall_rf=recall_score(y_test,y_predicted)\n",
        "accuracy_rf=accuracy_score(y_test,y_predicted)\n",
        "precision_rf=precision_score(y_test,y_predicted)\n",
        "f1_rf=f1_score(y_test,y_predicted)\n",
        "\n",
        "print(f\"Training Accuracy : {training_acc_rf}\")\n",
        "print(f\"Testing Accuracy : {testing_acc_rf}\")\n",
        "\n",
        "#Model is overfitting"
      ]
    },
    {
      "cell_type": "code",
      "execution_count": 313,
      "id": "0620b691",
      "metadata": {
        "colab": {
          "base_uri": "https://localhost:8080/",
          "height": 71
        },
        "id": "0620b691",
        "outputId": "6279b75e-1244-4514-d02a-da971818c99b"
      },
      "outputs": [
        {
          "data": {
            "text/plain": [
              "<AxesSubplot:>"
            ]
          },
          "execution_count": 313,
          "metadata": {},
          "output_type": "execute_result"
        },
        {
          "data": {
            "image/png": "[encoded data removed]",
            "text/plain": [
              "<Figure size 504x360 with 2 Axes>"
            ]
          },
          "metadata": {},
          "output_type": "display_data"
        }
      ],
      "source": [
        "\n",
        "cm=confusion_matrix(y_test, y_predicted)\n",
        "df_stacked_model = pd.DataFrame(data = cm, index = ['actual 1', 'actual 0'], columns = ['Predicted 1', 'Predicted 0'])\n",
        "\n",
        "\n",
        "plt.figure(figsize = (7, 5))\n",
        "sns.heatmap(df_stacked_model, annot = True,fmt='g')"
      ]
    },
    {
      "cell_type": "code",
      "execution_count": 314,
      "id": "9b4d10ae",
      "metadata": {
        "colab": {
          "base_uri": "https://localhost:8080/"
        },
        "id": "9b4d10ae",
        "outputId": "b9fe7942-2c27-43fb-9da2-b24116a711e3"
      },
      "outputs": [
        {
          "name": "stdout",
          "output_type": "stream",
          "text": [
            "              precision    recall  f1-score   support\n",
            "\n",
            "           0       0.85      0.92      0.88     11276\n",
            "           1       0.84      0.72      0.78      6571\n",
            "\n",
            "    accuracy                           0.85     17847\n",
            "   macro avg       0.85      0.82      0.83     17847\n",
            "weighted avg       0.85      0.85      0.84     17847\n",
            "\n"
          ]
        }
      ],
      "source": [
        "print(classification_report(y_test, y_predicted))"
      ]
    },
    {
      "cell_type": "markdown",
      "id": "yw1ROYYP09pu",
      "metadata": {
        "id": "yw1ROYYP09pu"
      },
      "source": [
        "### SVC"
      ]
    },
    {
      "cell_type": "code",
      "execution_count": 315,
      "id": "LwF1fww81DSo",
      "metadata": {
        "colab": {
          "base_uri": "https://localhost:8080/",
          "height": 74
        },
        "id": "LwF1fww81DSo",
        "outputId": "1e090945-5b32-4c0f-99c4-ed6d38a82a50"
      },
      "outputs": [
        {
          "data": {
            "text/plain": [
              "SVC()"
            ]
          },
          "execution_count": 315,
          "metadata": {},
          "output_type": "execute_result"
        }
      ],
      "source": [
        "svc_model = SVC( )\n",
        "svc_model.fit(X_train,y_train)"
      ]
    },
    {
      "cell_type": "code",
      "execution_count": 316,
      "id": "73ee3d80",
      "metadata": {},
      "outputs": [
        {
          "name": "stdout",
          "output_type": "stream",
          "text": [
            "Training Accuracy : 0.6878226832841053\n",
            "Testing Accuracy : 0.6889113016193198\n"
          ]
        }
      ],
      "source": [
        "training_acc_svc=svc_model.score(X_train,y_train)\n",
        "testing_acc_svc=svc_model.score(X_test,y_test)\n",
        "\n",
        "y_predicted=svc_model.predict(X_test)\n",
        "\n",
        "recall_svc=recall_score(y_test,y_predicted)\n",
        "accuracy_svc=accuracy_score(y_test,y_predicted)\n",
        "precision_svc=precision_score(y_test,y_predicted)\n",
        "f1_svc=f1_score(y_test,y_predicted)\n",
        "\n",
        "print(f\"Training Accuracy : {training_acc_svc}\")\n",
        "print(f\"Testing Accuracy : {testing_acc_svc}\")\n",
        "\n",
        "#Model is not overfitting"
      ]
    },
    {
      "cell_type": "code",
      "execution_count": 317,
      "id": "ZcURP-DY1ngs",
      "metadata": {
        "colab": {
          "base_uri": "https://localhost:8080/",
          "height": 337
        },
        "id": "ZcURP-DY1ngs",
        "outputId": "25c42ae2-8f57-487b-f8cd-7ce0b9e22cd8"
      },
      "outputs": [
        {
          "data": {
            "text/plain": [
              "<AxesSubplot:>"
            ]
          },
          "execution_count": 317,
          "metadata": {},
          "output_type": "execute_result"
        },
        {
          "data": {
            "image/png": "[encoded data removed]",
            "text/plain": [
              "<Figure size 504x360 with 2 Axes>"
            ]
          },
          "metadata": {},
          "output_type": "display_data"
        }
      ],
      "source": [
        "\n",
        "cm=confusion_matrix(y_test, y_predicted)\n",
        "df_stacked_model = pd.DataFrame(data = cm, index = ['actual 1', 'actual 0'], columns = ['Predicted 1', 'Predicted 0'])\n",
        "\n",
        "\n",
        "plt.figure(figsize = (7, 5))\n",
        "sns.heatmap(df_stacked_model, annot = True,fmt='g')"
      ]
    },
    {
      "cell_type": "code",
      "execution_count": 318,
      "id": "pFXf1vuE1rc9",
      "metadata": {
        "colab": {
          "base_uri": "https://localhost:8080/"
        },
        "id": "pFXf1vuE1rc9",
        "outputId": "494d651f-773d-4942-9d04-7dfa752aca6c"
      },
      "outputs": [
        {
          "name": "stdout",
          "output_type": "stream",
          "text": [
            "              precision    recall  f1-score   support\n",
            "\n",
            "           0       0.68      0.94      0.79     11276\n",
            "           1       0.72      0.25      0.37      6571\n",
            "\n",
            "    accuracy                           0.69     17847\n",
            "   macro avg       0.70      0.60      0.58     17847\n",
            "weighted avg       0.70      0.69      0.64     17847\n",
            "\n"
          ]
        }
      ],
      "source": [
        "print(classification_report(y_test, y_predicted))"
      ]
    },
    {
      "cell_type": "markdown",
      "id": "r8RvxJNBj-Pb",
      "metadata": {
        "id": "r8RvxJNBj-Pb"
      },
      "source": [
        "### Logistic Regression"
      ]
    },
    {
      "cell_type": "code",
      "execution_count": 319,
      "id": "gHF-eCsLkEoQ",
      "metadata": {
        "colab": {
          "base_uri": "https://localhost:8080/",
          "height": 94
        },
        "id": "gHF-eCsLkEoQ",
        "outputId": "9faf88f8-b13f-4e46-e732-6a87ba01b3a5"
      },
      "outputs": [
        {
          "data": {
            "text/plain": [
              "LogisticRegression()"
            ]
          },
          "execution_count": 319,
          "metadata": {},
          "output_type": "execute_result"
        }
      ],
      "source": [
        "lreg_model = LogisticRegression( )\n",
        "lreg_model.fit(X_train,y_train)"
      ]
    },
    {
      "cell_type": "code",
      "execution_count": 320,
      "id": "AbqqpORikWsA",
      "metadata": {
        "colab": {
          "base_uri": "https://localhost:8080/"
        },
        "id": "AbqqpORikWsA",
        "outputId": "f53c26e8-a875-4f97-bc85-8ae803dd43fd"
      },
      "outputs": [
        {
          "name": "stdout",
          "output_type": "stream",
          "text": [
            "Training Accuracy : 0.7980212760848162\n",
            "Testing Accuracy : 0.7995741581218132\n"
          ]
        }
      ],
      "source": [
        "training_acc_lreg=lreg_model.score(X_train,y_train)\n",
        "testing_acc_lreg=lreg_model.score(X_test,y_test)\n",
        "\n",
        "y_predicted=lreg_model.predict(X_test)\n",
        "\n",
        "recall_lreg=recall_score(y_test,y_predicted)\n",
        "accuracy_lreg=accuracy_score(y_test,y_predicted)\n",
        "precision_lreg=precision_score(y_test,y_predicted)\n",
        "f1_lreg=f1_score(y_test,y_predicted)\n",
        "\n",
        "print(f\"Training Accuracy : {training_acc_lreg}\")\n",
        "print(f\"Testing Accuracy : {testing_acc_lreg}\")\n",
        "\n",
        "#Model is not overfitting or underfitting"
      ]
    },
    {
      "cell_type": "code",
      "execution_count": 321,
      "id": "mUVrze9VkqvV",
      "metadata": {
        "colab": {
          "base_uri": "https://localhost:8080/",
          "height": 71
        },
        "id": "mUVrze9VkqvV",
        "outputId": "457225c1-765b-4175-a159-ddc6c5a0f44f"
      },
      "outputs": [
        {
          "data": {
            "text/plain": [
              "<AxesSubplot:>"
            ]
          },
          "execution_count": 321,
          "metadata": {},
          "output_type": "execute_result"
        },
        {
          "data": {
            "image/png": "[encoded data removed]",
            "text/plain": [
              "<Figure size 504x360 with 2 Axes>"
            ]
          },
          "metadata": {},
          "output_type": "display_data"
        }
      ],
      "source": [
        "\n",
        "cm=confusion_matrix(y_test, y_predicted)\n",
        "df_stacked_model = pd.DataFrame(data = cm, index = ['actual 1', 'actual 0'], columns = ['Predicted 1', 'Predicted 0'])\n",
        "\n",
        "\n",
        "plt.figure(figsize = (7, 5))\n",
        "sns.heatmap(df_stacked_model, annot = True,fmt='g')"
      ]
    },
    {
      "cell_type": "code",
      "execution_count": 322,
      "id": "TgX4c4xqkukJ",
      "metadata": {
        "colab": {
          "base_uri": "https://localhost:8080/"
        },
        "id": "TgX4c4xqkukJ",
        "outputId": "701514d5-6fb8-4878-c4f0-011d808a71b3"
      },
      "outputs": [
        {
          "name": "stdout",
          "output_type": "stream",
          "text": [
            "              precision    recall  f1-score   support\n",
            "\n",
            "           0       0.79      0.93      0.85     11276\n",
            "           1       0.83      0.57      0.68      6571\n",
            "\n",
            "    accuracy                           0.80     17847\n",
            "   macro avg       0.81      0.75      0.77     17847\n",
            "weighted avg       0.80      0.80      0.79     17847\n",
            "\n"
          ]
        }
      ],
      "source": [
        "print(classification_report(y_test, y_predicted))"
      ]
    },
    {
      "attachments": {},
      "cell_type": "markdown",
      "id": "79ccce2c",
      "metadata": {},
      "source": [
        "### AdaBoost"
      ]
    },
    {
      "cell_type": "code",
      "execution_count": 323,
      "id": "57d4a3f2",
      "metadata": {},
      "outputs": [
        {
          "data": {
            "text/plain": [
              "AdaBoostClassifier()"
            ]
          },
          "execution_count": 323,
          "metadata": {},
          "output_type": "execute_result"
        }
      ],
      "source": [
        "\n",
        "adaboost_model = AdaBoostClassifier()\n",
        "\n",
        "# Fit the classifier to the data\n",
        "adaboost_model.fit(X_train, y_train)"
      ]
    },
    {
      "cell_type": "code",
      "execution_count": 324,
      "id": "0a3425a8",
      "metadata": {},
      "outputs": [
        {
          "name": "stdout",
          "output_type": "stream",
          "text": [
            "Training Accuracy : 0.8154791921811589\n",
            "Testing Accuracy : 0.8135821146411162\n"
          ]
        }
      ],
      "source": [
        "training_acc_adaboost_model=adaboost_model.score(X_train,y_train)\n",
        "testing_acc_adaboost_model=adaboost_model.score(X_test,y_test)\n",
        "\n",
        "y_predicted=adaboost_model.predict(X_test)\n",
        "\n",
        "recall_adaboost_model=recall_score(y_test,y_predicted)\n",
        "accuracy_adaboost_model=accuracy_score(y_test,y_predicted)\n",
        "precision_adaboost_model=precision_score(y_test,y_predicted)\n",
        "f1_adaboost_model=f1_score(y_test,y_predicted)\n",
        "\n",
        "print(f\"Training Accuracy : {training_acc_adaboost_model}\")\n",
        "print(f\"Testing Accuracy : {testing_acc_adaboost_model}\")\n",
        "\n",
        "#Model is  overfitting "
      ]
    },
    {
      "attachments": {},
      "cell_type": "markdown",
      "id": "c9fdee4c",
      "metadata": {},
      "source": [
        "### Bagging Classifier"
      ]
    },
    {
      "cell_type": "code",
      "execution_count": 325,
      "id": "e2f3b849",
      "metadata": {},
      "outputs": [
        {
          "data": {
            "text/plain": [
              "BaggingClassifier()"
            ]
          },
          "execution_count": 325,
          "metadata": {},
          "output_type": "execute_result"
        }
      ],
      "source": [
        "bagging_model = BaggingClassifier()\n",
        "\n",
        "# Fit the classifier to the data\n",
        "bagging_model.fit(X_train, y_train)"
      ]
    },
    {
      "cell_type": "code",
      "execution_count": 326,
      "id": "728ba6f9",
      "metadata": {},
      "outputs": [
        {
          "name": "stdout",
          "output_type": "stream",
          "text": [
            "Training Accuracy : 0.9796844607737195\n",
            "Testing Accuracy : 0.8363870678545414\n"
          ]
        }
      ],
      "source": [
        "training_acc_bagging_model=bagging_model.score(X_train,y_train)\n",
        "testing_acc_bagging_model=bagging_model.score(X_test,y_test)\n",
        "\n",
        "y_predicted=bagging_model.predict(X_test)\n",
        "\n",
        "recall_bagging_model=recall_score(y_test,y_predicted)\n",
        "accuracy_bagging_model=accuracy_score(y_test,y_predicted)\n",
        "precision_bagging_model=precision_score(y_test,y_predicted)\n",
        "f1_bagging_model=f1_score(y_test,y_predicted)\n",
        "\n",
        "print(f\"Training Accuracy : {training_acc_bagging_model}\")\n",
        "print(f\"Testing Accuracy : {testing_acc_bagging_model}\")\n",
        "\n",
        "#Model is  overfitting "
      ]
    },
    {
      "cell_type": "code",
      "execution_count": 327,
      "id": "1717c3ad",
      "metadata": {},
      "outputs": [
        {
          "data": {
            "text/plain": [
              "<AxesSubplot:>"
            ]
          },
          "execution_count": 327,
          "metadata": {},
          "output_type": "execute_result"
        },
        {
          "data": {
            "image/png": "[encoded data removed]",
            "text/plain": [
              "<Figure size 504x360 with 2 Axes>"
            ]
          },
          "metadata": {},
          "output_type": "display_data"
        }
      ],
      "source": [
        "\n",
        "cm=confusion_matrix(y_test, y_predicted)\n",
        "df_stacked_model = pd.DataFrame(data = cm, index = ['actual 1', 'actual 0'], columns = ['Predicted 1', 'Predicted 0'])\n",
        "\n",
        "\n",
        "plt.figure(figsize = (7, 5))\n",
        "sns.heatmap(df_stacked_model, annot = True,fmt='g')"
      ]
    },
    {
      "cell_type": "code",
      "execution_count": 328,
      "id": "a98be1b3",
      "metadata": {},
      "outputs": [
        {
          "name": "stdout",
          "output_type": "stream",
          "text": [
            "              precision    recall  f1-score   support\n",
            "\n",
            "           0       0.84      0.92      0.88     11276\n",
            "           1       0.83      0.70      0.76      6571\n",
            "\n",
            "    accuracy                           0.84     17847\n",
            "   macro avg       0.83      0.81      0.82     17847\n",
            "weighted avg       0.84      0.84      0.83     17847\n",
            "\n"
          ]
        }
      ],
      "source": [
        "print(classification_report(y_test, y_predicted))"
      ]
    },
    {
      "cell_type": "markdown",
      "id": "a33b971b",
      "metadata": {
        "id": "a33b971b"
      },
      "source": [
        "\n",
        "#  Comparing Each Models Evaluation Matrix"
      ]
    },
    {
      "cell_type": "code",
      "execution_count": 329,
      "id": "d400873b",
      "metadata": {
        "id": "d400873b"
      },
      "outputs": [],
      "source": [
        "from IPython.core.display import display, HTML\n",
        "\n",
        "def display_side_by_side(dfs:list, captions:list):\n",
        "    \"\"\"Display tables side by side to save vertical space\n",
        "    Input:\n",
        "        dfs: list of pandas.DataFrame\n",
        "        captions: list of table captions\n",
        "    \"\"\"\n",
        "    output = \"\"\n",
        "    combined = dict(zip(captions, dfs))\n",
        "    for caption, df in combined.items():\n",
        "        output += df.style.set_table_attributes(\"style='display:inline'\").set_caption(caption)._repr_html_()\n",
        "        output += \"\\xa0\\xa0\\xa0\"\n",
        "    display(HTML(output))"
      ]
    },
    {
      "cell_type": "code",
      "execution_count": 330,
      "id": "a7ebcfe6",
      "metadata": {
        "colab": {
          "base_uri": "https://localhost:8080/",
          "height": 358
        },
        "id": "a7ebcfe6",
        "outputId": "5fa0fb7d-7ce8-42fb-ec5a-c0db01e02f47"
      },
      "outputs": [
        {
          "name": "stdout",
          "output_type": "stream",
          "text": [
            "\n"
          ]
        },
        {
          "data": {
            "text/html": [
              "<style type=\"text/css\">\n",
              "</style>\n",
              "<table id=\"T_c6cce_\" style='display:inline'>\n",
              "  <caption>Evaluation Matrix</caption>\n",
              "  <thead>\n",
              "    <tr>\n",
              "      <th class=\"blank level0\" >&nbsp;</th>\n",
              "      <th class=\"col_heading level0 col0\" >Logistic Regression</th>\n",
              "      <th class=\"col_heading level0 col1\" >SVC</th>\n",
              "      <th class=\"col_heading level0 col2\" >Decision Tree</th>\n",
              "      <th class=\"col_heading level0 col3\" >Random Forest</th>\n",
              "      <th class=\"col_heading level0 col4\" >XGB</th>\n",
              "      <th class=\"col_heading level0 col5\" >LGB</th>\n",
              "      <th class=\"col_heading level0 col6\" >Bagging Classifier</th>\n",
              "    </tr>\n",
              "  </thead>\n",
              "  <tbody>\n",
              "    <tr>\n",
              "      <th id=\"T_c6cce_level0_row0\" class=\"row_heading level0 row0\" >Accuracy</th>\n",
              "      <td id=\"T_c6cce_row0_col0\" class=\"data row0 col0\" >0.799574</td>\n",
              "      <td id=\"T_c6cce_row0_col1\" class=\"data row0 col1\" >0.688911</td>\n",
              "      <td id=\"T_c6cce_row0_col2\" class=\"data row0 col2\" >0.794251</td>\n",
              "      <td id=\"T_c6cce_row0_col3\" class=\"data row0 col3\" >0.847705</td>\n",
              "      <td id=\"T_c6cce_row0_col4\" class=\"data row0 col4\" >0.836947</td>\n",
              "      <td id=\"T_c6cce_row0_col5\" class=\"data row0 col5\" >0.833978</td>\n",
              "      <td id=\"T_c6cce_row0_col6\" class=\"data row0 col6\" >0.836387</td>\n",
              "    </tr>\n",
              "    <tr>\n",
              "      <th id=\"T_c6cce_level0_row1\" class=\"row_heading level0 row1\" >Recall</th>\n",
              "      <td id=\"T_c6cce_row1_col0\" class=\"data row1 col0\" >0.571755</td>\n",
              "      <td id=\"T_c6cce_row1_col1\" class=\"data row1 col1\" >0.252777</td>\n",
              "      <td id=\"T_c6cce_row1_col2\" class=\"data row1 col2\" >0.726982</td>\n",
              "      <td id=\"T_c6cce_row1_col3\" class=\"data row1 col3\" >0.721656</td>\n",
              "      <td id=\"T_c6cce_row1_col4\" class=\"data row1 col4\" >0.682240</td>\n",
              "      <td id=\"T_c6cce_row1_col5\" class=\"data row1 col5\" >0.658499</td>\n",
              "      <td id=\"T_c6cce_row1_col6\" class=\"data row1 col6\" >0.698980</td>\n",
              "    </tr>\n",
              "    <tr>\n",
              "      <th id=\"T_c6cce_level0_row2\" class=\"row_heading level0 row2\" >Precision</th>\n",
              "      <td id=\"T_c6cce_row2_col0\" class=\"data row2 col0\" >0.831195</td>\n",
              "      <td id=\"T_c6cce_row2_col1\" class=\"data row2 col1\" >0.721233</td>\n",
              "      <td id=\"T_c6cce_row2_col2\" class=\"data row2 col2\" >0.717806</td>\n",
              "      <td id=\"T_c6cce_row2_col3\" class=\"data row2 col3\" >0.842124</td>\n",
              "      <td id=\"T_c6cce_row2_col4\" class=\"data row2 col4\" >0.845052</td>\n",
              "      <td id=\"T_c6cce_row2_col5\" class=\"data row2 col5\" >0.857511</td>\n",
              "      <td id=\"T_c6cce_row2_col6\" class=\"data row2 col6\" >0.829810</td>\n",
              "    </tr>\n",
              "    <tr>\n",
              "      <th id=\"T_c6cce_level0_row3\" class=\"row_heading level0 row3\" >F1 Score</th>\n",
              "      <td id=\"T_c6cce_row3_col0\" class=\"data row3 col0\" >0.677486</td>\n",
              "      <td id=\"T_c6cce_row3_col1\" class=\"data row3 col1\" >0.374352</td>\n",
              "      <td id=\"T_c6cce_row3_col2\" class=\"data row3 col2\" >0.722365</td>\n",
              "      <td id=\"T_c6cce_row3_col3\" class=\"data row3 col3\" >0.777250</td>\n",
              "      <td id=\"T_c6cce_row3_col4\" class=\"data row3 col4\" >0.754968</td>\n",
              "      <td id=\"T_c6cce_row3_col5\" class=\"data row3 col5\" >0.744943</td>\n",
              "      <td id=\"T_c6cce_row3_col6\" class=\"data row3 col6\" >0.758797</td>\n",
              "    </tr>\n",
              "  </tbody>\n",
              "</table>\n",
              "   "
            ],
            "text/plain": [
              "<IPython.core.display.HTML object>"
            ]
          },
          "metadata": {},
          "output_type": "display_data"
        },
        {
          "name": "stdout",
          "output_type": "stream",
          "text": [
            "\n",
            "\n"
          ]
        },
        {
          "data": {
            "text/html": [
              "<style type=\"text/css\">\n",
              "</style>\n",
              "<table id=\"T_7b4e0_\" style='display:inline'>\n",
              "  <caption>Accuracy Train & Test</caption>\n",
              "  <thead>\n",
              "    <tr>\n",
              "      <th class=\"blank level0\" >&nbsp;</th>\n",
              "      <th class=\"col_heading level0 col0\" >training</th>\n",
              "      <th class=\"col_heading level0 col1\" >testing</th>\n",
              "    </tr>\n",
              "  </thead>\n",
              "  <tbody>\n",
              "    <tr>\n",
              "      <th id=\"T_7b4e0_level0_row0\" class=\"row_heading level0 row0\" >Logistic Regresion</th>\n",
              "      <td id=\"T_7b4e0_row0_col0\" class=\"data row0 col0\" >0.798021</td>\n",
              "      <td id=\"T_7b4e0_row0_col1\" class=\"data row0 col1\" >0.799574</td>\n",
              "    </tr>\n",
              "    <tr>\n",
              "      <th id=\"T_7b4e0_level0_row1\" class=\"row_heading level0 row1\" >SVC</th>\n",
              "      <td id=\"T_7b4e0_row1_col0\" class=\"data row1 col0\" >0.687823</td>\n",
              "      <td id=\"T_7b4e0_row1_col1\" class=\"data row1 col1\" >0.688911</td>\n",
              "    </tr>\n",
              "    <tr>\n",
              "      <th id=\"T_7b4e0_level0_row2\" class=\"row_heading level0 row2\" >Decision Tree</th>\n",
              "      <td id=\"T_7b4e0_row2_col0\" class=\"data row2 col0\" >0.992340</td>\n",
              "      <td id=\"T_7b4e0_row2_col1\" class=\"data row2 col1\" >0.794251</td>\n",
              "    </tr>\n",
              "    <tr>\n",
              "      <th id=\"T_7b4e0_level0_row3\" class=\"row_heading level0 row3\" >Random Forest</th>\n",
              "      <td id=\"T_7b4e0_row3_col0\" class=\"data row3 col0\" >0.992340</td>\n",
              "      <td id=\"T_7b4e0_row3_col1\" class=\"data row3 col1\" >0.847705</td>\n",
              "    </tr>\n",
              "    <tr>\n",
              "      <th id=\"T_7b4e0_level0_row4\" class=\"row_heading level0 row4\" >XGB</th>\n",
              "      <td id=\"T_7b4e0_row4_col0\" class=\"data row4 col0\" >0.865187</td>\n",
              "      <td id=\"T_7b4e0_row4_col1\" class=\"data row4 col1\" >0.836947</td>\n",
              "    </tr>\n",
              "    <tr>\n",
              "      <th id=\"T_7b4e0_level0_row5\" class=\"row_heading level0 row5\" >LGB</th>\n",
              "      <td id=\"T_7b4e0_row5_col0\" class=\"data row5 col0\" >0.843455</td>\n",
              "      <td id=\"T_7b4e0_row5_col1\" class=\"data row5 col1\" >0.833978</td>\n",
              "    </tr>\n",
              "    <tr>\n",
              "      <th id=\"T_7b4e0_level0_row6\" class=\"row_heading level0 row6\" >Bagging Classifier</th>\n",
              "      <td id=\"T_7b4e0_row6_col0\" class=\"data row6 col0\" >0.979684</td>\n",
              "      <td id=\"T_7b4e0_row6_col1\" class=\"data row6 col1\" >0.836387</td>\n",
              "    </tr>\n",
              "  </tbody>\n",
              "</table>\n",
              "   "
            ],
            "text/plain": [
              "<IPython.core.display.HTML object>"
            ]
          },
          "metadata": {},
          "output_type": "display_data"
        }
      ],
      "source": [
        "evaluation_matrix_base = {\n",
        "    'Logistic Regression': [accuracy_lreg, recall_lreg, precision_lreg, f1_lreg],\n",
        "    'SVC':[accuracy_svc,recall_svc,precision_svc, f1_svc],\n",
        "    'Decision Tree':[accuracy_dt, recall_dt, precision_dt, f1_dt],\n",
        "    'Random Forest':[accuracy_rf, recall_rf, precision_rf, f1_rf],\n",
        "    'XGB':[accuracy_xgb, recall_xgb, precision_xgb, f1_xgb],\n",
        "    'LGB':[accuracy_lgb, recall_lgb, precision_lgb, f1_lgb],\n",
        "    'Bagging Classifier':[accuracy_bagging_model, recall_bagging_model, precision_bagging_model, f1_bagging_model],\n",
        "\n",
        "}\n",
        "\n",
        "\n",
        "eva_base = pd.DataFrame(data = evaluation_matrix_base, index = ['Accuracy', 'Recall', 'Precision', 'F1 Score'])\n",
        "\n",
        "evaluation_matrix_base_training = {\n",
        "    \"training\" : [training_acc_lreg, training_acc_svc, training_acc_dt, training_acc_rf, training_acc_xgb,training_acc_lgb,training_acc_bagging_model],\n",
        "    \"testing\": [testing_acc_lreg, testing_acc_svc, testing_acc_dt, testing_acc_rf, testing_acc_xgb,testing_acc_lgb,testing_acc_bagging_model]\n",
        "}\n",
        "    \n",
        "\n",
        "eva_base_train = pd.DataFrame(data = evaluation_matrix_base_training, index = ['Logistic Regresion', 'SVC', 'Decision Tree', 'Random Forest', 'XGB','LGB','Bagging Classifier'])\n",
        "\n",
        "print()\n",
        "display_side_by_side([eva_base], ['Evaluation Matrix'])\n",
        "print(\"\\n\")\n",
        "display_side_by_side([eva_base_train], ['Accuracy Train & Test'])\n",
        "\n"
      ]
    },
    {
      "cell_type": "markdown",
      "id": "b1192cc6",
      "metadata": {
        "id": "b1192cc6"
      },
      "source": [
        "# Applying Hyper Parameter Tuning using Grid SeachCV for  alogorithms to check best score and best parameters\n"
      ]
    },
    {
      "cell_type": "code",
      "execution_count": 331,
      "id": "7a813d6d",
      "metadata": {
        "id": "7a813d6d"
      },
      "outputs": [],
      "source": [
        "from sklearn.model_selection import GridSearchCV\n",
        "met_grid= {\"F1\": \"f1\", \"Accuracy\": \"accuracy\"}\n"
      ]
    },
    {
      "cell_type": "markdown",
      "id": "113f3c44",
      "metadata": {
        "id": "113f3c44"
      },
      "source": [
        "### XGB"
      ]
    },
    {
      "cell_type": "code",
      "execution_count": 332,
      "id": "08b02649",
      "metadata": {
        "colab": {
          "base_uri": "https://localhost:8080/"
        },
        "id": "08b02649",
        "outputId": "9bebd0d2-cd34-4886-e740-957178c95d00"
      },
      "outputs": [
        {
          "name": "stderr",
          "output_type": "stream",
          "text": [
            "/Users/hansikarunarathna/opt/anaconda3/lib/python3.9/site-packages/xgboost/sklearn.py:1224: UserWarning: The use of label encoder in XGBClassifier is deprecated and will be removed in a future release. To remove this warning, do the following: 1) Pass option use_label_encoder=False when constructing XGBClassifier object; and 2) Encode your labels (y) as integers starting with 0, i.e. 0, 1, 2, ..., [num_class - 1].\n",
            "  warnings.warn(label_encoder_deprecation_msg, UserWarning)\n",
            "/Users/hansikarunarathna/opt/anaconda3/lib/python3.9/site-packages/xgboost/sklearn.py:1224: UserWarning: The use of label encoder in XGBClassifier is deprecated and will be removed in a future release. To remove this warning, do the following: 1) Pass option use_label_encoder=False when constructing XGBClassifier object; and 2) Encode your labels (y) as integers starting with 0, i.e. 0, 1, 2, ..., [num_class - 1].\n",
            "  warnings.warn(label_encoder_deprecation_msg, UserWarning)\n",
            "/Users/hansikarunarathna/opt/anaconda3/lib/python3.9/site-packages/xgboost/sklearn.py:1224: UserWarning: The use of label encoder in XGBClassifier is deprecated and will be removed in a future release. To remove this warning, do the following: 1) Pass option use_label_encoder=False when constructing XGBClassifier object; and 2) Encode your labels (y) as integers starting with 0, i.e. 0, 1, 2, ..., [num_class - 1].\n",
            "  warnings.warn(label_encoder_deprecation_msg, UserWarning)\n",
            "/Users/hansikarunarathna/opt/anaconda3/lib/python3.9/site-packages/xgboost/sklearn.py:1224: UserWarning: The use of label encoder in XGBClassifier is deprecated and will be removed in a future release. To remove this warning, do the following: 1) Pass option use_label_encoder=False when constructing XGBClassifier object; and 2) Encode your labels (y) as integers starting with 0, i.e. 0, 1, 2, ..., [num_class - 1].\n",
            "  warnings.warn(label_encoder_deprecation_msg, UserWarning)\n",
            "/Users/hansikarunarathna/opt/anaconda3/lib/python3.9/site-packages/xgboost/sklearn.py:1224: UserWarning: The use of label encoder in XGBClassifier is deprecated and will be removed in a future release. To remove this warning, do the following: 1) Pass option use_label_encoder=False when constructing XGBClassifier object; and 2) Encode your labels (y) as integers starting with 0, i.e. 0, 1, 2, ..., [num_class - 1].\n",
            "  warnings.warn(label_encoder_deprecation_msg, UserWarning)\n",
            "/Users/hansikarunarathna/opt/anaconda3/lib/python3.9/site-packages/xgboost/sklearn.py:1224: UserWarning: The use of label encoder in XGBClassifier is deprecated and will be removed in a future release. To remove this warning, do the following: 1) Pass option use_label_encoder=False when constructing XGBClassifier object; and 2) Encode your labels (y) as integers starting with 0, i.e. 0, 1, 2, ..., [num_class - 1].\n",
            "  warnings.warn(label_encoder_deprecation_msg, UserWarning)\n",
            "/Users/hansikarunarathna/opt/anaconda3/lib/python3.9/site-packages/xgboost/sklearn.py:1224: UserWarning: The use of label encoder in XGBClassifier is deprecated and will be removed in a future release. To remove this warning, do the following: 1) Pass option use_label_encoder=False when constructing XGBClassifier object; and 2) Encode your labels (y) as integers starting with 0, i.e. 0, 1, 2, ..., [num_class - 1].\n",
            "  warnings.warn(label_encoder_deprecation_msg, UserWarning)\n",
            "/Users/hansikarunarathna/opt/anaconda3/lib/python3.9/site-packages/xgboost/sklearn.py:1224: UserWarning: The use of label encoder in XGBClassifier is deprecated and will be removed in a future release. To remove this warning, do the following: 1) Pass option use_label_encoder=False when constructing XGBClassifier object; and 2) Encode your labels (y) as integers starting with 0, i.e. 0, 1, 2, ..., [num_class - 1].\n",
            "  warnings.warn(label_encoder_deprecation_msg, UserWarning)\n"
          ]
        },
        {
          "name": "stdout",
          "output_type": "stream",
          "text": [
            "[21:28:34] WARNING: /Users/runner/miniforge3/conda-bld/xgboost-split_1643227205751/work/src/learner.cc:1115: Starting in XGBoost 1.3.0, the default evaluation metric used with the objective 'binary:logistic' was changed from 'error' to 'logloss'. Explicitly set eval_metric if you'd like to restore the old behavior.\n",
            "[21:28:34] WARNING: /Users/runner/miniforge3/conda-bld/xgboost-split_1643227205751/work/src/learner.cc:1115: Starting in XGBoost 1.3.0, the default evaluation metric used with the objective 'binary:logistic' was changed from 'error' to 'logloss'. Explicitly set eval_metric if you'd like to restore the old behavior.\n",
            "[21:28:34] WARNING: /Users/runner/miniforge3/conda-bld/xgboost-split_1643227205751/work/src/learner.cc:1115: Starting in XGBoost 1.3.0, the default evaluation metric used with the objective 'binary:logistic' was changed from 'error' to 'logloss'. Explicitly set eval_metric if you'd like to restore the old behavior.\n",
            "[21:28:34] WARNING: /Users/runner/miniforge3/conda-bld/xgboost-split_1643227205751/work/src/learner.cc:1115: Starting in XGBoost 1.3.0, the default evaluation metric used with the objective 'binary:logistic' was changed from 'error' to 'logloss'. Explicitly set eval_metric if you'd like to restore the old behavior.\n",
            "[21:28:34] WARNING: /Users/runner/miniforge3/conda-bld/xgboost-split_1643227205751/work/src/learner.cc:1115: Starting in XGBoost 1.3.0, the default evaluation metric used with the objective 'binary:logistic' was changed from 'error' to 'logloss'. Explicitly set eval_metric if you'd like to restore the old behavior.\n",
            "[21:28:34] WARNING: /Users/runner/miniforge3/conda-bld/xgboost-split_1643227205751/work/src/learner.cc:1115: Starting in XGBoost 1.3.0, the default evaluation metric used with the objective 'binary:logistic' was changed from 'error' to 'logloss'. Explicitly set eval_metric if you'd like to restore the old behavior.\n",
            "[21:28:34] WARNING: /Users/runner/miniforge3/conda-bld/xgboost-split_1643227205751/work/src/learner.cc:1115: Starting in XGBoost 1.3.0, the default evaluation metric used with the objective 'binary:logistic' was changed from 'error' to 'logloss'. Explicitly set eval_metric if you'd like to restore the old behavior.\n",
            "[21:28:34] WARNING: /Users/runner/miniforge3/conda-bld/xgboost-split_1643227205751/work/src/learner.cc:1115: Starting in XGBoost 1.3.0, the default evaluation metric used with the objective 'binary:logistic' was changed from 'error' to 'logloss'. Explicitly set eval_metric if you'd like to restore the old behavior.\n"
          ]
        },
        {
          "name": "stderr",
          "output_type": "stream",
          "text": [
            "/Users/hansikarunarathna/opt/anaconda3/lib/python3.9/site-packages/xgboost/sklearn.py:1224: UserWarning: The use of label encoder in XGBClassifier is deprecated and will be removed in a future release. To remove this warning, do the following: 1) Pass option use_label_encoder=False when constructing XGBClassifier object; and 2) Encode your labels (y) as integers starting with 0, i.e. 0, 1, 2, ..., [num_class - 1].\n",
            "  warnings.warn(label_encoder_deprecation_msg, UserWarning)\n",
            "/Users/hansikarunarathna/opt/anaconda3/lib/python3.9/site-packages/xgboost/sklearn.py:1224: UserWarning: The use of label encoder in XGBClassifier is deprecated and will be removed in a future release. To remove this warning, do the following: 1) Pass option use_label_encoder=False when constructing XGBClassifier object; and 2) Encode your labels (y) as integers starting with 0, i.e. 0, 1, 2, ..., [num_class - 1].\n",
            "  warnings.warn(label_encoder_deprecation_msg, UserWarning)\n",
            "/Users/hansikarunarathna/opt/anaconda3/lib/python3.9/site-packages/xgboost/sklearn.py:1224: UserWarning: The use of label encoder in XGBClassifier is deprecated and will be removed in a future release. To remove this warning, do the following: 1) Pass option use_label_encoder=False when constructing XGBClassifier object; and 2) Encode your labels (y) as integers starting with 0, i.e. 0, 1, 2, ..., [num_class - 1].\n",
            "  warnings.warn(label_encoder_deprecation_msg, UserWarning)\n"
          ]
        },
        {
          "name": "stdout",
          "output_type": "stream",
          "text": [
            "[21:28:38] WARNING: /Users/runner/miniforge3/conda-bld/xgboost-split_1643227205751/work/src/learner.cc:1115: Starting in XGBoost 1.3.0, the default evaluation metric used with the objective 'binary:logistic' was changed from 'error' to 'logloss'. Explicitly set eval_metric if you'd like to restore the old behavior.\n",
            "[21:28:38] WARNING: /Users/runner/miniforge3/conda-bld/xgboost-split_1643227205751/work/src/learner.cc:1115: Starting in XGBoost 1.3.0, the default evaluation metric used with the objective 'binary:logistic' was changed from 'error' to 'logloss'. Explicitly set eval_metric if you'd like to restore the old behavior.\n",
            "[21:28:38] WARNING: /Users/runner/miniforge3/conda-bld/xgboost-split_1643227205751/work/src/learner.cc:1115: Starting in XGBoost 1.3.0, the default evaluation metric used with the objective 'binary:logistic' was changed from 'error' to 'logloss'. Explicitly set eval_metric if you'd like to restore the old behavior.\n"
          ]
        },
        {
          "name": "stderr",
          "output_type": "stream",
          "text": [
            "/Users/hansikarunarathna/opt/anaconda3/lib/python3.9/site-packages/xgboost/sklearn.py:1224: UserWarning: The use of label encoder in XGBClassifier is deprecated and will be removed in a future release. To remove this warning, do the following: 1) Pass option use_label_encoder=False when constructing XGBClassifier object; and 2) Encode your labels (y) as integers starting with 0, i.e. 0, 1, 2, ..., [num_class - 1].\n",
            "  warnings.warn(label_encoder_deprecation_msg, UserWarning)\n",
            "/Users/hansikarunarathna/opt/anaconda3/lib/python3.9/site-packages/xgboost/sklearn.py:1224: UserWarning: The use of label encoder in XGBClassifier is deprecated and will be removed in a future release. To remove this warning, do the following: 1) Pass option use_label_encoder=False when constructing XGBClassifier object; and 2) Encode your labels (y) as integers starting with 0, i.e. 0, 1, 2, ..., [num_class - 1].\n",
            "  warnings.warn(label_encoder_deprecation_msg, UserWarning)\n",
            "/Users/hansikarunarathna/opt/anaconda3/lib/python3.9/site-packages/xgboost/sklearn.py:1224: UserWarning: The use of label encoder in XGBClassifier is deprecated and will be removed in a future release. To remove this warning, do the following: 1) Pass option use_label_encoder=False when constructing XGBClassifier object; and 2) Encode your labels (y) as integers starting with 0, i.e. 0, 1, 2, ..., [num_class - 1].\n",
            "  warnings.warn(label_encoder_deprecation_msg, UserWarning)\n"
          ]
        },
        {
          "name": "stdout",
          "output_type": "stream",
          "text": [
            "[21:28:42] WARNING: /Users/runner/miniforge3/conda-bld/xgboost-split_1643227205751/work/src/learner.cc:1115: Starting in XGBoost 1.3.0, the default evaluation metric used with the objective 'binary:logistic' was changed from 'error' to 'logloss'. Explicitly set eval_metric if you'd like to restore the old behavior.\n",
            "[21:28:42] WARNING: /Users/runner/miniforge3/conda-bld/xgboost-split_1643227205751/work/src/learner.cc:1115: Starting in XGBoost 1.3.0, the default evaluation metric used with the objective 'binary:logistic' was changed from 'error' to 'logloss'. Explicitly set eval_metric if you'd like to restore the old behavior.\n",
            "[21:28:42] WARNING: /Users/runner/miniforge3/conda-bld/xgboost-split_1643227205751/work/src/learner.cc:1115: Starting in XGBoost 1.3.0, the default evaluation metric used with the objective 'binary:logistic' was changed from 'error' to 'logloss'. Explicitly set eval_metric if you'd like to restore the old behavior.\n"
          ]
        },
        {
          "name": "stderr",
          "output_type": "stream",
          "text": [
            "/Users/hansikarunarathna/opt/anaconda3/lib/python3.9/site-packages/xgboost/sklearn.py:1224: UserWarning: The use of label encoder in XGBClassifier is deprecated and will be removed in a future release. To remove this warning, do the following: 1) Pass option use_label_encoder=False when constructing XGBClassifier object; and 2) Encode your labels (y) as integers starting with 0, i.e. 0, 1, 2, ..., [num_class - 1].\n",
            "  warnings.warn(label_encoder_deprecation_msg, UserWarning)\n",
            "/Users/hansikarunarathna/opt/anaconda3/lib/python3.9/site-packages/xgboost/sklearn.py:1224: UserWarning: The use of label encoder in XGBClassifier is deprecated and will be removed in a future release. To remove this warning, do the following: 1) Pass option use_label_encoder=False when constructing XGBClassifier object; and 2) Encode your labels (y) as integers starting with 0, i.e. 0, 1, 2, ..., [num_class - 1].\n",
            "  warnings.warn(label_encoder_deprecation_msg, UserWarning)\n"
          ]
        },
        {
          "name": "stdout",
          "output_type": "stream",
          "text": [
            "[21:28:44] WARNING: /Users/runner/miniforge3/conda-bld/xgboost-split_1643227205751/work/src/learner.cc:1115: Starting in XGBoost 1.3.0, the default evaluation metric used with the objective 'binary:logistic' was changed from 'error' to 'logloss'. Explicitly set eval_metric if you'd like to restore the old behavior.\n",
            "[21:28:44] WARNING: /Users/runner/miniforge3/conda-bld/xgboost-split_1643227205751/work/src/learner.cc:1115: Starting in XGBoost 1.3.0, the default evaluation metric used with the objective 'binary:logistic' was changed from 'error' to 'logloss'. Explicitly set eval_metric if you'd like to restore the old behavior.\n"
          ]
        },
        {
          "name": "stderr",
          "output_type": "stream",
          "text": [
            "/Users/hansikarunarathna/opt/anaconda3/lib/python3.9/site-packages/xgboost/sklearn.py:1224: UserWarning: The use of label encoder in XGBClassifier is deprecated and will be removed in a future release. To remove this warning, do the following: 1) Pass option use_label_encoder=False when constructing XGBClassifier object; and 2) Encode your labels (y) as integers starting with 0, i.e. 0, 1, 2, ..., [num_class - 1].\n",
            "  warnings.warn(label_encoder_deprecation_msg, UserWarning)\n"
          ]
        },
        {
          "name": "stdout",
          "output_type": "stream",
          "text": [
            "[21:28:47] WARNING: /Users/runner/miniforge3/conda-bld/xgboost-split_1643227205751/work/src/learner.cc:1115: Starting in XGBoost 1.3.0, the default evaluation metric used with the objective 'binary:logistic' was changed from 'error' to 'logloss'. Explicitly set eval_metric if you'd like to restore the old behavior.\n"
          ]
        },
        {
          "name": "stderr",
          "output_type": "stream",
          "text": [
            "/Users/hansikarunarathna/opt/anaconda3/lib/python3.9/site-packages/xgboost/sklearn.py:1224: UserWarning: The use of label encoder in XGBClassifier is deprecated and will be removed in a future release. To remove this warning, do the following: 1) Pass option use_label_encoder=False when constructing XGBClassifier object; and 2) Encode your labels (y) as integers starting with 0, i.e. 0, 1, 2, ..., [num_class - 1].\n",
            "  warnings.warn(label_encoder_deprecation_msg, UserWarning)\n",
            "/Users/hansikarunarathna/opt/anaconda3/lib/python3.9/site-packages/xgboost/sklearn.py:1224: UserWarning: The use of label encoder in XGBClassifier is deprecated and will be removed in a future release. To remove this warning, do the following: 1) Pass option use_label_encoder=False when constructing XGBClassifier object; and 2) Encode your labels (y) as integers starting with 0, i.e. 0, 1, 2, ..., [num_class - 1].\n",
            "  warnings.warn(label_encoder_deprecation_msg, UserWarning)\n"
          ]
        },
        {
          "name": "stdout",
          "output_type": "stream",
          "text": [
            "[21:28:50] WARNING: /Users/runner/miniforge3/conda-bld/xgboost-split_1643227205751/work/src/learner.cc:1115: Starting in XGBoost 1.3.0, the default evaluation metric used with the objective 'binary:logistic' was changed from 'error' to 'logloss'. Explicitly set eval_metric if you'd like to restore the old behavior.\n",
            "[21:28:50] WARNING: /Users/runner/miniforge3/conda-bld/xgboost-split_1643227205751/work/src/learner.cc:1115: Starting in XGBoost 1.3.0, the default evaluation metric used with the objective 'binary:logistic' was changed from 'error' to 'logloss'. Explicitly set eval_metric if you'd like to restore the old behavior.\n"
          ]
        },
        {
          "name": "stderr",
          "output_type": "stream",
          "text": [
            "/Users/hansikarunarathna/opt/anaconda3/lib/python3.9/site-packages/xgboost/sklearn.py:1224: UserWarning: The use of label encoder in XGBClassifier is deprecated and will be removed in a future release. To remove this warning, do the following: 1) Pass option use_label_encoder=False when constructing XGBClassifier object; and 2) Encode your labels (y) as integers starting with 0, i.e. 0, 1, 2, ..., [num_class - 1].\n",
            "  warnings.warn(label_encoder_deprecation_msg, UserWarning)\n",
            "/Users/hansikarunarathna/opt/anaconda3/lib/python3.9/site-packages/xgboost/sklearn.py:1224: UserWarning: The use of label encoder in XGBClassifier is deprecated and will be removed in a future release. To remove this warning, do the following: 1) Pass option use_label_encoder=False when constructing XGBClassifier object; and 2) Encode your labels (y) as integers starting with 0, i.e. 0, 1, 2, ..., [num_class - 1].\n",
            "  warnings.warn(label_encoder_deprecation_msg, UserWarning)\n"
          ]
        },
        {
          "name": "stdout",
          "output_type": "stream",
          "text": [
            "[21:28:53] WARNING: /Users/runner/miniforge3/conda-bld/xgboost-split_1643227205751/work/src/learner.cc:1115: Starting in XGBoost 1.3.0, the default evaluation metric used with the objective 'binary:logistic' was changed from 'error' to 'logloss'. Explicitly set eval_metric if you'd like to restore the old behavior.\n",
            "[21:28:53] WARNING: /Users/runner/miniforge3/conda-bld/xgboost-split_1643227205751/work/src/learner.cc:1115: Starting in XGBoost 1.3.0, the default evaluation metric used with the objective 'binary:logistic' was changed from 'error' to 'logloss'. Explicitly set eval_metric if you'd like to restore the old behavior.\n"
          ]
        },
        {
          "name": "stderr",
          "output_type": "stream",
          "text": [
            "/Users/hansikarunarathna/opt/anaconda3/lib/python3.9/site-packages/xgboost/sklearn.py:1224: UserWarning: The use of label encoder in XGBClassifier is deprecated and will be removed in a future release. To remove this warning, do the following: 1) Pass option use_label_encoder=False when constructing XGBClassifier object; and 2) Encode your labels (y) as integers starting with 0, i.e. 0, 1, 2, ..., [num_class - 1].\n",
            "  warnings.warn(label_encoder_deprecation_msg, UserWarning)\n"
          ]
        },
        {
          "name": "stdout",
          "output_type": "stream",
          "text": [
            "[21:28:53] WARNING: /Users/runner/miniforge3/conda-bld/xgboost-split_1643227205751/work/src/learner.cc:1115: Starting in XGBoost 1.3.0, the default evaluation metric used with the objective 'binary:logistic' was changed from 'error' to 'logloss'. Explicitly set eval_metric if you'd like to restore the old behavior.\n"
          ]
        },
        {
          "name": "stderr",
          "output_type": "stream",
          "text": [
            "/Users/hansikarunarathna/opt/anaconda3/lib/python3.9/site-packages/xgboost/sklearn.py:1224: UserWarning: The use of label encoder in XGBClassifier is deprecated and will be removed in a future release. To remove this warning, do the following: 1) Pass option use_label_encoder=False when constructing XGBClassifier object; and 2) Encode your labels (y) as integers starting with 0, i.e. 0, 1, 2, ..., [num_class - 1].\n",
            "  warnings.warn(label_encoder_deprecation_msg, UserWarning)\n"
          ]
        },
        {
          "name": "stdout",
          "output_type": "stream",
          "text": [
            "[21:28:54] WARNING: /Users/runner/miniforge3/conda-bld/xgboost-split_1643227205751/work/src/learner.cc:1115: Starting in XGBoost 1.3.0, the default evaluation metric used with the objective 'binary:logistic' was changed from 'error' to 'logloss'. Explicitly set eval_metric if you'd like to restore the old behavior.\n"
          ]
        },
        {
          "name": "stderr",
          "output_type": "stream",
          "text": [
            "/Users/hansikarunarathna/opt/anaconda3/lib/python3.9/site-packages/xgboost/sklearn.py:1224: UserWarning: The use of label encoder in XGBClassifier is deprecated and will be removed in a future release. To remove this warning, do the following: 1) Pass option use_label_encoder=False when constructing XGBClassifier object; and 2) Encode your labels (y) as integers starting with 0, i.e. 0, 1, 2, ..., [num_class - 1].\n",
            "  warnings.warn(label_encoder_deprecation_msg, UserWarning)\n"
          ]
        },
        {
          "name": "stdout",
          "output_type": "stream",
          "text": [
            "[21:28:56] WARNING: /Users/runner/miniforge3/conda-bld/xgboost-split_1643227205751/work/src/learner.cc:1115: Starting in XGBoost 1.3.0, the default evaluation metric used with the objective 'binary:logistic' was changed from 'error' to 'logloss'. Explicitly set eval_metric if you'd like to restore the old behavior.\n"
          ]
        },
        {
          "name": "stderr",
          "output_type": "stream",
          "text": [
            "/Users/hansikarunarathna/opt/anaconda3/lib/python3.9/site-packages/xgboost/sklearn.py:1224: UserWarning: The use of label encoder in XGBClassifier is deprecated and will be removed in a future release. To remove this warning, do the following: 1) Pass option use_label_encoder=False when constructing XGBClassifier object; and 2) Encode your labels (y) as integers starting with 0, i.e. 0, 1, 2, ..., [num_class - 1].\n",
            "  warnings.warn(label_encoder_deprecation_msg, UserWarning)\n"
          ]
        },
        {
          "name": "stdout",
          "output_type": "stream",
          "text": [
            "[21:28:59] WARNING: /Users/runner/miniforge3/conda-bld/xgboost-split_1643227205751/work/src/learner.cc:1115: Starting in XGBoost 1.3.0, the default evaluation metric used with the objective 'binary:logistic' was changed from 'error' to 'logloss'. Explicitly set eval_metric if you'd like to restore the old behavior.\n",
            "[21:28:59] WARNING: /Users/runner/miniforge3/conda-bld/xgboost-split_1643227205751/work/src/learner.cc:1115: Starting in XGBoost 1.3.0, the default evaluation metric used with the objective 'binary:logistic' was changed from 'error' to 'logloss'. Explicitly set eval_metric if you'd like to restore the old behavior.\n"
          ]
        },
        {
          "name": "stderr",
          "output_type": "stream",
          "text": [
            "/Users/hansikarunarathna/opt/anaconda3/lib/python3.9/site-packages/xgboost/sklearn.py:1224: UserWarning: The use of label encoder in XGBClassifier is deprecated and will be removed in a future release. To remove this warning, do the following: 1) Pass option use_label_encoder=False when constructing XGBClassifier object; and 2) Encode your labels (y) as integers starting with 0, i.e. 0, 1, 2, ..., [num_class - 1].\n",
            "  warnings.warn(label_encoder_deprecation_msg, UserWarning)\n",
            "/Users/hansikarunarathna/opt/anaconda3/lib/python3.9/site-packages/xgboost/sklearn.py:1224: UserWarning: The use of label encoder in XGBClassifier is deprecated and will be removed in a future release. To remove this warning, do the following: 1) Pass option use_label_encoder=False when constructing XGBClassifier object; and 2) Encode your labels (y) as integers starting with 0, i.e. 0, 1, 2, ..., [num_class - 1].\n",
            "  warnings.warn(label_encoder_deprecation_msg, UserWarning)\n"
          ]
        },
        {
          "name": "stdout",
          "output_type": "stream",
          "text": [
            "[21:29:04] WARNING: /Users/runner/miniforge3/conda-bld/xgboost-split_1643227205751/work/src/learner.cc:1115: Starting in XGBoost 1.3.0, the default evaluation metric used with the objective 'binary:logistic' was changed from 'error' to 'logloss'. Explicitly set eval_metric if you'd like to restore the old behavior.\n"
          ]
        },
        {
          "name": "stderr",
          "output_type": "stream",
          "text": [
            "/Users/hansikarunarathna/opt/anaconda3/lib/python3.9/site-packages/xgboost/sklearn.py:1224: UserWarning: The use of label encoder in XGBClassifier is deprecated and will be removed in a future release. To remove this warning, do the following: 1) Pass option use_label_encoder=False when constructing XGBClassifier object; and 2) Encode your labels (y) as integers starting with 0, i.e. 0, 1, 2, ..., [num_class - 1].\n",
            "  warnings.warn(label_encoder_deprecation_msg, UserWarning)\n"
          ]
        },
        {
          "name": "stdout",
          "output_type": "stream",
          "text": [
            "[21:29:06] WARNING: /Users/runner/miniforge3/conda-bld/xgboost-split_1643227205751/work/src/learner.cc:1115: Starting in XGBoost 1.3.0, the default evaluation metric used with the objective 'binary:logistic' was changed from 'error' to 'logloss'. Explicitly set eval_metric if you'd like to restore the old behavior.\n"
          ]
        },
        {
          "name": "stderr",
          "output_type": "stream",
          "text": [
            "/Users/hansikarunarathna/opt/anaconda3/lib/python3.9/site-packages/xgboost/sklearn.py:1224: UserWarning: The use of label encoder in XGBClassifier is deprecated and will be removed in a future release. To remove this warning, do the following: 1) Pass option use_label_encoder=False when constructing XGBClassifier object; and 2) Encode your labels (y) as integers starting with 0, i.e. 0, 1, 2, ..., [num_class - 1].\n",
            "  warnings.warn(label_encoder_deprecation_msg, UserWarning)\n"
          ]
        },
        {
          "name": "stdout",
          "output_type": "stream",
          "text": [
            "[21:29:07] WARNING: /Users/runner/miniforge3/conda-bld/xgboost-split_1643227205751/work/src/learner.cc:1115: Starting in XGBoost 1.3.0, the default evaluation metric used with the objective 'binary:logistic' was changed from 'error' to 'logloss'. Explicitly set eval_metric if you'd like to restore the old behavior.\n"
          ]
        },
        {
          "name": "stderr",
          "output_type": "stream",
          "text": [
            "/Users/hansikarunarathna/opt/anaconda3/lib/python3.9/site-packages/xgboost/sklearn.py:1224: UserWarning: The use of label encoder in XGBClassifier is deprecated and will be removed in a future release. To remove this warning, do the following: 1) Pass option use_label_encoder=False when constructing XGBClassifier object; and 2) Encode your labels (y) as integers starting with 0, i.e. 0, 1, 2, ..., [num_class - 1].\n",
            "  warnings.warn(label_encoder_deprecation_msg, UserWarning)\n"
          ]
        },
        {
          "name": "stdout",
          "output_type": "stream",
          "text": [
            "[21:29:07] WARNING: /Users/runner/miniforge3/conda-bld/xgboost-split_1643227205751/work/src/learner.cc:1115: Starting in XGBoost 1.3.0, the default evaluation metric used with the objective 'binary:logistic' was changed from 'error' to 'logloss'. Explicitly set eval_metric if you'd like to restore the old behavior.\n"
          ]
        },
        {
          "name": "stderr",
          "output_type": "stream",
          "text": [
            "/Users/hansikarunarathna/opt/anaconda3/lib/python3.9/site-packages/xgboost/sklearn.py:1224: UserWarning: The use of label encoder in XGBClassifier is deprecated and will be removed in a future release. To remove this warning, do the following: 1) Pass option use_label_encoder=False when constructing XGBClassifier object; and 2) Encode your labels (y) as integers starting with 0, i.e. 0, 1, 2, ..., [num_class - 1].\n",
            "  warnings.warn(label_encoder_deprecation_msg, UserWarning)\n"
          ]
        },
        {
          "name": "stdout",
          "output_type": "stream",
          "text": [
            "[21:29:09] WARNING: /Users/runner/miniforge3/conda-bld/xgboost-split_1643227205751/work/src/learner.cc:1115: Starting in XGBoost 1.3.0, the default evaluation metric used with the objective 'binary:logistic' was changed from 'error' to 'logloss'. Explicitly set eval_metric if you'd like to restore the old behavior.\n"
          ]
        },
        {
          "name": "stderr",
          "output_type": "stream",
          "text": [
            "/Users/hansikarunarathna/opt/anaconda3/lib/python3.9/site-packages/xgboost/sklearn.py:1224: UserWarning: The use of label encoder in XGBClassifier is deprecated and will be removed in a future release. To remove this warning, do the following: 1) Pass option use_label_encoder=False when constructing XGBClassifier object; and 2) Encode your labels (y) as integers starting with 0, i.e. 0, 1, 2, ..., [num_class - 1].\n",
            "  warnings.warn(label_encoder_deprecation_msg, UserWarning)\n"
          ]
        },
        {
          "name": "stdout",
          "output_type": "stream",
          "text": [
            "[21:29:10] WARNING: /Users/runner/miniforge3/conda-bld/xgboost-split_1643227205751/work/src/learner.cc:1115: Starting in XGBoost 1.3.0, the default evaluation metric used with the objective 'binary:logistic' was changed from 'error' to 'logloss'. Explicitly set eval_metric if you'd like to restore the old behavior.\n"
          ]
        },
        {
          "name": "stderr",
          "output_type": "stream",
          "text": [
            "/Users/hansikarunarathna/opt/anaconda3/lib/python3.9/site-packages/xgboost/sklearn.py:1224: UserWarning: The use of label encoder in XGBClassifier is deprecated and will be removed in a future release. To remove this warning, do the following: 1) Pass option use_label_encoder=False when constructing XGBClassifier object; and 2) Encode your labels (y) as integers starting with 0, i.e. 0, 1, 2, ..., [num_class - 1].\n",
            "  warnings.warn(label_encoder_deprecation_msg, UserWarning)\n"
          ]
        },
        {
          "name": "stdout",
          "output_type": "stream",
          "text": [
            "[21:29:10] WARNING: /Users/runner/miniforge3/conda-bld/xgboost-split_1643227205751/work/src/learner.cc:1115: Starting in XGBoost 1.3.0, the default evaluation metric used with the objective 'binary:logistic' was changed from 'error' to 'logloss'. Explicitly set eval_metric if you'd like to restore the old behavior.\n"
          ]
        },
        {
          "name": "stderr",
          "output_type": "stream",
          "text": [
            "/Users/hansikarunarathna/opt/anaconda3/lib/python3.9/site-packages/xgboost/sklearn.py:1224: UserWarning: The use of label encoder in XGBClassifier is deprecated and will be removed in a future release. To remove this warning, do the following: 1) Pass option use_label_encoder=False when constructing XGBClassifier object; and 2) Encode your labels (y) as integers starting with 0, i.e. 0, 1, 2, ..., [num_class - 1].\n",
            "  warnings.warn(label_encoder_deprecation_msg, UserWarning)\n"
          ]
        },
        {
          "name": "stdout",
          "output_type": "stream",
          "text": [
            "[21:29:11] WARNING: /Users/runner/miniforge3/conda-bld/xgboost-split_1643227205751/work/src/learner.cc:1115: Starting in XGBoost 1.3.0, the default evaluation metric used with the objective 'binary:logistic' was changed from 'error' to 'logloss'. Explicitly set eval_metric if you'd like to restore the old behavior.\n"
          ]
        },
        {
          "name": "stderr",
          "output_type": "stream",
          "text": [
            "/Users/hansikarunarathna/opt/anaconda3/lib/python3.9/site-packages/xgboost/sklearn.py:1224: UserWarning: The use of label encoder in XGBClassifier is deprecated and will be removed in a future release. To remove this warning, do the following: 1) Pass option use_label_encoder=False when constructing XGBClassifier object; and 2) Encode your labels (y) as integers starting with 0, i.e. 0, 1, 2, ..., [num_class - 1].\n",
            "  warnings.warn(label_encoder_deprecation_msg, UserWarning)\n"
          ]
        },
        {
          "name": "stdout",
          "output_type": "stream",
          "text": [
            "[21:29:11] WARNING: /Users/runner/miniforge3/conda-bld/xgboost-split_1643227205751/work/src/learner.cc:1115: Starting in XGBoost 1.3.0, the default evaluation metric used with the objective 'binary:logistic' was changed from 'error' to 'logloss'. Explicitly set eval_metric if you'd like to restore the old behavior.\n"
          ]
        },
        {
          "name": "stderr",
          "output_type": "stream",
          "text": [
            "/Users/hansikarunarathna/opt/anaconda3/lib/python3.9/site-packages/xgboost/sklearn.py:1224: UserWarning: The use of label encoder in XGBClassifier is deprecated and will be removed in a future release. To remove this warning, do the following: 1) Pass option use_label_encoder=False when constructing XGBClassifier object; and 2) Encode your labels (y) as integers starting with 0, i.e. 0, 1, 2, ..., [num_class - 1].\n",
            "  warnings.warn(label_encoder_deprecation_msg, UserWarning)\n",
            "/Users/hansikarunarathna/opt/anaconda3/lib/python3.9/site-packages/xgboost/sklearn.py:1224: UserWarning: The use of label encoder in XGBClassifier is deprecated and will be removed in a future release. To remove this warning, do the following: 1) Pass option use_label_encoder=False when constructing XGBClassifier object; and 2) Encode your labels (y) as integers starting with 0, i.e. 0, 1, 2, ..., [num_class - 1].\n",
            "  warnings.warn(label_encoder_deprecation_msg, UserWarning)\n"
          ]
        },
        {
          "name": "stdout",
          "output_type": "stream",
          "text": [
            "[21:29:17] WARNING: /Users/runner/miniforge3/conda-bld/xgboost-split_1643227205751/work/src/learner.cc:1115: Starting in XGBoost 1.3.0, the default evaluation metric used with the objective 'binary:logistic' was changed from 'error' to 'logloss'. Explicitly set eval_metric if you'd like to restore the old behavior.\n",
            "[21:29:17] WARNING: /Users/runner/miniforge3/conda-bld/xgboost-split_1643227205751/work/src/learner.cc:1115: Starting in XGBoost 1.3.0, the default evaluation metric used with the objective 'binary:logistic' was changed from 'error' to 'logloss'. Explicitly set eval_metric if you'd like to restore the old behavior.\n"
          ]
        },
        {
          "name": "stderr",
          "output_type": "stream",
          "text": [
            "/Users/hansikarunarathna/opt/anaconda3/lib/python3.9/site-packages/xgboost/sklearn.py:1224: UserWarning: The use of label encoder in XGBClassifier is deprecated and will be removed in a future release. To remove this warning, do the following: 1) Pass option use_label_encoder=False when constructing XGBClassifier object; and 2) Encode your labels (y) as integers starting with 0, i.e. 0, 1, 2, ..., [num_class - 1].\n",
            "  warnings.warn(label_encoder_deprecation_msg, UserWarning)\n"
          ]
        },
        {
          "name": "stdout",
          "output_type": "stream",
          "text": [
            "[21:29:19] WARNING: /Users/runner/miniforge3/conda-bld/xgboost-split_1643227205751/work/src/learner.cc:1115: Starting in XGBoost 1.3.0, the default evaluation metric used with the objective 'binary:logistic' was changed from 'error' to 'logloss'. Explicitly set eval_metric if you'd like to restore the old behavior.\n"
          ]
        },
        {
          "name": "stderr",
          "output_type": "stream",
          "text": [
            "/Users/hansikarunarathna/opt/anaconda3/lib/python3.9/site-packages/xgboost/sklearn.py:1224: UserWarning: The use of label encoder in XGBClassifier is deprecated and will be removed in a future release. To remove this warning, do the following: 1) Pass option use_label_encoder=False when constructing XGBClassifier object; and 2) Encode your labels (y) as integers starting with 0, i.e. 0, 1, 2, ..., [num_class - 1].\n",
            "  warnings.warn(label_encoder_deprecation_msg, UserWarning)\n"
          ]
        },
        {
          "name": "stdout",
          "output_type": "stream",
          "text": [
            "[21:29:23] WARNING: /Users/runner/miniforge3/conda-bld/xgboost-split_1643227205751/work/src/learner.cc:1115: Starting in XGBoost 1.3.0, the default evaluation metric used with the objective 'binary:logistic' was changed from 'error' to 'logloss'. Explicitly set eval_metric if you'd like to restore the old behavior.\n"
          ]
        },
        {
          "name": "stderr",
          "output_type": "stream",
          "text": [
            "/Users/hansikarunarathna/opt/anaconda3/lib/python3.9/site-packages/xgboost/sklearn.py:1224: UserWarning: The use of label encoder in XGBClassifier is deprecated and will be removed in a future release. To remove this warning, do the following: 1) Pass option use_label_encoder=False when constructing XGBClassifier object; and 2) Encode your labels (y) as integers starting with 0, i.e. 0, 1, 2, ..., [num_class - 1].\n",
            "  warnings.warn(label_encoder_deprecation_msg, UserWarning)\n"
          ]
        },
        {
          "name": "stdout",
          "output_type": "stream",
          "text": [
            "[21:29:24] WARNING: /Users/runner/miniforge3/conda-bld/xgboost-split_1643227205751/work/src/learner.cc:1115: Starting in XGBoost 1.3.0, the default evaluation metric used with the objective 'binary:logistic' was changed from 'error' to 'logloss'. Explicitly set eval_metric if you'd like to restore the old behavior.\n"
          ]
        },
        {
          "name": "stderr",
          "output_type": "stream",
          "text": [
            "/Users/hansikarunarathna/opt/anaconda3/lib/python3.9/site-packages/xgboost/sklearn.py:1224: UserWarning: The use of label encoder in XGBClassifier is deprecated and will be removed in a future release. To remove this warning, do the following: 1) Pass option use_label_encoder=False when constructing XGBClassifier object; and 2) Encode your labels (y) as integers starting with 0, i.e. 0, 1, 2, ..., [num_class - 1].\n",
            "  warnings.warn(label_encoder_deprecation_msg, UserWarning)\n",
            "/Users/hansikarunarathna/opt/anaconda3/lib/python3.9/site-packages/xgboost/sklearn.py:1224: UserWarning: The use of label encoder in XGBClassifier is deprecated and will be removed in a future release. To remove this warning, do the following: 1) Pass option use_label_encoder=False when constructing XGBClassifier object; and 2) Encode your labels (y) as integers starting with 0, i.e. 0, 1, 2, ..., [num_class - 1].\n",
            "  warnings.warn(label_encoder_deprecation_msg, UserWarning)\n",
            "/Users/hansikarunarathna/opt/anaconda3/lib/python3.9/site-packages/xgboost/sklearn.py:1224: UserWarning: The use of label encoder in XGBClassifier is deprecated and will be removed in a future release. To remove this warning, do the following: 1) Pass option use_label_encoder=False when constructing XGBClassifier object; and 2) Encode your labels (y) as integers starting with 0, i.e. 0, 1, 2, ..., [num_class - 1].\n",
            "  warnings.warn(label_encoder_deprecation_msg, UserWarning)\n"
          ]
        },
        {
          "name": "stdout",
          "output_type": "stream",
          "text": [
            "[21:29:27] WARNING: /Users/runner/miniforge3/conda-bld/xgboost-split_1643227205751/work/src/learner.cc:1115: Starting in XGBoost 1.3.0, the default evaluation metric used with the objective 'binary:logistic' was changed from 'error' to 'logloss'. Explicitly set eval_metric if you'd like to restore the old behavior.\n",
            "[21:29:27] WARNING: /Users/runner/miniforge3/conda-bld/xgboost-split_1643227205751/work/src/learner.cc:1115: Starting in XGBoost 1.3.0, the default evaluation metric used with the objective 'binary:logistic' was changed from 'error' to 'logloss'. Explicitly set eval_metric if you'd like to restore the old behavior.\n",
            "[21:29:27] WARNING: /Users/runner/miniforge3/conda-bld/xgboost-split_1643227205751/work/src/learner.cc:1115: Starting in XGBoost 1.3.0, the default evaluation metric used with the objective 'binary:logistic' was changed from 'error' to 'logloss'. Explicitly set eval_metric if you'd like to restore the old behavior.\n"
          ]
        },
        {
          "name": "stderr",
          "output_type": "stream",
          "text": [
            "/Users/hansikarunarathna/opt/anaconda3/lib/python3.9/site-packages/xgboost/sklearn.py:1224: UserWarning: The use of label encoder in XGBClassifier is deprecated and will be removed in a future release. To remove this warning, do the following: 1) Pass option use_label_encoder=False when constructing XGBClassifier object; and 2) Encode your labels (y) as integers starting with 0, i.e. 0, 1, 2, ..., [num_class - 1].\n",
            "  warnings.warn(label_encoder_deprecation_msg, UserWarning)\n"
          ]
        },
        {
          "name": "stdout",
          "output_type": "stream",
          "text": [
            "[21:29:27] WARNING: /Users/runner/miniforge3/conda-bld/xgboost-split_1643227205751/work/src/learner.cc:1115: Starting in XGBoost 1.3.0, the default evaluation metric used with the objective 'binary:logistic' was changed from 'error' to 'logloss'. Explicitly set eval_metric if you'd like to restore the old behavior.\n"
          ]
        },
        {
          "name": "stderr",
          "output_type": "stream",
          "text": [
            "/Users/hansikarunarathna/opt/anaconda3/lib/python3.9/site-packages/xgboost/sklearn.py:1224: UserWarning: The use of label encoder in XGBClassifier is deprecated and will be removed in a future release. To remove this warning, do the following: 1) Pass option use_label_encoder=False when constructing XGBClassifier object; and 2) Encode your labels (y) as integers starting with 0, i.e. 0, 1, 2, ..., [num_class - 1].\n",
            "  warnings.warn(label_encoder_deprecation_msg, UserWarning)\n"
          ]
        },
        {
          "name": "stdout",
          "output_type": "stream",
          "text": [
            "[21:29:30] WARNING: /Users/runner/miniforge3/conda-bld/xgboost-split_1643227205751/work/src/learner.cc:1115: Starting in XGBoost 1.3.0, the default evaluation metric used with the objective 'binary:logistic' was changed from 'error' to 'logloss'. Explicitly set eval_metric if you'd like to restore the old behavior.\n"
          ]
        },
        {
          "name": "stderr",
          "output_type": "stream",
          "text": [
            "/Users/hansikarunarathna/opt/anaconda3/lib/python3.9/site-packages/xgboost/sklearn.py:1224: UserWarning: The use of label encoder in XGBClassifier is deprecated and will be removed in a future release. To remove this warning, do the following: 1) Pass option use_label_encoder=False when constructing XGBClassifier object; and 2) Encode your labels (y) as integers starting with 0, i.e. 0, 1, 2, ..., [num_class - 1].\n",
            "  warnings.warn(label_encoder_deprecation_msg, UserWarning)\n"
          ]
        },
        {
          "name": "stdout",
          "output_type": "stream",
          "text": [
            "[21:29:33] WARNING: /Users/runner/miniforge3/conda-bld/xgboost-split_1643227205751/work/src/learner.cc:1115: Starting in XGBoost 1.3.0, the default evaluation metric used with the objective 'binary:logistic' was changed from 'error' to 'logloss'. Explicitly set eval_metric if you'd like to restore the old behavior.\n"
          ]
        },
        {
          "name": "stderr",
          "output_type": "stream",
          "text": [
            "/Users/hansikarunarathna/opt/anaconda3/lib/python3.9/site-packages/xgboost/sklearn.py:1224: UserWarning: The use of label encoder in XGBClassifier is deprecated and will be removed in a future release. To remove this warning, do the following: 1) Pass option use_label_encoder=False when constructing XGBClassifier object; and 2) Encode your labels (y) as integers starting with 0, i.e. 0, 1, 2, ..., [num_class - 1].\n",
            "  warnings.warn(label_encoder_deprecation_msg, UserWarning)\n"
          ]
        },
        {
          "name": "stdout",
          "output_type": "stream",
          "text": [
            "[21:29:34] WARNING: /Users/runner/miniforge3/conda-bld/xgboost-split_1643227205751/work/src/learner.cc:1115: Starting in XGBoost 1.3.0, the default evaluation metric used with the objective 'binary:logistic' was changed from 'error' to 'logloss'. Explicitly set eval_metric if you'd like to restore the old behavior.\n"
          ]
        },
        {
          "name": "stderr",
          "output_type": "stream",
          "text": [
            "/Users/hansikarunarathna/opt/anaconda3/lib/python3.9/site-packages/xgboost/sklearn.py:1224: UserWarning: The use of label encoder in XGBClassifier is deprecated and will be removed in a future release. To remove this warning, do the following: 1) Pass option use_label_encoder=False when constructing XGBClassifier object; and 2) Encode your labels (y) as integers starting with 0, i.e. 0, 1, 2, ..., [num_class - 1].\n",
            "  warnings.warn(label_encoder_deprecation_msg, UserWarning)\n"
          ]
        },
        {
          "name": "stdout",
          "output_type": "stream",
          "text": [
            "[21:29:36] WARNING: /Users/runner/miniforge3/conda-bld/xgboost-split_1643227205751/work/src/learner.cc:1115: Starting in XGBoost 1.3.0, the default evaluation metric used with the objective 'binary:logistic' was changed from 'error' to 'logloss'. Explicitly set eval_metric if you'd like to restore the old behavior.\n"
          ]
        },
        {
          "name": "stderr",
          "output_type": "stream",
          "text": [
            "/Users/hansikarunarathna/opt/anaconda3/lib/python3.9/site-packages/xgboost/sklearn.py:1224: UserWarning: The use of label encoder in XGBClassifier is deprecated and will be removed in a future release. To remove this warning, do the following: 1) Pass option use_label_encoder=False when constructing XGBClassifier object; and 2) Encode your labels (y) as integers starting with 0, i.e. 0, 1, 2, ..., [num_class - 1].\n",
            "  warnings.warn(label_encoder_deprecation_msg, UserWarning)\n"
          ]
        },
        {
          "name": "stdout",
          "output_type": "stream",
          "text": [
            "[21:29:39] WARNING: /Users/runner/miniforge3/conda-bld/xgboost-split_1643227205751/work/src/learner.cc:1115: Starting in XGBoost 1.3.0, the default evaluation metric used with the objective 'binary:logistic' was changed from 'error' to 'logloss'. Explicitly set eval_metric if you'd like to restore the old behavior.\n"
          ]
        },
        {
          "name": "stderr",
          "output_type": "stream",
          "text": [
            "/Users/hansikarunarathna/opt/anaconda3/lib/python3.9/site-packages/xgboost/sklearn.py:1224: UserWarning: The use of label encoder in XGBClassifier is deprecated and will be removed in a future release. To remove this warning, do the following: 1) Pass option use_label_encoder=False when constructing XGBClassifier object; and 2) Encode your labels (y) as integers starting with 0, i.e. 0, 1, 2, ..., [num_class - 1].\n",
            "  warnings.warn(label_encoder_deprecation_msg, UserWarning)\n"
          ]
        },
        {
          "name": "stdout",
          "output_type": "stream",
          "text": [
            "[21:29:39] WARNING: /Users/runner/miniforge3/conda-bld/xgboost-split_1643227205751/work/src/learner.cc:1115: Starting in XGBoost 1.3.0, the default evaluation metric used with the objective 'binary:logistic' was changed from 'error' to 'logloss'. Explicitly set eval_metric if you'd like to restore the old behavior.\n"
          ]
        },
        {
          "name": "stderr",
          "output_type": "stream",
          "text": [
            "/Users/hansikarunarathna/opt/anaconda3/lib/python3.9/site-packages/xgboost/sklearn.py:1224: UserWarning: The use of label encoder in XGBClassifier is deprecated and will be removed in a future release. To remove this warning, do the following: 1) Pass option use_label_encoder=False when constructing XGBClassifier object; and 2) Encode your labels (y) as integers starting with 0, i.e. 0, 1, 2, ..., [num_class - 1].\n",
            "  warnings.warn(label_encoder_deprecation_msg, UserWarning)\n"
          ]
        },
        {
          "name": "stdout",
          "output_type": "stream",
          "text": [
            "[21:29:42] WARNING: /Users/runner/miniforge3/conda-bld/xgboost-split_1643227205751/work/src/learner.cc:1115: Starting in XGBoost 1.3.0, the default evaluation metric used with the objective 'binary:logistic' was changed from 'error' to 'logloss'. Explicitly set eval_metric if you'd like to restore the old behavior.\n"
          ]
        },
        {
          "name": "stderr",
          "output_type": "stream",
          "text": [
            "/Users/hansikarunarathna/opt/anaconda3/lib/python3.9/site-packages/xgboost/sklearn.py:1224: UserWarning: The use of label encoder in XGBClassifier is deprecated and will be removed in a future release. To remove this warning, do the following: 1) Pass option use_label_encoder=False when constructing XGBClassifier object; and 2) Encode your labels (y) as integers starting with 0, i.e. 0, 1, 2, ..., [num_class - 1].\n",
            "  warnings.warn(label_encoder_deprecation_msg, UserWarning)\n"
          ]
        },
        {
          "name": "stdout",
          "output_type": "stream",
          "text": [
            "[21:29:42] WARNING: /Users/runner/miniforge3/conda-bld/xgboost-split_1643227205751/work/src/learner.cc:1115: Starting in XGBoost 1.3.0, the default evaluation metric used with the objective 'binary:logistic' was changed from 'error' to 'logloss'. Explicitly set eval_metric if you'd like to restore the old behavior.\n"
          ]
        },
        {
          "name": "stderr",
          "output_type": "stream",
          "text": [
            "/Users/hansikarunarathna/opt/anaconda3/lib/python3.9/site-packages/xgboost/sklearn.py:1224: UserWarning: The use of label encoder in XGBClassifier is deprecated and will be removed in a future release. To remove this warning, do the following: 1) Pass option use_label_encoder=False when constructing XGBClassifier object; and 2) Encode your labels (y) as integers starting with 0, i.e. 0, 1, 2, ..., [num_class - 1].\n",
            "  warnings.warn(label_encoder_deprecation_msg, UserWarning)\n"
          ]
        },
        {
          "name": "stdout",
          "output_type": "stream",
          "text": [
            "[21:29:44] WARNING: /Users/runner/miniforge3/conda-bld/xgboost-split_1643227205751/work/src/learner.cc:1115: Starting in XGBoost 1.3.0, the default evaluation metric used with the objective 'binary:logistic' was changed from 'error' to 'logloss'. Explicitly set eval_metric if you'd like to restore the old behavior.\n"
          ]
        },
        {
          "name": "stderr",
          "output_type": "stream",
          "text": [
            "/Users/hansikarunarathna/opt/anaconda3/lib/python3.9/site-packages/xgboost/sklearn.py:1224: UserWarning: The use of label encoder in XGBClassifier is deprecated and will be removed in a future release. To remove this warning, do the following: 1) Pass option use_label_encoder=False when constructing XGBClassifier object; and 2) Encode your labels (y) as integers starting with 0, i.e. 0, 1, 2, ..., [num_class - 1].\n",
            "  warnings.warn(label_encoder_deprecation_msg, UserWarning)\n"
          ]
        },
        {
          "name": "stdout",
          "output_type": "stream",
          "text": [
            "[21:29:50] WARNING: /Users/runner/miniforge3/conda-bld/xgboost-split_1643227205751/work/src/learner.cc:1115: Starting in XGBoost 1.3.0, the default evaluation metric used with the objective 'binary:logistic' was changed from 'error' to 'logloss'. Explicitly set eval_metric if you'd like to restore the old behavior.\n",
            "[21:29:59] WARNING: /Users/runner/miniforge3/conda-bld/xgboost-split_1643227205751/work/src/learner.cc:1115: Starting in XGBoost 1.3.0, the default evaluation metric used with the objective 'binary:logistic' was changed from 'error' to 'logloss'. Explicitly set eval_metric if you'd like to restore the old behavior.\n",
            "XGBOOST Best score: 0.8283024758062579 using best parameters {'learning_rate': 0.1, 'max_depth': 5, 'n_estimators': 200}\n"
          ]
        }
      ],
      "source": [
        "param_grid ={ 'max_depth': [3, 4, 5],'learning_rate': [0.1, 0.01],'n_estimators': [50, 100, 200]}\n",
        "clf_xgb = GridSearchCV(estimator= xgb, param_grid = param_grid, cv = 3, n_jobs=-1, scoring=met_grid ,refit='Accuracy')\n",
        "best_clf_xgb = clf_xgb.fit(X_train,y_train)\n",
        "print('XGBOOST Best score: {} using best parameters {}'.format(best_clf_xgb.best_score_, best_clf_xgb.best_params_))"
      ]
    },
    {
      "cell_type": "code",
      "execution_count": 333,
      "id": "TrADx2KQkSRl",
      "metadata": {
        "colab": {
          "base_uri": "https://localhost:8080/"
        },
        "id": "TrADx2KQkSRl",
        "outputId": "d7c68eb1-1eb2-4171-81c0-24b11a28548c"
      },
      "outputs": [
        {
          "name": "stdout",
          "output_type": "stream",
          "text": [
            "Training Accuracy : 0.8373796316307662\n",
            "Testing Accuracy : 0.8281503894211912\n",
            "F1 Score : 0.7340213337958545\n"
          ]
        }
      ],
      "source": [
        "XGB_tuned = clf_xgb.best_estimator_\n",
        "y_pred_XGB_tuned = XGB_tuned.predict(X_test)\n",
        "\n",
        "train_accuracy_XGB_tuned = XGB_tuned.score(X_train, y_train)\n",
        "test_accuracy_XGB_tuned = XGB_tuned.score(X_test, y_test)\n",
        "f1_XGB_tuned = f1_score(y_test, y_pred_XGB_tuned)\n",
        "\n",
        "\n",
        "print(f\"Training Accuracy : {train_accuracy_XGB_tuned}\")\n",
        "print(f\"Testing Accuracy : {test_accuracy_XGB_tuned}\")\n",
        "print(f\"F1 Score : {f1_XGB_tuned}\")\n",
        "\n"
      ]
    },
    {
      "cell_type": "markdown",
      "id": "miAlip963ou4",
      "metadata": {
        "id": "miAlip963ou4"
      },
      "source": [
        "### LGB"
      ]
    },
    {
      "cell_type": "code",
      "execution_count": 334,
      "id": "tL-AYOXt3wFf",
      "metadata": {
        "colab": {
          "base_uri": "https://localhost:8080/"
        },
        "id": "tL-AYOXt3wFf",
        "outputId": "373e9e76-b41b-4aeb-f3b5-925bf45e1733"
      },
      "outputs": [
        {
          "name": "stdout",
          "output_type": "stream",
          "text": [
            "[LightGBM] [Warning] Accuracy may be bad since you didn't explicitly set num_leaves OR 2^max_depth > num_leaves. (num_leaves=31).\n",
            "[LightGBM] [Warning] Accuracy may be bad since you didn't explicitly set num_leaves OR 2^max_depth > num_leaves. (num_leaves=31).\n",
            "[LightGBM] [Warning] Accuracy may be bad since you didn't explicitly set num_leaves OR 2^max_depth > num_leaves. (num_leaves=31).\n",
            "[LightGBM] [Warning] Accuracy may be bad since you didn't explicitly set num_leaves OR 2^max_depth > num_leaves. (num_leaves=31).\n",
            "[LightGBM] [Warning] Accuracy may be bad since you didn't explicitly set num_leaves OR 2^max_depth > num_leaves. (num_leaves=31).\n",
            "[LightGBM] [Warning] Accuracy may be bad since you didn't explicitly set num_leaves OR 2^max_depth > num_leaves. (num_leaves=31).\n",
            "[LightGBM] [Warning] Accuracy may be bad since you didn't explicitly set num_leaves OR 2^max_depth > num_leaves. (num_leaves=31).\n",
            "[LightGBM] [Warning] Accuracy may be bad since you didn't explicitly set num_leaves OR 2^max_depth > num_leaves. (num_leaves=31).\n",
            "[LightGBM] [Warning] Accuracy may be bad since you didn't explicitly set num_leaves OR 2^max_depth > num_leaves. (num_leaves=31).\n",
            "[LightGBM] [Warning] Accuracy may be bad since you didn't explicitly set num_leaves OR 2^max_depth > num_leaves. (num_leaves=31).\n",
            "[LightGBM] [Warning] Accuracy may be bad since you didn't explicitly set num_leaves OR 2^max_depth > num_leaves. (num_leaves=31).\n",
            "[LightGBM] [Warning] Accuracy may be bad since you didn't explicitly set num_leaves OR 2^max_depth > num_leaves. (num_leaves=31).\n",
            "[LightGBM] [Warning] Accuracy may be bad since you didn't explicitly set num_leaves OR 2^max_depth > num_leaves. (num_leaves=31).\n",
            "[LightGBM] [Warning] Accuracy may be bad since you didn't explicitly set num_leaves OR 2^max_depth > num_leaves. (num_leaves=31).\n",
            "[LightGBM] [Warning] Accuracy may be bad since you didn't explicitly set num_leaves OR 2^max_depth > num_leaves. (num_leaves=31).\n",
            "[LightGBM] [Warning] Accuracy may be bad since you didn't explicitly set num_leaves OR 2^max_depth > num_leaves. (num_leaves=31).\n",
            "[LightGBM] [Warning] Accuracy may be bad since you didn't explicitly set num_leaves OR 2^max_depth > num_leaves. (num_leaves=31).\n",
            "[LightGBM] [Warning] Accuracy may be bad since you didn't explicitly set num_leaves OR 2^max_depth > num_leaves. (num_leaves=31).\n",
            "[LightGBM] [Warning] Accuracy may be bad since you didn't explicitly set num_leaves OR 2^max_depth > num_leaves. (num_leaves=31).\n",
            "[LightGBM] [Warning] Accuracy may be bad since you didn't explicitly set num_leaves OR 2^max_depth > num_leaves. (num_leaves=31).\n",
            "[LightGBM] [Warning] Accuracy may be bad since you didn't explicitly set num_leaves OR 2^max_depth > num_leaves. (num_leaves=31).\n",
            "[LightGBM] [Warning] Accuracy may be bad since you didn't explicitly set num_leaves OR 2^max_depth > num_leaves. (num_leaves=31).\n",
            "[LightGBM] [Warning] Accuracy may be bad since you didn't explicitly set num_leaves OR 2^max_depth > num_leaves. (num_leaves=31).\n",
            "[LightGBM] [Warning] Accuracy may be bad since you didn't explicitly set num_leaves OR 2^max_depth > num_leaves. (num_leaves=31).\n",
            "[LightGBM] [Warning] Accuracy may be bad since you didn't explicitly set num_leaves OR 2^max_depth > num_leaves. (num_leaves=31).\n",
            "[LightGBM] [Warning] Accuracy may be bad since you didn't explicitly set num_leaves OR 2^max_depth > num_leaves. (num_leaves=31).\n",
            "[LightGBM] [Warning] Accuracy may be bad since you didn't explicitly set num_leaves OR 2^max_depth > num_leaves. (num_leaves=31).\n",
            "[LightGBM] [Warning] Accuracy may be bad since you didn't explicitly set num_leaves OR 2^max_depth > num_leaves. (num_leaves=31).\n",
            "[LightGBM] [Warning] Accuracy may be bad since you didn't explicitly set num_leaves OR 2^max_depth > num_leaves. (num_leaves=31).\n",
            "[LightGBM] [Warning] Accuracy may be bad since you didn't explicitly set num_leaves OR 2^max_depth > num_leaves. (num_leaves=31).\n",
            "[LightGBM] [Warning] Accuracy may be bad since you didn't explicitly set num_leaves OR 2^max_depth > num_leaves. (num_leaves=31).\n",
            "[LightGBM] [Warning] Accuracy may be bad since you didn't explicitly set num_leaves OR 2^max_depth > num_leaves. (num_leaves=31).\n",
            "[LightGBM] [Warning] Accuracy may be bad since you didn't explicitly set num_leaves OR 2^max_depth > num_leaves. (num_leaves=31).\n",
            "[LightGBM] [Warning] Accuracy may be bad since you didn't explicitly set num_leaves OR 2^max_depth > num_leaves. (num_leaves=31).\n",
            "[LightGBM] [Warning] Accuracy may be bad since you didn't explicitly set num_leaves OR 2^max_depth > num_leaves. (num_leaves=31).\n",
            "[LightGBM] [Warning] Accuracy may be bad since you didn't explicitly set num_leaves OR 2^max_depth > num_leaves. (num_leaves=31).\n",
            "[LightGBM] [Warning] Accuracy may be bad since you didn't explicitly set num_leaves OR 2^max_depth > num_leaves. (num_leaves=31).\n",
            "[LightGBM] [Warning] Accuracy may be bad since you didn't explicitly set num_leaves OR 2^max_depth > num_leaves. (num_leaves=31).\n",
            "[LightGBM] [Warning] Accuracy may be bad since you didn't explicitly set num_leaves OR 2^max_depth > num_leaves. (num_leaves=31).\n",
            "[LightGBM] [Warning] Accuracy may be bad since you didn't explicitly set num_leaves OR 2^max_depth > num_leaves. (num_leaves=31).\n",
            "[LightGBM] [Warning] Accuracy may be bad since you didn't explicitly set num_leaves OR 2^max_depth > num_leaves. (num_leaves=31).\n",
            "[LightGBM] [Warning] Accuracy may be bad since you didn't explicitly set num_leaves OR 2^max_depth > num_leaves. (num_leaves=31).\n",
            "[LightGBM] [Warning] Accuracy may be bad since you didn't explicitly set num_leaves OR 2^max_depth > num_leaves. (num_leaves=31).\n",
            "[LightGBM] [Warning] Accuracy may be bad since you didn't explicitly set num_leaves OR 2^max_depth > num_leaves. (num_leaves=31).\n",
            "[LightGBM] [Warning] Accuracy may be bad since you didn't explicitly set num_leaves OR 2^max_depth > num_leaves. (num_leaves=31).\n",
            "[LightGBM] [Warning] Accuracy may be bad since you didn't explicitly set num_leaves OR 2^max_depth > num_leaves. (num_leaves=31).\n",
            "[LightGBM] [Warning] Accuracy may be bad since you didn't explicitly set num_leaves OR 2^max_depth > num_leaves. (num_leaves=31).\n",
            "[LightGBM] [Warning] Accuracy may be bad since you didn't explicitly set num_leaves OR 2^max_depth > num_leaves. (num_leaves=31).\n",
            "[LightGBM] [Warning] Accuracy may be bad since you didn't explicitly set num_leaves OR 2^max_depth > num_leaves. (num_leaves=31).\n",
            "[LightGBM] [Warning] Accuracy may be bad since you didn't explicitly set num_leaves OR 2^max_depth > num_leaves. (num_leaves=31).\n",
            "[LightGBM] [Warning] Accuracy may be bad since you didn't explicitly set num_leaves OR 2^max_depth > num_leaves. (num_leaves=31).\n",
            "[LightGBM] [Warning] Accuracy may be bad since you didn't explicitly set num_leaves OR 2^max_depth > num_leaves. (num_leaves=31).\n",
            "[LightGBM] [Warning] Accuracy may be bad since you didn't explicitly set num_leaves OR 2^max_depth > num_leaves. (num_leaves=31).\n",
            "[LightGBM] [Warning] Accuracy may be bad since you didn't explicitly set num_leaves OR 2^max_depth > num_leaves. (num_leaves=31).\n",
            "[LightGBM] [Warning] Accuracy may be bad since you didn't explicitly set num_leaves OR 2^max_depth > num_leaves. (num_leaves=31).\n",
            "[LightGBM] [Warning] Accuracy may be bad since you didn't explicitly set num_leaves OR 2^max_depth > num_leaves. (num_leaves=31).\n",
            "[LightGBM] [Warning] Accuracy may be bad since you didn't explicitly set num_leaves OR 2^max_depth > num_leaves. (num_leaves=31).\n",
            "[LightGBM] [Warning] Accuracy may be bad since you didn't explicitly set num_leaves OR 2^max_depth > num_leaves. (num_leaves=31).\n",
            "[LightGBM] [Warning] Accuracy may be bad since you didn't explicitly set num_leaves OR 2^max_depth > num_leaves. (num_leaves=31).\n",
            "[LightGBM] [Warning] Accuracy may be bad since you didn't explicitly set num_leaves OR 2^max_depth > num_leaves. (num_leaves=31).\n",
            "[LightGBM] [Warning] Accuracy may be bad since you didn't explicitly set num_leaves OR 2^max_depth > num_leaves. (num_leaves=31).\n",
            "LGB Best score: 0.8352904449727445 using best parameters {'learning_rate': 0.1, 'max_depth': 5, 'n_estimators': 500}\n"
          ]
        }
      ],
      "source": [
        "param_grid ={'n_estimators':[10, 50, 100,500],'learning_rate': [0.0001, 0.001, 0.01, 0.1,1],'max_depth': [1,3,4,5]}\n",
        "clf_lgb = GridSearchCV(estimator= lgb_model, param_grid = param_grid, cv = 3, n_jobs=-1, scoring=met_grid ,refit='Accuracy')\n",
        "best_clf_lgb = clf_lgb.fit(X_train,y_train)\n",
        "print('LGB Best score: {} using best parameters {}'.format(best_clf_lgb.best_score_, best_clf_lgb.best_params_))"
      ]
    },
    {
      "cell_type": "code",
      "execution_count": 335,
      "id": "EnlEVLzs4bOs",
      "metadata": {
        "colab": {
          "base_uri": "https://localhost:8080/"
        },
        "id": "EnlEVLzs4bOs",
        "outputId": "5f2be6b8-04d6-4821-e716-c6c7602a8070"
      },
      "outputs": [
        {
          "name": "stdout",
          "output_type": "stream",
          "text": [
            "Training Accuracy : 0.8643229354273227\n",
            "Testing Accuracy : 0.8383481817672438\n",
            "F1 Score : 0.7577462423377278\n"
          ]
        }
      ],
      "source": [
        "LGB_tuned = clf_lgb.best_estimator_\n",
        "y_pred_LGB_tuned = LGB_tuned.predict(X_test)\n",
        "\n",
        "train_accuracy_LGB_tuned = LGB_tuned.score(X_train, y_train)\n",
        "test_accuracy_LGB_tuned = LGB_tuned.score(X_test, y_test)\n",
        "f1_LGB_tuned = f1_score(y_test, y_pred_LGB_tuned)\n",
        "\n",
        "\n",
        "print(f\"Training Accuracy : {train_accuracy_LGB_tuned}\")\n",
        "print(f\"Testing Accuracy : {test_accuracy_LGB_tuned}\")\n",
        "print(f\"F1 Score : {f1_LGB_tuned}\")\n",
        "\n"
      ]
    },
    {
      "cell_type": "markdown",
      "id": "C6vLWiGxeEcA",
      "metadata": {
        "id": "C6vLWiGxeEcA"
      },
      "source": [
        "### Random Forest"
      ]
    },
    {
      "cell_type": "code",
      "execution_count": 336,
      "id": "faNebQCxeGU2",
      "metadata": {
        "colab": {
          "base_uri": "https://localhost:8080/"
        },
        "id": "faNebQCxeGU2",
        "outputId": "470a6eea-b42b-4ce3-96c8-9e50ed2d87f4"
      },
      "outputs": [
        {
          "name": "stdout",
          "output_type": "stream",
          "text": [
            " Random Forest Best  score: 0.8296232259923637 using best parameters {'max_depth': 15, 'min_samples_leaf': 2, 'min_samples_split': 2}\n"
          ]
        }
      ],
      "source": [
        "\n",
        "param_grid = [{'min_samples_split': [2,4,8,10],'max_depth': [5,10,15],'min_samples_leaf': [2,4,8,10]}]\n",
        "\n",
        "clf_rf = GridSearchCV(estimator= rf_model, param_grid = param_grid, cv = 3, n_jobs=-1, scoring=met_grid ,refit='Accuracy')\n",
        "best_clf_rf = clf_rf.fit(X_train,y_train)\n",
        "print(' Random Forest Best  score: {} using best parameters {}'.format(best_clf_rf.best_score_, best_clf_rf.best_params_))"
      ]
    },
    {
      "cell_type": "code",
      "execution_count": 337,
      "id": "u8y3flmaexLO",
      "metadata": {
        "colab": {
          "base_uri": "https://localhost:8080/"
        },
        "id": "u8y3flmaexLO",
        "outputId": "ac71bb69-4d41-413e-bc80-523b1c097f47"
      },
      "outputs": [
        {
          "name": "stdout",
          "output_type": "stream",
          "text": [
            "Training Accuracy : 0.8411017457916097\n",
            "Testing Accuracy : 0.8312881716815151\n",
            "F1 Score : 0.7344094557643116\n"
          ]
        }
      ],
      "source": [
        "RF_tuned = clf_rf.best_estimator_\n",
        "y_pred_RF_tuned = RF_tuned.predict(X_test)\n",
        "\n",
        "train_accuracy_RF_tuned = RF_tuned.score(X_train, y_train)\n",
        "test_accuracy_RF_tuned = RF_tuned.score(X_test, y_test)\n",
        "f1_RF_tuned = f1_score(y_test, y_pred_RF_tuned)\n",
        "\n",
        "\n",
        "print(f\"Training Accuracy : {train_accuracy_RF_tuned}\")\n",
        "print(f\"Testing Accuracy : {test_accuracy_RF_tuned}\")\n",
        "print(f\"F1 Score : {f1_RF_tuned}\")\n",
        "\n",
        "\n"
      ]
    },
    {
      "cell_type": "markdown",
      "id": "6a136254",
      "metadata": {
        "id": "6a136254"
      },
      "source": [
        "### Logistic Regresion"
      ]
    },
    {
      "cell_type": "code",
      "execution_count": 338,
      "id": "88ed4991",
      "metadata": {
        "colab": {
          "base_uri": "https://localhost:8080/"
        },
        "id": "88ed4991",
        "outputId": "38a190a0-587f-43f2-9574-fe5bc0ec1cdc"
      },
      "outputs": [
        {
          "name": "stderr",
          "output_type": "stream",
          "text": [
            "/Users/hansikarunarathna/opt/anaconda3/lib/python3.9/site-packages/sklearn/linear_model/_logistic.py:814: ConvergenceWarning: lbfgs failed to converge (status=1):\n",
            "STOP: TOTAL NO. of ITERATIONS REACHED LIMIT.\n",
            "\n",
            "Increase the number of iterations (max_iter) or scale the data as shown in:\n",
            "    https://scikit-learn.org/stable/modules/preprocessing.html\n",
            "Please also refer to the documentation for alternative solver options:\n",
            "    https://scikit-learn.org/stable/modules/linear_model.html#logistic-regression\n",
            "  n_iter_i = _check_optimize_result(\n",
            "/Users/hansikarunarathna/opt/anaconda3/lib/python3.9/site-packages/sklearn/linear_model/_logistic.py:814: ConvergenceWarning: lbfgs failed to converge (status=1):\n",
            "STOP: TOTAL NO. of ITERATIONS REACHED LIMIT.\n",
            "\n",
            "Increase the number of iterations (max_iter) or scale the data as shown in:\n",
            "    https://scikit-learn.org/stable/modules/preprocessing.html\n",
            "Please also refer to the documentation for alternative solver options:\n",
            "    https://scikit-learn.org/stable/modules/linear_model.html#logistic-regression\n",
            "  n_iter_i = _check_optimize_result(\n",
            "/Users/hansikarunarathna/opt/anaconda3/lib/python3.9/site-packages/sklearn/linear_model/_logistic.py:814: ConvergenceWarning: lbfgs failed to converge (status=1):\n",
            "STOP: TOTAL NO. of ITERATIONS REACHED LIMIT.\n",
            "\n",
            "Increase the number of iterations (max_iter) or scale the data as shown in:\n",
            "    https://scikit-learn.org/stable/modules/preprocessing.html\n",
            "Please also refer to the documentation for alternative solver options:\n",
            "    https://scikit-learn.org/stable/modules/linear_model.html#logistic-regression\n",
            "  n_iter_i = _check_optimize_result(\n",
            "/Users/hansikarunarathna/opt/anaconda3/lib/python3.9/site-packages/sklearn/linear_model/_logistic.py:814: ConvergenceWarning: lbfgs failed to converge (status=1):\n",
            "STOP: TOTAL NO. of ITERATIONS REACHED LIMIT.\n",
            "\n",
            "Increase the number of iterations (max_iter) or scale the data as shown in:\n",
            "    https://scikit-learn.org/stable/modules/preprocessing.html\n",
            "Please also refer to the documentation for alternative solver options:\n",
            "    https://scikit-learn.org/stable/modules/linear_model.html#logistic-regression\n",
            "  n_iter_i = _check_optimize_result(\n",
            "/Users/hansikarunarathna/opt/anaconda3/lib/python3.9/site-packages/sklearn/linear_model/_logistic.py:814: ConvergenceWarning: lbfgs failed to converge (status=1):\n",
            "STOP: TOTAL NO. of ITERATIONS REACHED LIMIT.\n",
            "\n",
            "Increase the number of iterations (max_iter) or scale the data as shown in:\n",
            "    https://scikit-learn.org/stable/modules/preprocessing.html\n",
            "Please also refer to the documentation for alternative solver options:\n",
            "    https://scikit-learn.org/stable/modules/linear_model.html#logistic-regression\n",
            "  n_iter_i = _check_optimize_result(\n",
            "/Users/hansikarunarathna/opt/anaconda3/lib/python3.9/site-packages/sklearn/linear_model/_logistic.py:814: ConvergenceWarning: lbfgs failed to converge (status=1):\n",
            "STOP: TOTAL NO. of ITERATIONS REACHED LIMIT.\n",
            "\n",
            "Increase the number of iterations (max_iter) or scale the data as shown in:\n",
            "    https://scikit-learn.org/stable/modules/preprocessing.html\n",
            "Please also refer to the documentation for alternative solver options:\n",
            "    https://scikit-learn.org/stable/modules/linear_model.html#logistic-regression\n",
            "  n_iter_i = _check_optimize_result(\n",
            "/Users/hansikarunarathna/opt/anaconda3/lib/python3.9/site-packages/sklearn/linear_model/_logistic.py:814: ConvergenceWarning: lbfgs failed to converge (status=1):\n",
            "STOP: TOTAL NO. of ITERATIONS REACHED LIMIT.\n",
            "\n",
            "Increase the number of iterations (max_iter) or scale the data as shown in:\n",
            "    https://scikit-learn.org/stable/modules/preprocessing.html\n",
            "Please also refer to the documentation for alternative solver options:\n",
            "    https://scikit-learn.org/stable/modules/linear_model.html#logistic-regression\n",
            "  n_iter_i = _check_optimize_result(\n",
            "/Users/hansikarunarathna/opt/anaconda3/lib/python3.9/site-packages/sklearn/linear_model/_logistic.py:814: ConvergenceWarning: lbfgs failed to converge (status=1):\n",
            "STOP: TOTAL NO. of ITERATIONS REACHED LIMIT.\n",
            "\n",
            "Increase the number of iterations (max_iter) or scale the data as shown in:\n",
            "    https://scikit-learn.org/stable/modules/preprocessing.html\n",
            "Please also refer to the documentation for alternative solver options:\n",
            "    https://scikit-learn.org/stable/modules/linear_model.html#logistic-regression\n",
            "  n_iter_i = _check_optimize_result(\n",
            "/Users/hansikarunarathna/opt/anaconda3/lib/python3.9/site-packages/sklearn/linear_model/_logistic.py:814: ConvergenceWarning: lbfgs failed to converge (status=1):\n",
            "STOP: TOTAL NO. of ITERATIONS REACHED LIMIT.\n",
            "\n",
            "Increase the number of iterations (max_iter) or scale the data as shown in:\n",
            "    https://scikit-learn.org/stable/modules/preprocessing.html\n",
            "Please also refer to the documentation for alternative solver options:\n",
            "    https://scikit-learn.org/stable/modules/linear_model.html#logistic-regression\n",
            "  n_iter_i = _check_optimize_result(\n",
            "/Users/hansikarunarathna/opt/anaconda3/lib/python3.9/site-packages/sklearn/linear_model/_logistic.py:814: ConvergenceWarning: lbfgs failed to converge (status=1):\n",
            "STOP: TOTAL NO. of ITERATIONS REACHED LIMIT.\n",
            "\n",
            "Increase the number of iterations (max_iter) or scale the data as shown in:\n",
            "    https://scikit-learn.org/stable/modules/preprocessing.html\n",
            "Please also refer to the documentation for alternative solver options:\n",
            "    https://scikit-learn.org/stable/modules/linear_model.html#logistic-regression\n",
            "  n_iter_i = _check_optimize_result(\n",
            "/Users/hansikarunarathna/opt/anaconda3/lib/python3.9/site-packages/sklearn/linear_model/_logistic.py:814: ConvergenceWarning: lbfgs failed to converge (status=1):\n",
            "STOP: TOTAL NO. of ITERATIONS REACHED LIMIT.\n",
            "\n",
            "Increase the number of iterations (max_iter) or scale the data as shown in:\n",
            "    https://scikit-learn.org/stable/modules/preprocessing.html\n",
            "Please also refer to the documentation for alternative solver options:\n",
            "    https://scikit-learn.org/stable/modules/linear_model.html#logistic-regression\n",
            "  n_iter_i = _check_optimize_result(\n",
            "/Users/hansikarunarathna/opt/anaconda3/lib/python3.9/site-packages/sklearn/linear_model/_logistic.py:814: ConvergenceWarning: lbfgs failed to converge (status=1):\n",
            "STOP: TOTAL NO. of ITERATIONS REACHED LIMIT.\n",
            "\n",
            "Increase the number of iterations (max_iter) or scale the data as shown in:\n",
            "    https://scikit-learn.org/stable/modules/preprocessing.html\n",
            "Please also refer to the documentation for alternative solver options:\n",
            "    https://scikit-learn.org/stable/modules/linear_model.html#logistic-regression\n",
            "  n_iter_i = _check_optimize_result(\n",
            "/Users/hansikarunarathna/opt/anaconda3/lib/python3.9/site-packages/sklearn/linear_model/_logistic.py:814: ConvergenceWarning: lbfgs failed to converge (status=1):\n",
            "STOP: TOTAL NO. of ITERATIONS REACHED LIMIT.\n",
            "\n",
            "Increase the number of iterations (max_iter) or scale the data as shown in:\n",
            "    https://scikit-learn.org/stable/modules/preprocessing.html\n",
            "Please also refer to the documentation for alternative solver options:\n",
            "    https://scikit-learn.org/stable/modules/linear_model.html#logistic-regression\n",
            "  n_iter_i = _check_optimize_result(\n",
            "/Users/hansikarunarathna/opt/anaconda3/lib/python3.9/site-packages/sklearn/linear_model/_logistic.py:814: ConvergenceWarning: lbfgs failed to converge (status=1):\n",
            "STOP: TOTAL NO. of ITERATIONS REACHED LIMIT.\n",
            "\n",
            "Increase the number of iterations (max_iter) or scale the data as shown in:\n",
            "    https://scikit-learn.org/stable/modules/preprocessing.html\n",
            "Please also refer to the documentation for alternative solver options:\n",
            "    https://scikit-learn.org/stable/modules/linear_model.html#logistic-regression\n",
            "  n_iter_i = _check_optimize_result(\n",
            "/Users/hansikarunarathna/opt/anaconda3/lib/python3.9/site-packages/sklearn/linear_model/_logistic.py:814: ConvergenceWarning: lbfgs failed to converge (status=1):\n",
            "STOP: TOTAL NO. of ITERATIONS REACHED LIMIT.\n",
            "\n",
            "Increase the number of iterations (max_iter) or scale the data as shown in:\n",
            "    https://scikit-learn.org/stable/modules/preprocessing.html\n",
            "Please also refer to the documentation for alternative solver options:\n",
            "    https://scikit-learn.org/stable/modules/linear_model.html#logistic-regression\n",
            "  n_iter_i = _check_optimize_result(\n",
            "/Users/hansikarunarathna/opt/anaconda3/lib/python3.9/site-packages/sklearn/linear_model/_logistic.py:814: ConvergenceWarning: lbfgs failed to converge (status=1):\n",
            "STOP: TOTAL NO. of ITERATIONS REACHED LIMIT.\n",
            "\n",
            "Increase the number of iterations (max_iter) or scale the data as shown in:\n",
            "    https://scikit-learn.org/stable/modules/preprocessing.html\n",
            "Please also refer to the documentation for alternative solver options:\n",
            "    https://scikit-learn.org/stable/modules/linear_model.html#logistic-regression\n",
            "  n_iter_i = _check_optimize_result(\n",
            "/Users/hansikarunarathna/opt/anaconda3/lib/python3.9/site-packages/sklearn/linear_model/_logistic.py:814: ConvergenceWarning: lbfgs failed to converge (status=1):\n",
            "STOP: TOTAL NO. of ITERATIONS REACHED LIMIT.\n",
            "\n",
            "Increase the number of iterations (max_iter) or scale the data as shown in:\n",
            "    https://scikit-learn.org/stable/modules/preprocessing.html\n",
            "Please also refer to the documentation for alternative solver options:\n",
            "    https://scikit-learn.org/stable/modules/linear_model.html#logistic-regression\n",
            "  n_iter_i = _check_optimize_result(\n",
            "/Users/hansikarunarathna/opt/anaconda3/lib/python3.9/site-packages/sklearn/linear_model/_logistic.py:814: ConvergenceWarning: lbfgs failed to converge (status=1):\n",
            "STOP: TOTAL NO. of ITERATIONS REACHED LIMIT.\n",
            "\n",
            "Increase the number of iterations (max_iter) or scale the data as shown in:\n",
            "    https://scikit-learn.org/stable/modules/preprocessing.html\n",
            "Please also refer to the documentation for alternative solver options:\n",
            "    https://scikit-learn.org/stable/modules/linear_model.html#logistic-regression\n",
            "  n_iter_i = _check_optimize_result(\n",
            "/Users/hansikarunarathna/opt/anaconda3/lib/python3.9/site-packages/sklearn/linear_model/_logistic.py:814: ConvergenceWarning: lbfgs failed to converge (status=1):\n",
            "STOP: TOTAL NO. of ITERATIONS REACHED LIMIT.\n",
            "\n",
            "Increase the number of iterations (max_iter) or scale the data as shown in:\n",
            "    https://scikit-learn.org/stable/modules/preprocessing.html\n",
            "Please also refer to the documentation for alternative solver options:\n",
            "    https://scikit-learn.org/stable/modules/linear_model.html#logistic-regression\n",
            "  n_iter_i = _check_optimize_result(\n",
            "/Users/hansikarunarathna/opt/anaconda3/lib/python3.9/site-packages/sklearn/linear_model/_logistic.py:814: ConvergenceWarning: lbfgs failed to converge (status=1):\n",
            "STOP: TOTAL NO. of ITERATIONS REACHED LIMIT.\n",
            "\n",
            "Increase the number of iterations (max_iter) or scale the data as shown in:\n",
            "    https://scikit-learn.org/stable/modules/preprocessing.html\n",
            "Please also refer to the documentation for alternative solver options:\n",
            "    https://scikit-learn.org/stable/modules/linear_model.html#logistic-regression\n",
            "  n_iter_i = _check_optimize_result(\n",
            "/Users/hansikarunarathna/opt/anaconda3/lib/python3.9/site-packages/sklearn/linear_model/_logistic.py:814: ConvergenceWarning: lbfgs failed to converge (status=1):\n",
            "STOP: TOTAL NO. of ITERATIONS REACHED LIMIT.\n",
            "\n",
            "Increase the number of iterations (max_iter) or scale the data as shown in:\n",
            "    https://scikit-learn.org/stable/modules/preprocessing.html\n",
            "Please also refer to the documentation for alternative solver options:\n",
            "    https://scikit-learn.org/stable/modules/linear_model.html#logistic-regression\n",
            "  n_iter_i = _check_optimize_result(\n",
            "/Users/hansikarunarathna/opt/anaconda3/lib/python3.9/site-packages/sklearn/linear_model/_logistic.py:814: ConvergenceWarning: lbfgs failed to converge (status=1):\n",
            "STOP: TOTAL NO. of ITERATIONS REACHED LIMIT.\n",
            "\n",
            "Increase the number of iterations (max_iter) or scale the data as shown in:\n",
            "    https://scikit-learn.org/stable/modules/preprocessing.html\n",
            "Please also refer to the documentation for alternative solver options:\n",
            "    https://scikit-learn.org/stable/modules/linear_model.html#logistic-regression\n",
            "  n_iter_i = _check_optimize_result(\n",
            "/Users/hansikarunarathna/opt/anaconda3/lib/python3.9/site-packages/sklearn/linear_model/_logistic.py:814: ConvergenceWarning: lbfgs failed to converge (status=1):\n",
            "STOP: TOTAL NO. of ITERATIONS REACHED LIMIT.\n",
            "\n",
            "Increase the number of iterations (max_iter) or scale the data as shown in:\n",
            "    https://scikit-learn.org/stable/modules/preprocessing.html\n",
            "Please also refer to the documentation for alternative solver options:\n",
            "    https://scikit-learn.org/stable/modules/linear_model.html#logistic-regression\n",
            "  n_iter_i = _check_optimize_result(\n",
            "/Users/hansikarunarathna/opt/anaconda3/lib/python3.9/site-packages/sklearn/linear_model/_logistic.py:814: ConvergenceWarning: lbfgs failed to converge (status=1):\n",
            "STOP: TOTAL NO. of ITERATIONS REACHED LIMIT.\n",
            "\n",
            "Increase the number of iterations (max_iter) or scale the data as shown in:\n",
            "    https://scikit-learn.org/stable/modules/preprocessing.html\n",
            "Please also refer to the documentation for alternative solver options:\n",
            "    https://scikit-learn.org/stable/modules/linear_model.html#logistic-regression\n",
            "  n_iter_i = _check_optimize_result(\n",
            "/Users/hansikarunarathna/opt/anaconda3/lib/python3.9/site-packages/sklearn/linear_model/_logistic.py:814: ConvergenceWarning: lbfgs failed to converge (status=1):\n",
            "STOP: TOTAL NO. of ITERATIONS REACHED LIMIT.\n",
            "\n",
            "Increase the number of iterations (max_iter) or scale the data as shown in:\n",
            "    https://scikit-learn.org/stable/modules/preprocessing.html\n",
            "Please also refer to the documentation for alternative solver options:\n",
            "    https://scikit-learn.org/stable/modules/linear_model.html#logistic-regression\n",
            "  n_iter_i = _check_optimize_result(\n",
            "/Users/hansikarunarathna/opt/anaconda3/lib/python3.9/site-packages/sklearn/linear_model/_logistic.py:814: ConvergenceWarning: lbfgs failed to converge (status=1):\n",
            "STOP: TOTAL NO. of ITERATIONS REACHED LIMIT.\n",
            "\n",
            "Increase the number of iterations (max_iter) or scale the data as shown in:\n",
            "    https://scikit-learn.org/stable/modules/preprocessing.html\n",
            "Please also refer to the documentation for alternative solver options:\n",
            "    https://scikit-learn.org/stable/modules/linear_model.html#logistic-regression\n",
            "  n_iter_i = _check_optimize_result(\n",
            "/Users/hansikarunarathna/opt/anaconda3/lib/python3.9/site-packages/sklearn/linear_model/_logistic.py:814: ConvergenceWarning: lbfgs failed to converge (status=1):\n",
            "STOP: TOTAL NO. of ITERATIONS REACHED LIMIT.\n",
            "\n",
            "Increase the number of iterations (max_iter) or scale the data as shown in:\n",
            "    https://scikit-learn.org/stable/modules/preprocessing.html\n",
            "Please also refer to the documentation for alternative solver options:\n",
            "    https://scikit-learn.org/stable/modules/linear_model.html#logistic-regression\n",
            "  n_iter_i = _check_optimize_result(\n",
            "/Users/hansikarunarathna/opt/anaconda3/lib/python3.9/site-packages/sklearn/linear_model/_logistic.py:814: ConvergenceWarning: lbfgs failed to converge (status=1):\n",
            "STOP: TOTAL NO. of ITERATIONS REACHED LIMIT.\n",
            "\n",
            "Increase the number of iterations (max_iter) or scale the data as shown in:\n",
            "    https://scikit-learn.org/stable/modules/preprocessing.html\n",
            "Please also refer to the documentation for alternative solver options:\n",
            "    https://scikit-learn.org/stable/modules/linear_model.html#logistic-regression\n",
            "  n_iter_i = _check_optimize_result(\n",
            "/Users/hansikarunarathna/opt/anaconda3/lib/python3.9/site-packages/sklearn/linear_model/_logistic.py:814: ConvergenceWarning: lbfgs failed to converge (status=1):\n",
            "STOP: TOTAL NO. of ITERATIONS REACHED LIMIT.\n",
            "\n",
            "Increase the number of iterations (max_iter) or scale the data as shown in:\n",
            "    https://scikit-learn.org/stable/modules/preprocessing.html\n",
            "Please also refer to the documentation for alternative solver options:\n",
            "    https://scikit-learn.org/stable/modules/linear_model.html#logistic-regression\n",
            "  n_iter_i = _check_optimize_result(\n",
            "/Users/hansikarunarathna/opt/anaconda3/lib/python3.9/site-packages/sklearn/linear_model/_logistic.py:814: ConvergenceWarning: lbfgs failed to converge (status=1):\n",
            "STOP: TOTAL NO. of ITERATIONS REACHED LIMIT.\n",
            "\n",
            "Increase the number of iterations (max_iter) or scale the data as shown in:\n",
            "    https://scikit-learn.org/stable/modules/preprocessing.html\n",
            "Please also refer to the documentation for alternative solver options:\n",
            "    https://scikit-learn.org/stable/modules/linear_model.html#logistic-regression\n",
            "  n_iter_i = _check_optimize_result(\n",
            "/Users/hansikarunarathna/opt/anaconda3/lib/python3.9/site-packages/sklearn/linear_model/_logistic.py:814: ConvergenceWarning: lbfgs failed to converge (status=1):\n",
            "STOP: TOTAL NO. of ITERATIONS REACHED LIMIT.\n",
            "\n",
            "Increase the number of iterations (max_iter) or scale the data as shown in:\n",
            "    https://scikit-learn.org/stable/modules/preprocessing.html\n",
            "Please also refer to the documentation for alternative solver options:\n",
            "    https://scikit-learn.org/stable/modules/linear_model.html#logistic-regression\n",
            "  n_iter_i = _check_optimize_result(\n",
            "/Users/hansikarunarathna/opt/anaconda3/lib/python3.9/site-packages/sklearn/linear_model/_logistic.py:814: ConvergenceWarning: lbfgs failed to converge (status=1):\n",
            "STOP: TOTAL NO. of ITERATIONS REACHED LIMIT.\n",
            "\n",
            "Increase the number of iterations (max_iter) or scale the data as shown in:\n",
            "    https://scikit-learn.org/stable/modules/preprocessing.html\n",
            "Please also refer to the documentation for alternative solver options:\n",
            "    https://scikit-learn.org/stable/modules/linear_model.html#logistic-regression\n",
            "  n_iter_i = _check_optimize_result(\n",
            "/Users/hansikarunarathna/opt/anaconda3/lib/python3.9/site-packages/sklearn/linear_model/_logistic.py:814: ConvergenceWarning: lbfgs failed to converge (status=1):\n",
            "STOP: TOTAL NO. of ITERATIONS REACHED LIMIT.\n",
            "\n",
            "Increase the number of iterations (max_iter) or scale the data as shown in:\n",
            "    https://scikit-learn.org/stable/modules/preprocessing.html\n",
            "Please also refer to the documentation for alternative solver options:\n",
            "    https://scikit-learn.org/stable/modules/linear_model.html#logistic-regression\n",
            "  n_iter_i = _check_optimize_result(\n",
            "/Users/hansikarunarathna/opt/anaconda3/lib/python3.9/site-packages/sklearn/linear_model/_logistic.py:814: ConvergenceWarning: lbfgs failed to converge (status=1):\n",
            "STOP: TOTAL NO. of ITERATIONS REACHED LIMIT.\n",
            "\n",
            "Increase the number of iterations (max_iter) or scale the data as shown in:\n",
            "    https://scikit-learn.org/stable/modules/preprocessing.html\n",
            "Please also refer to the documentation for alternative solver options:\n",
            "    https://scikit-learn.org/stable/modules/linear_model.html#logistic-regression\n",
            "  n_iter_i = _check_optimize_result(\n",
            "/Users/hansikarunarathna/opt/anaconda3/lib/python3.9/site-packages/sklearn/linear_model/_logistic.py:814: ConvergenceWarning: lbfgs failed to converge (status=1):\n",
            "STOP: TOTAL NO. of ITERATIONS REACHED LIMIT.\n",
            "\n",
            "Increase the number of iterations (max_iter) or scale the data as shown in:\n",
            "    https://scikit-learn.org/stable/modules/preprocessing.html\n",
            "Please also refer to the documentation for alternative solver options:\n",
            "    https://scikit-learn.org/stable/modules/linear_model.html#logistic-regression\n",
            "  n_iter_i = _check_optimize_result(\n",
            "/Users/hansikarunarathna/opt/anaconda3/lib/python3.9/site-packages/sklearn/linear_model/_logistic.py:814: ConvergenceWarning: lbfgs failed to converge (status=1):\n",
            "STOP: TOTAL NO. of ITERATIONS REACHED LIMIT.\n",
            "\n",
            "Increase the number of iterations (max_iter) or scale the data as shown in:\n",
            "    https://scikit-learn.org/stable/modules/preprocessing.html\n",
            "Please also refer to the documentation for alternative solver options:\n",
            "    https://scikit-learn.org/stable/modules/linear_model.html#logistic-regression\n",
            "  n_iter_i = _check_optimize_result(\n"
          ]
        },
        {
          "name": "stdout",
          "output_type": "stream",
          "text": [
            "Logistic Regression Best score: 0.8092836731263358 using best parameters {'C': 5, 'class_weight': None, 'max_iter': 500, 'penalty': 'l2'}\n"
          ]
        }
      ],
      "source": [
        "\n",
        "param_grid = [{'penalty': ['l2','l1','elasticent'],'C': [1.0, 2.0, 3.0, 5,0.5, 0.1],'class_weight': [None, 'balanced'],'max_iter': [500,2000,4000]}]\n",
        "clf_lgr = GridSearchCV(estimator= lreg_model, param_grid = param_grid, cv = 3, n_jobs=-1, scoring=met_grid ,refit='Accuracy')\n",
        "best_clf_lgr = clf_lgr.fit(X_train,y_train)\n",
        "print('Logistic Regression Best score: {} using best parameters {}'.format(best_clf_lgr.best_score_, best_clf_lgr.best_params_))"
      ]
    },
    {
      "cell_type": "code",
      "execution_count": 339,
      "id": "o16jssGJc6H7",
      "metadata": {
        "colab": {
          "base_uri": "https://localhost:8080/"
        },
        "id": "o16jssGJc6H7",
        "outputId": "fd3d19bd-4e16-45fc-f871-0d2ba6b39dc4"
      },
      "outputs": [
        {
          "name": "stdout",
          "output_type": "stream",
          "text": [
            "Training Accuracy : 0.8089234685301251\n",
            "Testing Accuracy : 0.8063540090771558\n",
            "F1 Score : 0.6918687589158344\n"
          ]
        }
      ],
      "source": [
        "LRG_tuned = clf_lgr.best_estimator_\n",
        "y_pred_LRG_tuned = LRG_tuned.predict(X_test)\n",
        "\n",
        "train_accuracy_LRG_tuned = LRG_tuned.score(X_train, y_train)\n",
        "test_accuracy_LRG_tuned = LRG_tuned.score(X_test, y_test)\n",
        "f1_LRG_tuned = f1_score(y_test, y_pred_LRG_tuned)\n",
        "\n",
        "\n",
        "print(f\"Training Accuracy : {train_accuracy_LRG_tuned}\")\n",
        "print(f\"Testing Accuracy : {test_accuracy_LRG_tuned}\")\n",
        "print(f\"F1 Score : {f1_LRG_tuned}\")\n",
        "\n",
        "\n"
      ]
    },
    {
      "cell_type": "markdown",
      "id": "sJ3mxVriZZBF",
      "metadata": {
        "id": "sJ3mxVriZZBF"
      },
      "source": [
        "### Decision Tree"
      ]
    },
    {
      "cell_type": "code",
      "execution_count": 340,
      "id": "4SrgzdMGZYF_",
      "metadata": {
        "colab": {
          "base_uri": "https://localhost:8080/"
        },
        "id": "4SrgzdMGZYF_",
        "outputId": "9bac23f7-9b37-4771-da89-191626d9c6e2"
      },
      "outputs": [
        {
          "name": "stdout",
          "output_type": "stream",
          "text": [
            "Decision Tree Best score: 0.8182647743918546 using best parameters {'max_depth': 15, 'min_samples_leaf': 20, 'min_samples_split': 6}\n"
          ]
        }
      ],
      "source": [
        "\n",
        "param_grid = [{'min_samples_split': [6,8,10,12,20],'max_depth': [5,10,15],'min_samples_leaf': [2,4,6,8,10,12,20]}]\n",
        "\n",
        "clf_dt = GridSearchCV(estimator= dt_model, param_grid = param_grid, cv = 3, n_jobs=-1, scoring=met_grid ,refit='Accuracy')\n",
        "best_clf_dt = clf_dt.fit(X_train,y_train)\n",
        "print('Decision Tree Best score: {} using best parameters {}'.format(best_clf_dt.best_score_, best_clf_dt.best_params_))"
      ]
    },
    {
      "cell_type": "code",
      "execution_count": 341,
      "id": "C9xhb3SdaB4v",
      "metadata": {
        "colab": {
          "base_uri": "https://localhost:8080/"
        },
        "id": "C9xhb3SdaB4v",
        "outputId": "2b6e1e38-a851-4a2b-cd28-db8c1e0193ba"
      },
      "outputs": [
        {
          "name": "stdout",
          "output_type": "stream",
          "text": [
            "Training Accuracy : 0.8341377902648704\n",
            "Testing Accuracy : 0.8162156104667451\n",
            "F1 Score : 0.7171438427043808\n"
          ]
        }
      ],
      "source": [
        "DT_tuned = clf_dt.best_estimator_\n",
        "y_pred_DT_tuned = DT_tuned.predict(X_test)\n",
        "\n",
        "train_accuracy_DT_tuned = DT_tuned.score(X_train, y_train)\n",
        "test_accuracy_DT_tuned = DT_tuned.score(X_test, y_test)\n",
        "f1_DT_tuned = f1_score(y_test, y_pred_DT_tuned)\n",
        "\n",
        "\n",
        "print(f\"Training Accuracy : {train_accuracy_DT_tuned}\")\n",
        "print(f\"Testing Accuracy : {test_accuracy_DT_tuned}\")\n",
        "print(f\"F1 Score : {f1_DT_tuned}\")\n",
        "\n",
        "\n",
        "\n"
      ]
    },
    {
      "attachments": {},
      "cell_type": "markdown",
      "id": "8157843d",
      "metadata": {},
      "source": [
        "### ADABoost"
      ]
    },
    {
      "cell_type": "code",
      "execution_count": 142,
      "id": "08c459c9",
      "metadata": {},
      "outputs": [
        {
          "name": "stdout",
          "output_type": "stream",
          "text": [
            "ADABoost Best score: 0.8155032058209063 using best parameters {'learning_rate': 1, 'n_estimators': 100}\n"
          ]
        }
      ],
      "source": [
        "\n",
        "param_grid = [{    'n_estimators': [50, 100, 150],'learning_rate': [0.01, 0.1, 1],'algorithm': ['SAMME', 'SAMME.R']}]\n",
        "\n",
        "clf_adaboost_model = GridSearchCV(estimator= adaboost_model, param_grid = param_grid, cv = 3, n_jobs=-1, scoring=met_grid ,refit='Accuracy')\n",
        "best_clf_adaboost_model = clf_adaboost_model.fit(X_train,y_train)\n",
        "print('ADABoost Best score: {} using best parameters {}'.format(best_clf_adaboost_model.best_score_, best_clf_adaboost_model.best_params_))"
      ]
    },
    {
      "cell_type": "code",
      "execution_count": 144,
      "id": "f10d08b5",
      "metadata": {},
      "outputs": [
        {
          "name": "stdout",
          "output_type": "stream",
          "text": [
            "Training Accuracy : 0.8174242970006964\n",
            "Testing Accuracy : 0.812237350815263\n",
            "F1 Score : 0.7096941869531318\n"
          ]
        }
      ],
      "source": [
        "adaboost_tuned = clf_adaboost_model.best_estimator_\n",
        "y_pred_KNN_tuned = adaboost_tuned.predict(X_test)\n",
        "\n",
        "train_accuracy_adaboost_tuned = adaboost_tuned.score(X_train, y_train)\n",
        "test_accuracy_adaboost_tuned = adaboost_tuned.score(X_test, y_test)\n",
        "f1_adaboost_tuned = f1_score(y_test, y_pred_KNN_tuned)\n",
        "\n",
        "\n",
        "print(f\"Training Accuracy : {train_accuracy_adaboost_tuned}\")\n",
        "print(f\"Testing Accuracy : {test_accuracy_adaboost_tuned}\")\n",
        "print(f\"F1 Score : {f1_adaboost_tuned}\")\n",
        "\n",
        "\n",
        "\n"
      ]
    },
    {
      "attachments": {},
      "cell_type": "markdown",
      "id": "082d70a2",
      "metadata": {},
      "source": [
        "### Bagging Classsifer"
      ]
    },
    {
      "cell_type": "code",
      "execution_count": 376,
      "id": "f5407159",
      "metadata": {},
      "outputs": [
        {
          "name": "stdout",
          "output_type": "stream",
          "text": [
            "Bagging Classifier Best score: 0.8133900055231371 using best parameters {'max_features': 0.5, 'max_samples': 0.3, 'n_estimators': 80}\n"
          ]
        }
      ],
      "source": [
        "\n",
        "param_grid = {\n",
        "    'n_estimators': [50, 80, 100],\n",
        "    'max_samples': [0.3, 0.2, 0.1],\n",
        "    'max_features': [0.5, 0.5, 0.1],\n",
        "\n",
        "}\n",
        "\n",
        "base_estimator = DecisionTreeClassifier(max_depth=10,min_samples_split=5)\n",
        "bagging_model = BaggingClassifier(base_estimator=base_estimator)\n",
        "\n",
        "clf_bagging_model = GridSearchCV(estimator= bagging_model, param_grid = param_grid, cv = 3, n_jobs=-1, scoring=met_grid ,refit='Accuracy')\n",
        "best_clf_bagging_model = clf_bagging_model.fit(X_train,y_train)\n",
        "print('Bagging Classifier Best score: {} using best parameters {}'.format(best_clf_bagging_model.best_score_, best_clf_bagging_model.best_params_))"
      ]
    },
    {
      "cell_type": "code",
      "execution_count": 378,
      "id": "3f53cb26",
      "metadata": {},
      "outputs": [
        {
          "name": "stdout",
          "output_type": "stream",
          "text": [
            "Training Accuracy : 0.8295511850731215\n",
            "Testing Accuracy : 0.8232756205524738\n",
            "F1 Score : 0.720042606071365\n"
          ]
        }
      ],
      "source": [
        "bagging_tuned =BaggingClassifier(base_estimator= DecisionTreeClassifier(max_depth=10,min_samples_split=5),n_estimators=150,max_samples=0.7,max_features=0.9)\n",
        "bagging_tuned.fit(X_train,y_train)\n",
        "\n",
        "y_pred_bagging_tuned = bagging_tuned.predict(X_test)\n",
        "train_accuracy_bagging_tuned = bagging_tuned.score(X_train, y_train)\n",
        "test_accuracy_bagging_tuned = bagging_tuned.score(X_test, y_test)\n",
        "f1_bagging_tuned = f1_score(y_test, y_pred_bagging_tuned)\n",
        "\n",
        "\n",
        "print(f\"Training Accuracy : {train_accuracy_bagging_tuned}\")\n",
        "print(f\"Testing Accuracy : {test_accuracy_bagging_tuned}\")\n",
        "print(f\"F1 Score : {f1_bagging_tuned}\")\n"
      ]
    },
    {
      "cell_type": "markdown",
      "id": "GGSRAODsruRo",
      "metadata": {
        "id": "GGSRAODsruRo"
      },
      "source": [
        "# Comparing Tuned Models"
      ]
    },
    {
      "cell_type": "code",
      "execution_count": 379,
      "id": "F5_KE6Z0ryeX",
      "metadata": {
        "id": "F5_KE6Z0ryeX"
      },
      "outputs": [],
      "source": [
        "evaluation_matrix_tuned = {\n",
        "    \"Training Accuracy\" : [train_accuracy_LRG_tuned, train_accuracy_DT_tuned, train_accuracy_RF_tuned, train_accuracy_XGB_tuned,train_accuracy_LGB_tuned,train_accuracy_bagging_tuned],\n",
        "    \"Testing Accuracy\": [test_accuracy_LRG_tuned, test_accuracy_DT_tuned, test_accuracy_RF_tuned, test_accuracy_XGB_tuned,test_accuracy_LGB_tuned,test_accuracy_bagging_tuned],\n",
        "    \"F1\": [f1_LRG_tuned, f1_DT_tuned, f1_RF_tuned, f1_XGB_tuned,f1_LGB_tuned,f1_bagging_model]\n",
        "\n",
        "}\n",
        "\n",
        "eva_tuned = pd.DataFrame(data = evaluation_matrix_tuned, index = ['Logistic Regression', 'Decision Tree', 'Random Forest', 'XGB','LGB','Bagging Classifier'])\n"
      ]
    },
    {
      "cell_type": "code",
      "execution_count": 380,
      "id": "J5BgZWtDLlpQ",
      "metadata": {
        "colab": {
          "base_uri": "https://localhost:8080/",
          "height": 162
        },
        "id": "J5BgZWtDLlpQ",
        "outputId": "3fe5b7b6-67ea-4429-c36e-2203c65412a4"
      },
      "outputs": [
        {
          "data": {
            "text/html": [
              "<style type=\"text/css\">\n",
              "</style>\n",
              "<table id=\"T_a6cb5_\" style='display:inline'>\n",
              "  <caption>Tuned Models</caption>\n",
              "  <thead>\n",
              "    <tr>\n",
              "      <th class=\"blank level0\" >&nbsp;</th>\n",
              "      <th class=\"col_heading level0 col0\" >Training Accuracy</th>\n",
              "      <th class=\"col_heading level0 col1\" >Testing Accuracy</th>\n",
              "      <th class=\"col_heading level0 col2\" >F1</th>\n",
              "    </tr>\n",
              "  </thead>\n",
              "  <tbody>\n",
              "    <tr>\n",
              "      <th id=\"T_a6cb5_level0_row0\" class=\"row_heading level0 row0\" >Logistic Regression</th>\n",
              "      <td id=\"T_a6cb5_row0_col0\" class=\"data row0 col0\" >0.808923</td>\n",
              "      <td id=\"T_a6cb5_row0_col1\" class=\"data row0 col1\" >0.806354</td>\n",
              "      <td id=\"T_a6cb5_row0_col2\" class=\"data row0 col2\" >0.691869</td>\n",
              "    </tr>\n",
              "    <tr>\n",
              "      <th id=\"T_a6cb5_level0_row1\" class=\"row_heading level0 row1\" >Decision Tree</th>\n",
              "      <td id=\"T_a6cb5_row1_col0\" class=\"data row1 col0\" >0.834138</td>\n",
              "      <td id=\"T_a6cb5_row1_col1\" class=\"data row1 col1\" >0.816216</td>\n",
              "      <td id=\"T_a6cb5_row1_col2\" class=\"data row1 col2\" >0.717144</td>\n",
              "    </tr>\n",
              "    <tr>\n",
              "      <th id=\"T_a6cb5_level0_row2\" class=\"row_heading level0 row2\" >Random Forest</th>\n",
              "      <td id=\"T_a6cb5_row2_col0\" class=\"data row2 col0\" >0.841102</td>\n",
              "      <td id=\"T_a6cb5_row2_col1\" class=\"data row2 col1\" >0.831288</td>\n",
              "      <td id=\"T_a6cb5_row2_col2\" class=\"data row2 col2\" >0.734409</td>\n",
              "    </tr>\n",
              "    <tr>\n",
              "      <th id=\"T_a6cb5_level0_row3\" class=\"row_heading level0 row3\" >XGB</th>\n",
              "      <td id=\"T_a6cb5_row3_col0\" class=\"data row3 col0\" >0.837380</td>\n",
              "      <td id=\"T_a6cb5_row3_col1\" class=\"data row3 col1\" >0.828150</td>\n",
              "      <td id=\"T_a6cb5_row3_col2\" class=\"data row3 col2\" >0.734021</td>\n",
              "    </tr>\n",
              "    <tr>\n",
              "      <th id=\"T_a6cb5_level0_row4\" class=\"row_heading level0 row4\" >LGB</th>\n",
              "      <td id=\"T_a6cb5_row4_col0\" class=\"data row4 col0\" >0.864323</td>\n",
              "      <td id=\"T_a6cb5_row4_col1\" class=\"data row4 col1\" >0.838348</td>\n",
              "      <td id=\"T_a6cb5_row4_col2\" class=\"data row4 col2\" >0.757746</td>\n",
              "    </tr>\n",
              "    <tr>\n",
              "      <th id=\"T_a6cb5_level0_row5\" class=\"row_heading level0 row5\" >Bagging Classifier</th>\n",
              "      <td id=\"T_a6cb5_row5_col0\" class=\"data row5 col0\" >0.829551</td>\n",
              "      <td id=\"T_a6cb5_row5_col1\" class=\"data row5 col1\" >0.823276</td>\n",
              "      <td id=\"T_a6cb5_row5_col2\" class=\"data row5 col2\" >0.758797</td>\n",
              "    </tr>\n",
              "  </tbody>\n",
              "</table>\n",
              "   "
            ],
            "text/plain": [
              "<IPython.core.display.HTML object>"
            ]
          },
          "metadata": {},
          "output_type": "display_data"
        }
      ],
      "source": [
        "display_side_by_side([ eva_tuned], ['Tuned Models'])\n"
      ]
    },
    {
      "cell_type": "markdown",
      "id": "MVvH5-Sosf21",
      "metadata": {
        "id": "MVvH5-Sosf21"
      },
      "source": [
        "# Applying StratifiedKfold Cross Validation Technique on top 3 algorithms to know the exact mean CV accuracy score of the models\n",
        "\n"
      ]
    },
    {
      "cell_type": "markdown",
      "id": "eJS8zs4R-WCf",
      "metadata": {
        "id": "eJS8zs4R-WCf"
      },
      "source": [
        "Input the best parameters obtained in hyper tuning tuning for respective alogorithms"
      ]
    },
    {
      "cell_type": "code",
      "execution_count": 346,
      "id": "068e0d5a",
      "metadata": {
        "id": "068e0d5a"
      },
      "outputs": [],
      "source": [
        "from sklearn.model_selection import cross_val_score,StratifiedKFold,cross_validate\n",
        "skfold = StratifiedKFold(n_splits= 5,shuffle= True,random_state= 42)\n"
      ]
    },
    {
      "cell_type": "markdown",
      "id": "bcf4a6bf",
      "metadata": {
        "id": "bcf4a6bf"
      },
      "source": [
        "### XGB"
      ]
    },
    {
      "cell_type": "code",
      "execution_count": 347,
      "id": "tEHmP5YX-q0e",
      "metadata": {
        "colab": {
          "base_uri": "https://localhost:8080/"
        },
        "id": "tEHmP5YX-q0e",
        "outputId": "1307a944-8338-44a8-ce5d-c329c5dc7019"
      },
      "outputs": [
        {
          "name": "stderr",
          "output_type": "stream",
          "text": [
            "/Users/hansikarunarathna/opt/anaconda3/lib/python3.9/site-packages/xgboost/sklearn.py:1224: UserWarning: The use of label encoder in XGBClassifier is deprecated and will be removed in a future release. To remove this warning, do the following: 1) Pass option use_label_encoder=False when constructing XGBClassifier object; and 2) Encode your labels (y) as integers starting with 0, i.e. 0, 1, 2, ..., [num_class - 1].\n",
            "  warnings.warn(label_encoder_deprecation_msg, UserWarning)\n",
            "/Users/hansikarunarathna/opt/anaconda3/lib/python3.9/site-packages/xgboost/sklearn.py:1224: UserWarning: The use of label encoder in XGBClassifier is deprecated and will be removed in a future release. To remove this warning, do the following: 1) Pass option use_label_encoder=False when constructing XGBClassifier object; and 2) Encode your labels (y) as integers starting with 0, i.e. 0, 1, 2, ..., [num_class - 1].\n",
            "  warnings.warn(label_encoder_deprecation_msg, UserWarning)\n",
            "/Users/hansikarunarathna/opt/anaconda3/lib/python3.9/site-packages/xgboost/sklearn.py:1224: UserWarning: The use of label encoder in XGBClassifier is deprecated and will be removed in a future release. To remove this warning, do the following: 1) Pass option use_label_encoder=False when constructing XGBClassifier object; and 2) Encode your labels (y) as integers starting with 0, i.e. 0, 1, 2, ..., [num_class - 1].\n",
            "  warnings.warn(label_encoder_deprecation_msg, UserWarning)\n",
            "/Users/hansikarunarathna/opt/anaconda3/lib/python3.9/site-packages/xgboost/sklearn.py:1224: UserWarning: The use of label encoder in XGBClassifier is deprecated and will be removed in a future release. To remove this warning, do the following: 1) Pass option use_label_encoder=False when constructing XGBClassifier object; and 2) Encode your labels (y) as integers starting with 0, i.e. 0, 1, 2, ..., [num_class - 1].\n",
            "  warnings.warn(label_encoder_deprecation_msg, UserWarning)\n",
            "/Users/hansikarunarathna/opt/anaconda3/lib/python3.9/site-packages/xgboost/sklearn.py:1224: UserWarning: The use of label encoder in XGBClassifier is deprecated and will be removed in a future release. To remove this warning, do the following: 1) Pass option use_label_encoder=False when constructing XGBClassifier object; and 2) Encode your labels (y) as integers starting with 0, i.e. 0, 1, 2, ..., [num_class - 1].\n",
            "  warnings.warn(label_encoder_deprecation_msg, UserWarning)\n"
          ]
        },
        {
          "name": "stdout",
          "output_type": "stream",
          "text": [
            "[21:38:04] WARNING: /Users/runner/miniforge3/conda-bld/xgboost-split_1643227205751/work/src/learner.cc:1115: Starting in XGBoost 1.3.0, the default evaluation metric used with the objective 'binary:logistic' was changed from 'error' to 'logloss'. Explicitly set eval_metric if you'd like to restore the old behavior.\n",
            "[21:38:04] WARNING: /Users/runner/miniforge3/conda-bld/xgboost-split_1643227205751/work/src/learner.cc:1115: Starting in XGBoost 1.3.0, the default evaluation metric used with the objective 'binary:logistic' was changed from 'error' to 'logloss'. Explicitly set eval_metric if you'd like to restore the old behavior.\n",
            "[21:38:04] WARNING: /Users/runner/miniforge3/conda-bld/xgboost-split_1643227205751/work/src/learner.cc:1115: Starting in XGBoost 1.3.0, the default evaluation metric used with the objective 'binary:logistic' was changed from 'error' to 'logloss'. Explicitly set eval_metric if you'd like to restore the old behavior.\n",
            "[21:38:04] WARNING: /Users/runner/miniforge3/conda-bld/xgboost-split_1643227205751/work/src/learner.cc:1115: Starting in XGBoost 1.3.0, the default evaluation metric used with the objective 'binary:logistic' was changed from 'error' to 'logloss'. Explicitly set eval_metric if you'd like to restore the old behavior.\n",
            "[21:38:04] WARNING: /Users/runner/miniforge3/conda-bld/xgboost-split_1643227205751/work/src/learner.cc:1115: Starting in XGBoost 1.3.0, the default evaluation metric used with the objective 'binary:logistic' was changed from 'error' to 'logloss'. Explicitly set eval_metric if you'd like to restore the old behavior.\n"
          ]
        },
        {
          "name": "stderr",
          "output_type": "stream",
          "text": [
            "/Users/hansikarunarathna/opt/anaconda3/lib/python3.9/site-packages/xgboost/sklearn.py:1224: UserWarning: The use of label encoder in XGBClassifier is deprecated and will be removed in a future release. To remove this warning, do the following: 1) Pass option use_label_encoder=False when constructing XGBClassifier object; and 2) Encode your labels (y) as integers starting with 0, i.e. 0, 1, 2, ..., [num_class - 1].\n",
            "  warnings.warn(label_encoder_deprecation_msg, UserWarning)\n",
            "/Users/hansikarunarathna/opt/anaconda3/lib/python3.9/site-packages/xgboost/sklearn.py:1224: UserWarning: The use of label encoder in XGBClassifier is deprecated and will be removed in a future release. To remove this warning, do the following: 1) Pass option use_label_encoder=False when constructing XGBClassifier object; and 2) Encode your labels (y) as integers starting with 0, i.e. 0, 1, 2, ..., [num_class - 1].\n",
            "  warnings.warn(label_encoder_deprecation_msg, UserWarning)\n",
            "/Users/hansikarunarathna/opt/anaconda3/lib/python3.9/site-packages/xgboost/sklearn.py:1224: UserWarning: The use of label encoder in XGBClassifier is deprecated and will be removed in a future release. To remove this warning, do the following: 1) Pass option use_label_encoder=False when constructing XGBClassifier object; and 2) Encode your labels (y) as integers starting with 0, i.e. 0, 1, 2, ..., [num_class - 1].\n",
            "  warnings.warn(label_encoder_deprecation_msg, UserWarning)\n",
            "/Users/hansikarunarathna/opt/anaconda3/lib/python3.9/site-packages/xgboost/sklearn.py:1224: UserWarning: The use of label encoder in XGBClassifier is deprecated and will be removed in a future release. To remove this warning, do the following: 1) Pass option use_label_encoder=False when constructing XGBClassifier object; and 2) Encode your labels (y) as integers starting with 0, i.e. 0, 1, 2, ..., [num_class - 1].\n",
            "  warnings.warn(label_encoder_deprecation_msg, UserWarning)\n",
            "/Users/hansikarunarathna/opt/anaconda3/lib/python3.9/site-packages/xgboost/sklearn.py:1224: UserWarning: The use of label encoder in XGBClassifier is deprecated and will be removed in a future release. To remove this warning, do the following: 1) Pass option use_label_encoder=False when constructing XGBClassifier object; and 2) Encode your labels (y) as integers starting with 0, i.e. 0, 1, 2, ..., [num_class - 1].\n",
            "  warnings.warn(label_encoder_deprecation_msg, UserWarning)\n"
          ]
        },
        {
          "name": "stdout",
          "output_type": "stream",
          "text": [
            "[21:38:26] WARNING: /Users/runner/miniforge3/conda-bld/xgboost-split_1643227205751/work/src/learner.cc:1115: Starting in XGBoost 1.3.0, the default evaluation metric used with the objective 'binary:logistic' was changed from 'error' to 'logloss'. Explicitly set eval_metric if you'd like to restore the old behavior.\n",
            "[21:38:26] WARNING: /Users/runner/miniforge3/conda-bld/xgboost-split_1643227205751/work/src/learner.cc:1115: Starting in XGBoost 1.3.0, the default evaluation metric used with the objective 'binary:logistic' was changed from 'error' to 'logloss'. Explicitly set eval_metric if you'd like to restore the old behavior.\n",
            "[21:38:26] WARNING: /Users/runner/miniforge3/conda-bld/xgboost-split_1643227205751/work/src/learner.cc:1115: Starting in XGBoost 1.3.0, the default evaluation metric used with the objective 'binary:logistic' was changed from 'error' to 'logloss'. Explicitly set eval_metric if you'd like to restore the old behavior.\n",
            "[21:38:26] WARNING: /Users/runner/miniforge3/conda-bld/xgboost-split_1643227205751/work/src/learner.cc:1115: Starting in XGBoost 1.3.0, the default evaluation metric used with the objective 'binary:logistic' was changed from 'error' to 'logloss'. Explicitly set eval_metric if you'd like to restore the old behavior.\n",
            "[21:38:26] WARNING: /Users/runner/miniforge3/conda-bld/xgboost-split_1643227205751/work/src/learner.cc:1115: Starting in XGBoost 1.3.0, the default evaluation metric used with the objective 'binary:logistic' was changed from 'error' to 'logloss'. Explicitly set eval_metric if you'd like to restore the old behavior.\n",
            "XGBOOST CV Mean Accuracy Score is 82.97697091948226\n",
            "XGBOOST CV F1 Score is 73.79182517504547\n"
          ]
        }
      ],
      "source": [
        "xgb_model=XGBClassifier(learning_rate=0.1, max_depth=5, n_estimators= 200)\n",
        "xgb_cv_result_acc = cross_val_score(xgb_model,X, y, cv=skfold, scoring=\"accuracy\",n_jobs=-1)\n",
        "xgb_cv_acc = xgb_cv_result_acc.mean()*100\n",
        "\n",
        "xgb_cv_result_f1 = cross_val_score(xgb_model,X, y, cv=skfold,scoring=\"f1\",n_jobs=-1)\n",
        "xgb_cv_f1 = xgb_cv_result_f1.mean()*100\n",
        "print('XGBOOST CV Mean Accuracy Score is {}'.format(xgb_cv_acc))\n",
        "print('XGBOOST CV F1 Score is {}'.format(xgb_cv_f1))"
      ]
    },
    {
      "cell_type": "code",
      "execution_count": 348,
      "id": "MtXFiu3OQYeK",
      "metadata": {
        "colab": {
          "base_uri": "https://localhost:8080/",
          "height": 473
        },
        "id": "MtXFiu3OQYeK",
        "outputId": "0e15a6c0-ba41-4713-a2e8-6c8d1f0f8d96"
      },
      "outputs": [
        {
          "name": "stdout",
          "output_type": "stream",
          "text": [
            "[21:38:49] WARNING: /Users/runner/miniforge3/conda-bld/xgboost-split_1643227205751/work/src/learner.cc:1115: Starting in XGBoost 1.3.0, the default evaluation metric used with the objective 'binary:logistic' was changed from 'error' to 'logloss'. Explicitly set eval_metric if you'd like to restore the old behavior.\n",
            "              precision    recall  f1-score   support\n",
            "\n",
            "           0       0.82      0.94      0.87     11276\n",
            "           1       0.85      0.64      0.73      6571\n",
            "\n",
            "    accuracy                           0.83     17847\n",
            "   macro avg       0.84      0.79      0.80     17847\n",
            "weighted avg       0.83      0.83      0.82     17847\n",
            "\n"
          ]
        },
        {
          "data": {
            "image/png": "[encoded data removed]",
            "text/plain": [
              "<Figure size 504x360 with 2 Axes>"
            ]
          },
          "metadata": {},
          "output_type": "display_data"
        }
      ],
      "source": [
        "xgb_model.fit(X_train,y_train)\n",
        "y_predicted=xgb_model.predict(X_test)\n",
        "\n",
        "cm=confusion_matrix(y_test, y_predicted)\n",
        "df_stacked_model = pd.DataFrame(data = cm, index = ['actual 1', 'actual 0'], columns = ['Predicted 1', 'Predicted 0'])\n",
        "\n",
        "\n",
        "plt.figure(figsize = (7, 5))\n",
        "sns.heatmap(df_stacked_model, annot = True,fmt='g')\n",
        "\n",
        "print(classification_report(y_test, y_predicted))\n"
      ]
    },
    {
      "cell_type": "markdown",
      "id": "eu7u0DOs5R6Q",
      "metadata": {
        "id": "eu7u0DOs5R6Q"
      },
      "source": [
        "### LGB"
      ]
    },
    {
      "cell_type": "code",
      "execution_count": 349,
      "id": "Q-gx_0jq5S6-",
      "metadata": {
        "colab": {
          "base_uri": "https://localhost:8080/"
        },
        "id": "Q-gx_0jq5S6-",
        "outputId": "604a7a4e-5f2a-4139-cfff-e9bf319c35bf"
      },
      "outputs": [
        {
          "name": "stdout",
          "output_type": "stream",
          "text": [
            "[LightGBM] [Warning] Accuracy may be bad since you didn't explicitly set num_leaves OR 2^max_depth > num_leaves. (num_leaves=31).\n",
            "[LightGBM] [Warning] Accuracy may be bad since you didn't explicitly set num_leaves OR 2^max_depth > num_leaves. (num_leaves=31).\n",
            "[LightGBM] [Warning] Accuracy may be bad since you didn't explicitly set num_leaves OR 2^max_depth > num_leaves. (num_leaves=31).\n",
            "[LightGBM] [Warning] Accuracy may be bad since you didn't explicitly set num_leaves OR 2^max_depth > num_leaves. (num_leaves=31).\n",
            "[LightGBM] [Warning] Accuracy may be bad since you didn't explicitly set num_leaves OR 2^max_depth > num_leaves. (num_leaves=31).\n"
          ]
        },
        {
          "name": "stderr",
          "output_type": "stream",
          "text": [
            "/Users/hansikarunarathna/opt/anaconda3/lib/python3.9/site-packages/xgboost/sklearn.py:1224: UserWarning: The use of label encoder in XGBClassifier is deprecated and will be removed in a future release. To remove this warning, do the following: 1) Pass option use_label_encoder=False when constructing XGBClassifier object; and 2) Encode your labels (y) as integers starting with 0, i.e. 0, 1, 2, ..., [num_class - 1].\n",
            "  warnings.warn(label_encoder_deprecation_msg, UserWarning)\n",
            "/Users/hansikarunarathna/opt/anaconda3/lib/python3.9/site-packages/xgboost/sklearn.py:1224: UserWarning: The use of label encoder in XGBClassifier is deprecated and will be removed in a future release. To remove this warning, do the following: 1) Pass option use_label_encoder=False when constructing XGBClassifier object; and 2) Encode your labels (y) as integers starting with 0, i.e. 0, 1, 2, ..., [num_class - 1].\n",
            "  warnings.warn(label_encoder_deprecation_msg, UserWarning)\n",
            "/Users/hansikarunarathna/opt/anaconda3/lib/python3.9/site-packages/xgboost/sklearn.py:1224: UserWarning: The use of label encoder in XGBClassifier is deprecated and will be removed in a future release. To remove this warning, do the following: 1) Pass option use_label_encoder=False when constructing XGBClassifier object; and 2) Encode your labels (y) as integers starting with 0, i.e. 0, 1, 2, ..., [num_class - 1].\n",
            "  warnings.warn(label_encoder_deprecation_msg, UserWarning)\n",
            "/Users/hansikarunarathna/opt/anaconda3/lib/python3.9/site-packages/xgboost/sklearn.py:1224: UserWarning: The use of label encoder in XGBClassifier is deprecated and will be removed in a future release. To remove this warning, do the following: 1) Pass option use_label_encoder=False when constructing XGBClassifier object; and 2) Encode your labels (y) as integers starting with 0, i.e. 0, 1, 2, ..., [num_class - 1].\n",
            "  warnings.warn(label_encoder_deprecation_msg, UserWarning)\n",
            "/Users/hansikarunarathna/opt/anaconda3/lib/python3.9/site-packages/xgboost/sklearn.py:1224: UserWarning: The use of label encoder in XGBClassifier is deprecated and will be removed in a future release. To remove this warning, do the following: 1) Pass option use_label_encoder=False when constructing XGBClassifier object; and 2) Encode your labels (y) as integers starting with 0, i.e. 0, 1, 2, ..., [num_class - 1].\n",
            "  warnings.warn(label_encoder_deprecation_msg, UserWarning)\n"
          ]
        },
        {
          "name": "stdout",
          "output_type": "stream",
          "text": [
            "[21:40:07] WARNING: /Users/runner/miniforge3/conda-bld/xgboost-split_1643227205751/work/src/learner.cc:1115: Starting in XGBoost 1.3.0, the default evaluation metric used with the objective 'binary:logistic' was changed from 'error' to 'logloss'. Explicitly set eval_metric if you'd like to restore the old behavior.\n",
            "[21:40:07] WARNING: /Users/runner/miniforge3/conda-bld/xgboost-split_1643227205751/work/src/learner.cc:1115: Starting in XGBoost 1.3.0, the default evaluation metric used with the objective 'binary:logistic' was changed from 'error' to 'logloss'. Explicitly set eval_metric if you'd like to restore the old behavior.\n",
            "[21:40:07] WARNING: /Users/runner/miniforge3/conda-bld/xgboost-split_1643227205751/work/src/learner.cc:1115: Starting in XGBoost 1.3.0, the default evaluation metric used with the objective 'binary:logistic' was changed from 'error' to 'logloss'. Explicitly set eval_metric if you'd like to restore the old behavior.\n",
            "[21:40:07] WARNING: /Users/runner/miniforge3/conda-bld/xgboost-split_1643227205751/work/src/learner.cc:1115: Starting in XGBoost 1.3.0, the default evaluation metric used with the objective 'binary:logistic' was changed from 'error' to 'logloss'. Explicitly set eval_metric if you'd like to restore the old behavior.\n",
            "[21:40:07] WARNING: /Users/runner/miniforge3/conda-bld/xgboost-split_1643227205751/work/src/learner.cc:1115: Starting in XGBoost 1.3.0, the default evaluation metric used with the objective 'binary:logistic' was changed from 'error' to 'logloss'. Explicitly set eval_metric if you'd like to restore the old behavior.\n",
            "LGB CV Mean Accuracy Score is 83.82417212976972\n",
            "LGB CV F1 Score is 73.79182517504547\n"
          ]
        }
      ],
      "source": [
        "lgb_model=lgb.LGBMClassifier(learning_rate=0.1, max_depth= 5, n_estimators=500)\n",
        "\n",
        "lgb_cv_result_acc = cross_val_score(lgb_model,X, y, cv=skfold, scoring=\"accuracy\",n_jobs=-1)\n",
        "lgb_cv_acc = lgb_cv_result_acc.mean()*100\n",
        "\n",
        "lgb_cv_result_f1 = cross_val_score(xgb_model,X, y, cv=skfold,scoring=\"f1\",n_jobs=-1)\n",
        "lgb_cv_f1 = lgb_cv_result_f1.mean()*100\n",
        "print('LGB CV Mean Accuracy Score is {}'.format(lgb_cv_acc))\n",
        "print('LGB CV F1 Score is {}'.format(lgb_cv_f1))"
      ]
    },
    {
      "cell_type": "code",
      "execution_count": 350,
      "id": "yAq9JjRS5hsD",
      "metadata": {
        "colab": {
          "base_uri": "https://localhost:8080/",
          "height": 473
        },
        "id": "yAq9JjRS5hsD",
        "outputId": "7748bc6f-067b-4bfb-e2f1-68cfd24640ae"
      },
      "outputs": [
        {
          "name": "stdout",
          "output_type": "stream",
          "text": [
            "[LightGBM] [Warning] Accuracy may be bad since you didn't explicitly set num_leaves OR 2^max_depth > num_leaves. (num_leaves=31).\n",
            "              precision    recall  f1-score   support\n",
            "\n",
            "           0       0.84      0.93      0.88     11276\n",
            "           1       0.85      0.69      0.76      6571\n",
            "\n",
            "    accuracy                           0.84     17847\n",
            "   macro avg       0.84      0.81      0.82     17847\n",
            "weighted avg       0.84      0.84      0.83     17847\n",
            "\n"
          ]
        },
        {
          "data": {
            "image/png": "[encoded data removed]",
            "text/plain": [
              "<Figure size 504x360 with 2 Axes>"
            ]
          },
          "metadata": {},
          "output_type": "display_data"
        }
      ],
      "source": [
        "lgb_model.fit(X_train,y_train)\n",
        "y_predicted=lgb_model.predict(X_test)\n",
        "\n",
        "cm=confusion_matrix(y_test, y_predicted)\n",
        "df_stacked_model = pd.DataFrame(data = cm, index = ['actual 1', 'actual 0'], columns = ['Predicted 1', 'Predicted 0'])\n",
        "\n",
        "\n",
        "plt.figure(figsize = (7, 5))\n",
        "sns.heatmap(df_stacked_model, annot = True,fmt='g')\n",
        "\n",
        "print(classification_report(y_test, y_predicted))\n"
      ]
    },
    {
      "cell_type": "markdown",
      "id": "Pw4s32XFM-DC",
      "metadata": {
        "id": "Pw4s32XFM-DC"
      },
      "source": [
        "### Decision Tree"
      ]
    },
    {
      "cell_type": "code",
      "execution_count": 351,
      "id": "HeSSTDJuNA0S",
      "metadata": {
        "colab": {
          "base_uri": "https://localhost:8080/"
        },
        "id": "HeSSTDJuNA0S",
        "outputId": "18d97beb-96cf-432e-84f7-6e4db00357af"
      },
      "outputs": [
        {
          "name": "stdout",
          "output_type": "stream",
          "text": [
            "DecisionTree CV Mean Accuracy Score is 81.73810724491511\n",
            "DecisionTree CV F1 Score  is 71.79750129855105\n"
          ]
        }
      ],
      "source": [
        "dt_model=DecisionTreeClassifier(max_depth= 10, min_samples_leaf= 10, min_samples_split= 12)\n",
        "dt_cv_result_acc = cross_val_score(dt_model,X, y, cv=skfold,scoring=\"accuracy\",n_jobs=-1)\n",
        "dt_cv_acc = dt_cv_result_acc.mean()*100\n",
        "print('DecisionTree CV Mean Accuracy Score is {}'.format(dt_cv_acc))\n",
        "\n",
        "dt_cv_result_f1 = cross_val_score(dt_model,X, y, cv=skfold,scoring=\"f1\",n_jobs=-1)\n",
        "dt_cv_f1 = dt_cv_result_f1.mean()*100\n",
        "print('DecisionTree CV F1 Score  is {}'.format(dt_cv_f1))"
      ]
    },
    {
      "cell_type": "code",
      "execution_count": 352,
      "id": "rb7GOvCsPbP7",
      "metadata": {
        "colab": {
          "base_uri": "https://localhost:8080/",
          "height": 473
        },
        "id": "rb7GOvCsPbP7",
        "outputId": "2b8fb0eb-73be-4c76-88b5-1998ac62e42e"
      },
      "outputs": [
        {
          "name": "stdout",
          "output_type": "stream",
          "text": [
            "              precision    recall  f1-score   support\n",
            "\n",
            "           0       0.81      0.93      0.87     11276\n",
            "           1       0.84      0.62      0.71      6571\n",
            "\n",
            "    accuracy                           0.82     17847\n",
            "   macro avg       0.83      0.78      0.79     17847\n",
            "weighted avg       0.82      0.82      0.81     17847\n",
            "\n"
          ]
        },
        {
          "data": {
            "image/png": "[encoded data removed]",
            "text/plain": [
              "<Figure size 504x360 with 2 Axes>"
            ]
          },
          "metadata": {},
          "output_type": "display_data"
        }
      ],
      "source": [
        "dt_model.fit(X_train,y_train)\n",
        "y_predicted=dt_model.predict(X_test)\n",
        "\n",
        "cm=confusion_matrix(y_test, y_predicted)\n",
        "df_stacked_model = pd.DataFrame(data = cm, index = ['actual 1', 'actual 0'], columns = ['Predicted 1', 'Predicted 0'])\n",
        "\n",
        "\n",
        "plt.figure(figsize = (7, 5))\n",
        "sns.heatmap(df_stacked_model, annot = True,fmt='g')\n",
        "\n",
        "print(classification_report(y_test, y_predicted))\n"
      ]
    },
    {
      "cell_type": "markdown",
      "id": "QUGS8FglNDe-",
      "metadata": {
        "id": "QUGS8FglNDe-"
      },
      "source": [
        "### Random Forest"
      ]
    },
    {
      "cell_type": "code",
      "execution_count": 353,
      "id": "TI1EdH3HNGZ9",
      "metadata": {
        "colab": {
          "base_uri": "https://localhost:8080/"
        },
        "id": "TI1EdH3HNGZ9",
        "outputId": "f041707e-3d45-4582-92e6-8ebc2f2bcd6d"
      },
      "outputs": [
        {
          "name": "stdout",
          "output_type": "stream",
          "text": [
            "Random Forest CV Mean Accuracy Score is 83.00554715078164\n",
            "Random Forest CV F1 Score  is 73.34253196669854\n"
          ]
        }
      ],
      "source": [
        "rf_model=RandomForestClassifier(max_depth= 15, min_samples_leaf= 2, min_samples_split=4)\n",
        "rf_cv_result_acc = cross_val_score(rf_model,X, y, cv=skfold,scoring=\"accuracy\",n_jobs=-1)\n",
        "rf_cv_acc = rf_cv_result_acc.mean()*100\n",
        "print('Random Forest CV Mean Accuracy Score is {}'.format(rf_cv_acc))\n",
        "\n",
        "rf_cv_result_f1 = cross_val_score(rf_model,X, y, cv=skfold,scoring=\"f1\",n_jobs=-1)\n",
        "rf_cv_f1 = rf_cv_result_f1.mean()*100\n",
        "print('Random Forest CV F1 Score  is {}'.format(rf_cv_f1))"
      ]
    },
    {
      "cell_type": "code",
      "execution_count": 354,
      "id": "riWx9KXSQKAA",
      "metadata": {
        "colab": {
          "base_uri": "https://localhost:8080/",
          "height": 473
        },
        "id": "riWx9KXSQKAA",
        "outputId": "6b67c59d-c06a-42e2-eab4-0f45eac40bc5"
      },
      "outputs": [
        {
          "name": "stdout",
          "output_type": "stream",
          "text": [
            "              precision    recall  f1-score   support\n",
            "\n",
            "           0       0.82      0.95      0.88     11276\n",
            "           1       0.87      0.63      0.73      6571\n",
            "\n",
            "    accuracy                           0.83     17847\n",
            "   macro avg       0.84      0.79      0.80     17847\n",
            "weighted avg       0.84      0.83      0.82     17847\n",
            "\n"
          ]
        },
        {
          "data": {
            "image/png": "[encoded data removed]",
            "text/plain": [
              "<Figure size 504x360 with 2 Axes>"
            ]
          },
          "metadata": {},
          "output_type": "display_data"
        }
      ],
      "source": [
        "rf_model.fit(X_train,y_train)\n",
        "y_predicted=rf_model.predict(X_test)\n",
        "\n",
        "cm=confusion_matrix(y_test, y_predicted)\n",
        "df_stacked_model = pd.DataFrame(data = cm, index = ['actual 1', 'actual 0'], columns = ['Predicted 1', 'Predicted 0'])\n",
        "\n",
        "\n",
        "plt.figure(figsize = (7, 5))\n",
        "sns.heatmap(df_stacked_model, annot = True,fmt='g')\n",
        "\n",
        "print(classification_report(y_test, y_predicted))\n"
      ]
    },
    {
      "cell_type": "markdown",
      "id": "c963bd86",
      "metadata": {
        "id": "c963bd86"
      },
      "source": [
        "### Logistic Regresion"
      ]
    },
    {
      "cell_type": "code",
      "execution_count": 355,
      "id": "7610ddb5",
      "metadata": {
        "colab": {
          "base_uri": "https://localhost:8080/"
        },
        "id": "7610ddb5",
        "outputId": "c7454f90-698c-4df2-c654-25068b370f0c"
      },
      "outputs": [
        {
          "name": "stderr",
          "output_type": "stream",
          "text": [
            "/Users/hansikarunarathna/opt/anaconda3/lib/python3.9/site-packages/sklearn/linear_model/_logistic.py:814: ConvergenceWarning: lbfgs failed to converge (status=1):\n",
            "STOP: TOTAL NO. of ITERATIONS REACHED LIMIT.\n",
            "\n",
            "Increase the number of iterations (max_iter) or scale the data as shown in:\n",
            "    https://scikit-learn.org/stable/modules/preprocessing.html\n",
            "Please also refer to the documentation for alternative solver options:\n",
            "    https://scikit-learn.org/stable/modules/linear_model.html#logistic-regression\n",
            "  n_iter_i = _check_optimize_result(\n",
            "/Users/hansikarunarathna/opt/anaconda3/lib/python3.9/site-packages/sklearn/linear_model/_logistic.py:814: ConvergenceWarning: lbfgs failed to converge (status=1):\n",
            "STOP: TOTAL NO. of ITERATIONS REACHED LIMIT.\n",
            "\n",
            "Increase the number of iterations (max_iter) or scale the data as shown in:\n",
            "    https://scikit-learn.org/stable/modules/preprocessing.html\n",
            "Please also refer to the documentation for alternative solver options:\n",
            "    https://scikit-learn.org/stable/modules/linear_model.html#logistic-regression\n",
            "  n_iter_i = _check_optimize_result(\n",
            "/Users/hansikarunarathna/opt/anaconda3/lib/python3.9/site-packages/sklearn/linear_model/_logistic.py:814: ConvergenceWarning: lbfgs failed to converge (status=1):\n",
            "STOP: TOTAL NO. of ITERATIONS REACHED LIMIT.\n",
            "\n",
            "Increase the number of iterations (max_iter) or scale the data as shown in:\n",
            "    https://scikit-learn.org/stable/modules/preprocessing.html\n",
            "Please also refer to the documentation for alternative solver options:\n",
            "    https://scikit-learn.org/stable/modules/linear_model.html#logistic-regression\n",
            "  n_iter_i = _check_optimize_result(\n",
            "/Users/hansikarunarathna/opt/anaconda3/lib/python3.9/site-packages/sklearn/linear_model/_logistic.py:814: ConvergenceWarning: lbfgs failed to converge (status=1):\n",
            "STOP: TOTAL NO. of ITERATIONS REACHED LIMIT.\n",
            "\n",
            "Increase the number of iterations (max_iter) or scale the data as shown in:\n",
            "    https://scikit-learn.org/stable/modules/preprocessing.html\n",
            "Please also refer to the documentation for alternative solver options:\n",
            "    https://scikit-learn.org/stable/modules/linear_model.html#logistic-regression\n",
            "  n_iter_i = _check_optimize_result(\n",
            "/Users/hansikarunarathna/opt/anaconda3/lib/python3.9/site-packages/sklearn/linear_model/_logistic.py:814: ConvergenceWarning: lbfgs failed to converge (status=1):\n",
            "STOP: TOTAL NO. of ITERATIONS REACHED LIMIT.\n",
            "\n",
            "Increase the number of iterations (max_iter) or scale the data as shown in:\n",
            "    https://scikit-learn.org/stable/modules/preprocessing.html\n",
            "Please also refer to the documentation for alternative solver options:\n",
            "    https://scikit-learn.org/stable/modules/linear_model.html#logistic-regression\n",
            "  n_iter_i = _check_optimize_result(\n"
          ]
        },
        {
          "name": "stdout",
          "output_type": "stream",
          "text": [
            "Logistic Regression  CV Mean Accuarcy Score is 80.6169104051101\n"
          ]
        },
        {
          "name": "stderr",
          "output_type": "stream",
          "text": [
            "/Users/hansikarunarathna/opt/anaconda3/lib/python3.9/site-packages/sklearn/linear_model/_logistic.py:814: ConvergenceWarning: lbfgs failed to converge (status=1):\n",
            "STOP: TOTAL NO. of ITERATIONS REACHED LIMIT.\n",
            "\n",
            "Increase the number of iterations (max_iter) or scale the data as shown in:\n",
            "    https://scikit-learn.org/stable/modules/preprocessing.html\n",
            "Please also refer to the documentation for alternative solver options:\n",
            "    https://scikit-learn.org/stable/modules/linear_model.html#logistic-regression\n",
            "  n_iter_i = _check_optimize_result(\n",
            "/Users/hansikarunarathna/opt/anaconda3/lib/python3.9/site-packages/sklearn/linear_model/_logistic.py:814: ConvergenceWarning: lbfgs failed to converge (status=1):\n",
            "STOP: TOTAL NO. of ITERATIONS REACHED LIMIT.\n",
            "\n",
            "Increase the number of iterations (max_iter) or scale the data as shown in:\n",
            "    https://scikit-learn.org/stable/modules/preprocessing.html\n",
            "Please also refer to the documentation for alternative solver options:\n",
            "    https://scikit-learn.org/stable/modules/linear_model.html#logistic-regression\n",
            "  n_iter_i = _check_optimize_result(\n",
            "/Users/hansikarunarathna/opt/anaconda3/lib/python3.9/site-packages/sklearn/linear_model/_logistic.py:814: ConvergenceWarning: lbfgs failed to converge (status=1):\n",
            "STOP: TOTAL NO. of ITERATIONS REACHED LIMIT.\n",
            "\n",
            "Increase the number of iterations (max_iter) or scale the data as shown in:\n",
            "    https://scikit-learn.org/stable/modules/preprocessing.html\n",
            "Please also refer to the documentation for alternative solver options:\n",
            "    https://scikit-learn.org/stable/modules/linear_model.html#logistic-regression\n",
            "  n_iter_i = _check_optimize_result(\n",
            "/Users/hansikarunarathna/opt/anaconda3/lib/python3.9/site-packages/sklearn/linear_model/_logistic.py:814: ConvergenceWarning: lbfgs failed to converge (status=1):\n",
            "STOP: TOTAL NO. of ITERATIONS REACHED LIMIT.\n",
            "\n",
            "Increase the number of iterations (max_iter) or scale the data as shown in:\n",
            "    https://scikit-learn.org/stable/modules/preprocessing.html\n",
            "Please also refer to the documentation for alternative solver options:\n",
            "    https://scikit-learn.org/stable/modules/linear_model.html#logistic-regression\n",
            "  n_iter_i = _check_optimize_result(\n",
            "/Users/hansikarunarathna/opt/anaconda3/lib/python3.9/site-packages/sklearn/linear_model/_logistic.py:814: ConvergenceWarning: lbfgs failed to converge (status=1):\n",
            "STOP: TOTAL NO. of ITERATIONS REACHED LIMIT.\n",
            "\n",
            "Increase the number of iterations (max_iter) or scale the data as shown in:\n",
            "    https://scikit-learn.org/stable/modules/preprocessing.html\n",
            "Please also refer to the documentation for alternative solver options:\n",
            "    https://scikit-learn.org/stable/modules/linear_model.html#logistic-regression\n",
            "  n_iter_i = _check_optimize_result(\n"
          ]
        },
        {
          "name": "stdout",
          "output_type": "stream",
          "text": [
            "Logistic Regression CV Mean F1 Score is 69.30423122089525\n"
          ]
        }
      ],
      "source": [
        "lrg_model=LogisticRegression(C= 5, max_iter= 500, penalty='l2',class_weight= None)\n",
        "# solver= 'lbfgs'\n",
        "lrg_cv_result_acc = cross_val_score(lrg_model,X, y, cv=skfold,scoring=\"accuracy\",n_jobs=-1)\n",
        "lrg_cv_acc = lrg_cv_result_acc.mean()*100\n",
        "print('Logistic Regression  CV Mean Accuarcy Score is {}'.format(lrg_cv_acc))\n",
        "\n",
        "lrg_cv_result_f1 = cross_val_score(lrg_model,X, y, cv=skfold,scoring=\"f1\",n_jobs=-1)\n",
        "lrg_cv_f1 = lrg_cv_result_f1.mean()*100\n",
        "print('Logistic Regression CV Mean F1 Score is {}'.format(lrg_cv_f1))"
      ]
    },
    {
      "cell_type": "code",
      "execution_count": 356,
      "id": "HGD8hE3Y7WK3",
      "metadata": {
        "colab": {
          "base_uri": "https://localhost:8080/",
          "height": 473
        },
        "id": "HGD8hE3Y7WK3",
        "outputId": "89a2b85f-28f7-4c88-ae51-d69624da5308"
      },
      "outputs": [
        {
          "name": "stdout",
          "output_type": "stream",
          "text": [
            "              precision    recall  f1-score   support\n",
            "\n",
            "           0       0.80      0.93      0.86     11276\n",
            "           1       0.84      0.59      0.69      6571\n",
            "\n",
            "    accuracy                           0.81     17847\n",
            "   macro avg       0.82      0.76      0.78     17847\n",
            "weighted avg       0.81      0.81      0.80     17847\n",
            "\n"
          ]
        },
        {
          "data": {
            "image/png": "[encoded data removed]",
            "text/plain": [
              "<Figure size 504x360 with 2 Axes>"
            ]
          },
          "metadata": {},
          "output_type": "display_data"
        }
      ],
      "source": [
        "lrg_model.fit(X_train,y_train)\n",
        "y_predicted=lrg_model.predict(X_test)\n",
        "\n",
        "cm=confusion_matrix(y_test, y_predicted)\n",
        "df_stacked_model = pd.DataFrame(data = cm, index = ['actual 1', 'actual 0'], columns = ['Predicted 1', 'Predicted 0'])\n",
        "\n",
        "\n",
        "plt.figure(figsize = (7, 5))\n",
        "sns.heatmap(df_stacked_model, annot = True,fmt='g')\n",
        "\n",
        "print(classification_report(y_test, y_predicted))\n"
      ]
    },
    {
      "attachments": {},
      "cell_type": "markdown",
      "id": "d5f48611",
      "metadata": {},
      "source": [
        "### Bagging Classifier"
      ]
    },
    {
      "cell_type": "code",
      "execution_count": 377,
      "id": "7d818ce7",
      "metadata": {},
      "outputs": [
        {
          "name": "stdout",
          "output_type": "stream",
          "text": [
            "Bagging Classifier  CV Mean Accuarcy Score is 83.1870902672718\n",
            "Bagging Classifier   CV Mean F1 Score is 73.23315024811767\n"
          ]
        }
      ],
      "source": [
        "bagging_model=BaggingClassifier(max_features= 0.5, max_samples= 0.3, n_estimators= 80)\n",
        "bagging_cv_result_acc = cross_val_score(bagging_model,X, y, cv=skfold,scoring=\"accuracy\",n_jobs=-1)\n",
        "bagging_cv_acc = bagging_cv_result_acc.mean()*100\n",
        "print('Bagging Classifier  CV Mean Accuarcy Score is {}'.format(bagging_cv_acc))\n",
        "\n",
        "bagging_cv_result_f1 = cross_val_score(bagging_model,X, y, cv=skfold,scoring=\"f1\",n_jobs=-1)\n",
        "bagging_cv_f1 = bagging_cv_result_f1.mean()*100\n",
        "print('Bagging Classifier   CV Mean F1 Score is {}'.format(bagging_cv_f1))"
      ]
    },
    {
      "cell_type": "code",
      "execution_count": 381,
      "id": "3935eb26",
      "metadata": {},
      "outputs": [
        {
          "name": "stdout",
          "output_type": "stream",
          "text": [
            "              precision    recall  f1-score   support\n",
            "\n",
            "           0       0.81      0.97      0.88     11276\n",
            "           1       0.91      0.61      0.73      6571\n",
            "\n",
            "    accuracy                           0.83     17847\n",
            "   macro avg       0.86      0.79      0.81     17847\n",
            "weighted avg       0.85      0.83      0.83     17847\n",
            "\n"
          ]
        },
        {
          "data": {
            "image/png": "[encoded data removed]",
            "text/plain": [
              "<Figure size 504x360 with 2 Axes>"
            ]
          },
          "metadata": {},
          "output_type": "display_data"
        }
      ],
      "source": [
        "bagging_model.fit(X_train,y_train)\n",
        "y_predicted=bagging_model.predict(X_test)\n",
        "\n",
        "cm=confusion_matrix(y_test, y_predicted)\n",
        "df_stacked_model = pd.DataFrame(data = cm, index = ['actual 1', 'actual 0'], columns = ['Predicted 1', 'Predicted 0'])\n",
        "\n",
        "\n",
        "plt.figure(figsize = (7, 5))\n",
        "sns.heatmap(df_stacked_model, annot = True,fmt='g')\n",
        "\n",
        "print(classification_report(y_test, y_predicted))\n"
      ]
    },
    {
      "cell_type": "markdown",
      "id": "KY__-oPxOt00",
      "metadata": {
        "id": "KY__-oPxOt00"
      },
      "source": [
        "# Plotting Dataframe to present the mean CV  scores of the Models\n"
      ]
    },
    {
      "cell_type": "code",
      "execution_count": 383,
      "id": "d287db5f",
      "metadata": {
        "colab": {
          "base_uri": "https://localhost:8080/",
          "height": 204
        },
        "id": "d287db5f",
        "outputId": "d0e117bf-660f-4bc0-c9dc-d7fd5036b97a"
      },
      "outputs": [
        {
          "data": {
            "text/html": [
              "<div>\n",
              "<style scoped>\n",
              "    .dataframe tbody tr th:only-of-type {\n",
              "        vertical-align: middle;\n",
              "    }\n",
              "\n",
              "    .dataframe tbody tr th {\n",
              "        vertical-align: top;\n",
              "    }\n",
              "\n",
              "    .dataframe thead th {\n",
              "        text-align: right;\n",
              "    }\n",
              "</style>\n",
              "<table border=\"1\" class=\"dataframe\">\n",
              "  <thead>\n",
              "    <tr style=\"text-align: right;\">\n",
              "      <th></th>\n",
              "      <th>Model</th>\n",
              "      <th>CV_Accuracy_Score</th>\n",
              "    </tr>\n",
              "  </thead>\n",
              "  <tbody>\n",
              "    <tr>\n",
              "      <th>0</th>\n",
              "      <td>Random Forest</td>\n",
              "      <td>83.005547</td>\n",
              "    </tr>\n",
              "    <tr>\n",
              "      <th>1</th>\n",
              "      <td>Decision Tree</td>\n",
              "      <td>81.738107</td>\n",
              "    </tr>\n",
              "    <tr>\n",
              "      <th>2</th>\n",
              "      <td>XGBClassifier</td>\n",
              "      <td>82.976971</td>\n",
              "    </tr>\n",
              "    <tr>\n",
              "      <th>3</th>\n",
              "      <td>LGBClassifier</td>\n",
              "      <td>83.824172</td>\n",
              "    </tr>\n",
              "    <tr>\n",
              "      <th>4</th>\n",
              "      <td>Logistic Regression</td>\n",
              "      <td>80.616910</td>\n",
              "    </tr>\n",
              "    <tr>\n",
              "      <th>5</th>\n",
              "      <td>Bagging Classifier</td>\n",
              "      <td>83.187090</td>\n",
              "    </tr>\n",
              "  </tbody>\n",
              "</table>\n",
              "</div>"
            ],
            "text/plain": [
              "                 Model  CV_Accuracy_Score\n",
              "0        Random Forest          83.005547\n",
              "1        Decision Tree          81.738107\n",
              "2        XGBClassifier          82.976971\n",
              "3        LGBClassifier          83.824172\n",
              "4  Logistic Regression          80.616910\n",
              "5   Bagging Classifier          83.187090"
            ]
          },
          "execution_count": 383,
          "metadata": {},
          "output_type": "execute_result"
        }
      ],
      "source": [
        "# Creating a dataframe to compare our models' performances:\n",
        "predictive_model_scores_acc = pd.DataFrame(data=[('Random Forest',rf_cv_acc), \n",
        "                                             ('Decision Tree',dt_cv_acc),('XGBClassifier',xgb_cv_acc),('LGBClassifier',lgb_cv_acc),('Logistic Regression',lrg_cv_acc),\n",
        "                                             ('Bagging Classifier',bagging_cv_acc)\n",
        "                                             ],\n",
        "                                       columns=['Model', 'CV_Accuracy_Score', ])\n",
        "predictive_model_scores_acc"
      ]
    },
    {
      "cell_type": "code",
      "execution_count": 384,
      "id": "eb45057f",
      "metadata": {
        "colab": {
          "base_uri": "https://localhost:8080/",
          "height": 204
        },
        "id": "eb45057f",
        "outputId": "4adbd567-826b-404b-dc2a-0625c8822a61"
      },
      "outputs": [
        {
          "data": {
            "text/html": [
              "<div>\n",
              "<style scoped>\n",
              "    .dataframe tbody tr th:only-of-type {\n",
              "        vertical-align: middle;\n",
              "    }\n",
              "\n",
              "    .dataframe tbody tr th {\n",
              "        vertical-align: top;\n",
              "    }\n",
              "\n",
              "    .dataframe thead th {\n",
              "        text-align: right;\n",
              "    }\n",
              "</style>\n",
              "<table border=\"1\" class=\"dataframe\">\n",
              "  <thead>\n",
              "    <tr style=\"text-align: right;\">\n",
              "      <th></th>\n",
              "      <th>Model</th>\n",
              "      <th>CV_F1_Score</th>\n",
              "    </tr>\n",
              "  </thead>\n",
              "  <tbody>\n",
              "    <tr>\n",
              "      <th>0</th>\n",
              "      <td>Random Forest</td>\n",
              "      <td>73.342532</td>\n",
              "    </tr>\n",
              "    <tr>\n",
              "      <th>1</th>\n",
              "      <td>Decision Tree</td>\n",
              "      <td>71.797501</td>\n",
              "    </tr>\n",
              "    <tr>\n",
              "      <th>2</th>\n",
              "      <td>XGBClassifier</td>\n",
              "      <td>73.791825</td>\n",
              "    </tr>\n",
              "    <tr>\n",
              "      <th>3</th>\n",
              "      <td>LGBClassifier</td>\n",
              "      <td>73.791825</td>\n",
              "    </tr>\n",
              "    <tr>\n",
              "      <th>4</th>\n",
              "      <td>Logistic Regression</td>\n",
              "      <td>69.304231</td>\n",
              "    </tr>\n",
              "    <tr>\n",
              "      <th>5</th>\n",
              "      <td>Bagging Classifier</td>\n",
              "      <td>73.233150</td>\n",
              "    </tr>\n",
              "  </tbody>\n",
              "</table>\n",
              "</div>"
            ],
            "text/plain": [
              "                 Model  CV_F1_Score\n",
              "0        Random Forest    73.342532\n",
              "1        Decision Tree    71.797501\n",
              "2        XGBClassifier    73.791825\n",
              "3        LGBClassifier    73.791825\n",
              "4  Logistic Regression    69.304231\n",
              "5   Bagging Classifier    73.233150"
            ]
          },
          "execution_count": 384,
          "metadata": {},
          "output_type": "execute_result"
        }
      ],
      "source": [
        "# Creating a dataframe to compare our models' performances:\n",
        "predictive_model_scores_f1 = pd.DataFrame(data=[('Random Forest',rf_cv_f1), \n",
        "                                             ('Decision Tree',dt_cv_f1),('XGBClassifier',xgb_cv_f1),('LGBClassifier',lgb_cv_f1),('Logistic Regression',lrg_cv_f1),\n",
        "                                               ('Bagging Classifier',bagging_cv_f1)],\n",
        "                                       columns=['Model', 'CV_F1_Score', ])\n",
        "predictive_model_scores_f1"
      ]
    },
    {
      "cell_type": "code",
      "execution_count": 385,
      "id": "e90681de",
      "metadata": {
        "colab": {
          "base_uri": "https://localhost:8080/",
          "height": 499
        },
        "id": "e90681de",
        "outputId": "54ab2420-e10f-429b-d57d-8edb37447f23"
      },
      "outputs": [
        {
          "data": {
            "image/png": "[encoded data removed]",
            "text/plain": [
              "<Figure size 1000x500 with 1 Axes>"
            ]
          },
          "metadata": {},
          "output_type": "display_data"
        }
      ],
      "source": [
        "# Visualizing testing accuracy of each model: \n",
        "plt.style.use('default')\n",
        "plt.figure(figsize=(10,5))\n",
        "p=sns.barplot(x='Model', y='CV_Accuracy_Score', data=predictive_model_scores_acc, palette='PuBu')\n",
        "plt.title('CV Accuracy Score For Each Model', fontsize = 20)\n",
        "plt.xlabel('Model', fontsize = 12)\n",
        "plt.ylabel('CV Accuracy Score', fontsize = 12)\n",
        "for index, row in predictive_model_scores_acc.iterrows():\n",
        "    p.text(x=row.name, y=row.CV_Accuracy_Score, s=round(row.CV_Accuracy_Score,2), color='black', horizontalalignment='center');"
      ]
    },
    {
      "cell_type": "code",
      "execution_count": 386,
      "id": "27077830",
      "metadata": {
        "colab": {
          "base_uri": "https://localhost:8080/",
          "height": 499
        },
        "id": "27077830",
        "outputId": "7f92f376-9208-4da9-9f5d-7562ad52c246"
      },
      "outputs": [
        {
          "data": {
            "image/png": "[encoded data removed]",
            "text/plain": [
              "<Figure size 1000x500 with 1 Axes>"
            ]
          },
          "metadata": {},
          "output_type": "display_data"
        }
      ],
      "source": [
        "# Visualizing f1 score of each model: \n",
        "plt.style.use('default')\n",
        "plt.figure(figsize=(10,5))\n",
        "p=sns.barplot(x='Model', y='CV_F1_Score', data=predictive_model_scores_f1, palette='PuBu')\n",
        "plt.title('CV F1 Score For Each Model', fontsize = 20)\n",
        "plt.xlabel('Model', fontsize = 12)\n",
        "plt.ylabel('CV F1 Score', fontsize = 12)\n",
        "for index, row in predictive_model_scores_f1.iterrows():\n",
        "    p.text(x=row.name, y=row.CV_F1_Score, s=round(row.CV_F1_Score,2), color='black', horizontalalignment='center');"
      ]
    },
    {
      "attachments": {},
      "cell_type": "markdown",
      "id": "s1t5feRhVAU0",
      "metadata": {
        "id": "s1t5feRhVAU0"
      },
      "source": [
        "# Building Ensemble Model"
      ]
    },
    {
      "attachments": {},
      "cell_type": "markdown",
      "id": "18d0de8c",
      "metadata": {},
      "source": [
        "### Define Voting Classifier\n"
      ]
    },
    {
      "cell_type": "code",
      "execution_count": 281,
      "id": "_z_gt1GRsK9Z",
      "metadata": {
        "colab": {
          "base_uri": "https://localhost:8080/"
        },
        "id": "_z_gt1GRsK9Z",
        "outputId": "ba5fdbee-b473-4002-b38a-d8fb7825beeb"
      },
      "outputs": [
        {
          "name": "stdout",
          "output_type": "stream",
          "text": [
            "[20:29:09] WARNING: /Users/runner/miniforge3/conda-bld/xgboost-split_1643227205751/work/src/learner.cc:1115: Starting in XGBoost 1.3.0, the default evaluation metric used with the objective 'binary:logistic' was changed from 'error' to 'logloss'. Explicitly set eval_metric if you'd like to restore the old behavior.\n",
            "[20:29:24] WARNING: /Users/runner/miniforge3/conda-bld/xgboost-split_1643227205751/work/src/learner.cc:1115: Starting in XGBoost 1.3.0, the default evaluation metric used with the objective 'binary:logistic' was changed from 'error' to 'logloss'. Explicitly set eval_metric if you'd like to restore the old behavior.\n",
            "[20:29:38] WARNING: /Users/runner/miniforge3/conda-bld/xgboost-split_1643227205751/work/src/learner.cc:1115: Starting in XGBoost 1.3.0, the default evaluation metric used with the objective 'binary:logistic' was changed from 'error' to 'logloss'. Explicitly set eval_metric if you'd like to restore the old behavior.\n",
            "[20:29:51] WARNING: /Users/runner/miniforge3/conda-bld/xgboost-split_1643227205751/work/src/learner.cc:1115: Starting in XGBoost 1.3.0, the default evaluation metric used with the objective 'binary:logistic' was changed from 'error' to 'logloss'. Explicitly set eval_metric if you'd like to restore the old behavior.\n",
            "[20:30:05] WARNING: /Users/runner/miniforge3/conda-bld/xgboost-split_1643227205751/work/src/learner.cc:1115: Starting in XGBoost 1.3.0, the default evaluation metric used with the objective 'binary:logistic' was changed from 'error' to 'logloss'. Explicitly set eval_metric if you'd like to restore the old behavior.\n",
            "[20:30:19] WARNING: /Users/runner/miniforge3/conda-bld/xgboost-split_1643227205751/work/src/learner.cc:1115: Starting in XGBoost 1.3.0, the default evaluation metric used with the objective 'binary:logistic' was changed from 'error' to 'logloss'. Explicitly set eval_metric if you'd like to restore the old behavior.\n",
            "[20:30:32] WARNING: /Users/runner/miniforge3/conda-bld/xgboost-split_1643227205751/work/src/learner.cc:1115: Starting in XGBoost 1.3.0, the default evaluation metric used with the objective 'binary:logistic' was changed from 'error' to 'logloss'. Explicitly set eval_metric if you'd like to restore the old behavior.\n",
            "[20:30:46] WARNING: /Users/runner/miniforge3/conda-bld/xgboost-split_1643227205751/work/src/learner.cc:1115: Starting in XGBoost 1.3.0, the default evaluation metric used with the objective 'binary:logistic' was changed from 'error' to 'logloss'. Explicitly set eval_metric if you'd like to restore the old behavior.\n",
            "[20:31:00] WARNING: /Users/runner/miniforge3/conda-bld/xgboost-split_1643227205751/work/src/learner.cc:1115: Starting in XGBoost 1.3.0, the default evaluation metric used with the objective 'binary:logistic' was changed from 'error' to 'logloss'. Explicitly set eval_metric if you'd like to restore the old behavior.\n",
            "[20:31:14] WARNING: /Users/runner/miniforge3/conda-bld/xgboost-split_1643227205751/work/src/learner.cc:1115: Starting in XGBoost 1.3.0, the default evaluation metric used with the objective 'binary:logistic' was changed from 'error' to 'logloss'. Explicitly set eval_metric if you'd like to restore the old behavior.\n",
            "Cross-validation scores: [0.85042017 0.84393758 0.84993998 0.84293948 0.85446686 0.85350624\n",
            " 0.84798271 0.84414025 0.84005764 0.84942363]\n",
            "Mean cross-validation score: 0.8476814529846521\n",
            "Standard deviation of cross-validation scores: 0.004504031067990617\n"
          ]
        }
      ],
      "source": [
        "from sklearn.ensemble import VotingClassifier\n",
        "\n",
        "rf = RandomForestClassifier(max_depth= None,n_estimators=300 )\n",
        "lgbm = lgb.LGBMClassifier( max_depth= 7, n_estimators=100,num_leaves=32)\n",
        "xgb= XGBClassifier( max_depth=9, n_estimators= 200)\n",
        "\n",
        "voting_clf = VotingClassifier(estimators=[('lgbm', lgbm), ('rf', rf),('xgb',xgb)], voting='soft')\n",
        "\n",
        "cv_scores = cross_val_score(voting_clf, X_train, y_train, cv=10)\n",
        "\n",
        "# calculate the mean and standard deviation of the cross-validation scores\n",
        "mean_cv_score = cv_scores.mean()\n",
        "std_cv_score = cv_scores.std()\n",
        "\n",
        "print(\"Cross-validation scores:\", cv_scores)\n",
        "print(\"Mean cross-validation score:\", mean_cv_score)\n",
        "print(\"Standard deviation of cross-validation scores:\", std_cv_score)\n",
        "\n"
      ]
    },
    {
      "cell_type": "code",
      "execution_count": 282,
      "id": "225208c9",
      "metadata": {},
      "outputs": [
        {
          "name": "stderr",
          "output_type": "stream",
          "text": [
            "/Users/hansikarunarathna/opt/anaconda3/lib/python3.9/site-packages/xgboost/sklearn.py:1224: UserWarning: The use of label encoder in XGBClassifier is deprecated and will be removed in a future release. To remove this warning, do the following: 1) Pass option use_label_encoder=False when constructing XGBClassifier object; and 2) Encode your labels (y) as integers starting with 0, i.e. 0, 1, 2, ..., [num_class - 1].\n",
            "  warnings.warn(label_encoder_deprecation_msg, UserWarning)\n",
            "/Users/hansikarunarathna/opt/anaconda3/lib/python3.9/site-packages/xgboost/sklearn.py:1224: UserWarning: The use of label encoder in XGBClassifier is deprecated and will be removed in a future release. To remove this warning, do the following: 1) Pass option use_label_encoder=False when constructing XGBClassifier object; and 2) Encode your labels (y) as integers starting with 0, i.e. 0, 1, 2, ..., [num_class - 1].\n",
            "  warnings.warn(label_encoder_deprecation_msg, UserWarning)\n",
            "/Users/hansikarunarathna/opt/anaconda3/lib/python3.9/site-packages/xgboost/sklearn.py:1224: UserWarning: The use of label encoder in XGBClassifier is deprecated and will be removed in a future release. To remove this warning, do the following: 1) Pass option use_label_encoder=False when constructing XGBClassifier object; and 2) Encode your labels (y) as integers starting with 0, i.e. 0, 1, 2, ..., [num_class - 1].\n",
            "  warnings.warn(label_encoder_deprecation_msg, UserWarning)\n",
            "/Users/hansikarunarathna/opt/anaconda3/lib/python3.9/site-packages/xgboost/sklearn.py:1224: UserWarning: The use of label encoder in XGBClassifier is deprecated and will be removed in a future release. To remove this warning, do the following: 1) Pass option use_label_encoder=False when constructing XGBClassifier object; and 2) Encode your labels (y) as integers starting with 0, i.e. 0, 1, 2, ..., [num_class - 1].\n",
            "  warnings.warn(label_encoder_deprecation_msg, UserWarning)\n",
            "/Users/hansikarunarathna/opt/anaconda3/lib/python3.9/site-packages/xgboost/sklearn.py:1224: UserWarning: The use of label encoder in XGBClassifier is deprecated and will be removed in a future release. To remove this warning, do the following: 1) Pass option use_label_encoder=False when constructing XGBClassifier object; and 2) Encode your labels (y) as integers starting with 0, i.e. 0, 1, 2, ..., [num_class - 1].\n",
            "  warnings.warn(label_encoder_deprecation_msg, UserWarning)\n",
            "/Users/hansikarunarathna/opt/anaconda3/lib/python3.9/site-packages/xgboost/sklearn.py:1224: UserWarning: The use of label encoder in XGBClassifier is deprecated and will be removed in a future release. To remove this warning, do the following: 1) Pass option use_label_encoder=False when constructing XGBClassifier object; and 2) Encode your labels (y) as integers starting with 0, i.e. 0, 1, 2, ..., [num_class - 1].\n",
            "  warnings.warn(label_encoder_deprecation_msg, UserWarning)\n"
          ]
        },
        {
          "name": "stdout",
          "output_type": "stream",
          "text": [
            "[20:32:23] WARNING: /Users/runner/miniforge3/conda-bld/xgboost-split_1643227205751/work/src/learner.cc:1115: Starting in XGBoost 1.3.0, the default evaluation metric used with the objective 'binary:logistic' was changed from 'error' to 'logloss'. Explicitly set eval_metric if you'd like to restore the old behavior.\n",
            "[20:32:23] WARNING: /Users/runner/miniforge3/conda-bld/xgboost-split_1643227205751/work/src/learner.cc:1115: Starting in XGBoost 1.3.0, the default evaluation metric used with the objective 'binary:logistic' was changed from 'error' to 'logloss'. Explicitly set eval_metric if you'd like to restore the old behavior.\n",
            "[20:32:23] WARNING: /Users/runner/miniforge3/conda-bld/xgboost-split_1643227205751/work/src/learner.cc:1115: Starting in XGBoost 1.3.0, the default evaluation metric used with the objective 'binary:logistic' was changed from 'error' to 'logloss'. Explicitly set eval_metric if you'd like to restore the old behavior.\n"
          ]
        },
        {
          "name": "stderr",
          "output_type": "stream",
          "text": [
            "/Users/hansikarunarathna/opt/anaconda3/lib/python3.9/site-packages/xgboost/sklearn.py:1224: UserWarning: The use of label encoder in XGBClassifier is deprecated and will be removed in a future release. To remove this warning, do the following: 1) Pass option use_label_encoder=False when constructing XGBClassifier object; and 2) Encode your labels (y) as integers starting with 0, i.e. 0, 1, 2, ..., [num_class - 1].\n",
            "  warnings.warn(label_encoder_deprecation_msg, UserWarning)\n",
            "/Users/hansikarunarathna/opt/anaconda3/lib/python3.9/site-packages/xgboost/sklearn.py:1224: UserWarning: The use of label encoder in XGBClassifier is deprecated and will be removed in a future release. To remove this warning, do the following: 1) Pass option use_label_encoder=False when constructing XGBClassifier object; and 2) Encode your labels (y) as integers starting with 0, i.e. 0, 1, 2, ..., [num_class - 1].\n",
            "  warnings.warn(label_encoder_deprecation_msg, UserWarning)\n"
          ]
        },
        {
          "name": "stdout",
          "output_type": "stream",
          "text": [
            "[20:32:23] WARNING: /Users/runner/miniforge3/conda-bld/xgboost-split_1643227205751/work/src/learner.cc:1115: Starting in XGBoost 1.3.0, the default evaluation metric used with the objective 'binary:logistic' was changed from 'error' to 'logloss'. Explicitly set eval_metric if you'd like to restore the old behavior.\n",
            "[20:32:23] WARNING: /Users/runner/miniforge3/conda-bld/xgboost-split_1643227205751/work/src/learner.cc:1115: Starting in XGBoost 1.3.0, the default evaluation metric used with the objective 'binary:logistic' was changed from 'error' to 'logloss'. Explicitly set eval_metric if you'd like to restore the old behavior.\n",
            "[20:32:23] WARNING: /Users/runner/miniforge3/conda-bld/xgboost-split_1643227205751/work/src/learner.cc:1115: Starting in XGBoost 1.3.0, the default evaluation metric used with the objective 'binary:logistic' was changed from 'error' to 'logloss'. Explicitly set eval_metric if you'd like to restore the old behavior.\n",
            "[20:32:23] WARNING: /Users/runner/miniforge3/conda-bld/xgboost-split_1643227205751/work/src/learner.cc:1115: Starting in XGBoost 1.3.0, the default evaluation metric used with the objective 'binary:logistic' was changed from 'error' to 'logloss'. Explicitly set eval_metric if you'd like to restore the old behavior.\n",
            "[20:32:23] WARNING: /Users/runner/miniforge3/conda-bld/xgboost-split_1643227205751/work/src/learner.cc:1115: Starting in XGBoost 1.3.0, the default evaluation metric used with the objective 'binary:logistic' was changed from 'error' to 'logloss'. Explicitly set eval_metric if you'd like to restore the old behavior.\n"
          ]
        },
        {
          "name": "stderr",
          "output_type": "stream",
          "text": [
            "/Users/hansikarunarathna/opt/anaconda3/lib/python3.9/site-packages/xgboost/sklearn.py:1224: UserWarning: The use of label encoder in XGBClassifier is deprecated and will be removed in a future release. To remove this warning, do the following: 1) Pass option use_label_encoder=False when constructing XGBClassifier object; and 2) Encode your labels (y) as integers starting with 0, i.e. 0, 1, 2, ..., [num_class - 1].\n",
            "  warnings.warn(label_encoder_deprecation_msg, UserWarning)\n",
            "/Users/hansikarunarathna/opt/anaconda3/lib/python3.9/site-packages/xgboost/sklearn.py:1224: UserWarning: The use of label encoder in XGBClassifier is deprecated and will be removed in a future release. To remove this warning, do the following: 1) Pass option use_label_encoder=False when constructing XGBClassifier object; and 2) Encode your labels (y) as integers starting with 0, i.e. 0, 1, 2, ..., [num_class - 1].\n",
            "  warnings.warn(label_encoder_deprecation_msg, UserWarning)\n"
          ]
        },
        {
          "name": "stdout",
          "output_type": "stream",
          "text": [
            "[20:33:46] WARNING: /Users/runner/miniforge3/conda-bld/xgboost-split_1643227205751/work/src/learner.cc:1115: Starting in XGBoost 1.3.0, the default evaluation metric used with the objective 'binary:logistic' was changed from 'error' to 'logloss'. Explicitly set eval_metric if you'd like to restore the old behavior.\n",
            "[20:33:47] WARNING: /Users/runner/miniforge3/conda-bld/xgboost-split_1643227205751/work/src/learner.cc:1115: Starting in XGBoost 1.3.0, the default evaluation metric used with the objective 'binary:logistic' was changed from 'error' to 'logloss'. Explicitly set eval_metric if you'd like to restore the old behavior.\n"
          ]
        },
        {
          "name": "stderr",
          "output_type": "stream",
          "text": [
            "/Users/hansikarunarathna/opt/anaconda3/lib/python3.9/site-packages/xgboost/sklearn.py:1224: UserWarning: The use of label encoder in XGBClassifier is deprecated and will be removed in a future release. To remove this warning, do the following: 1) Pass option use_label_encoder=False when constructing XGBClassifier object; and 2) Encode your labels (y) as integers starting with 0, i.e. 0, 1, 2, ..., [num_class - 1].\n",
            "  warnings.warn(label_encoder_deprecation_msg, UserWarning)\n",
            "/Users/hansikarunarathna/opt/anaconda3/lib/python3.9/site-packages/xgboost/sklearn.py:1224: UserWarning: The use of label encoder in XGBClassifier is deprecated and will be removed in a future release. To remove this warning, do the following: 1) Pass option use_label_encoder=False when constructing XGBClassifier object; and 2) Encode your labels (y) as integers starting with 0, i.e. 0, 1, 2, ..., [num_class - 1].\n",
            "  warnings.warn(label_encoder_deprecation_msg, UserWarning)\n",
            "/Users/hansikarunarathna/opt/anaconda3/lib/python3.9/site-packages/xgboost/sklearn.py:1224: UserWarning: The use of label encoder in XGBClassifier is deprecated and will be removed in a future release. To remove this warning, do the following: 1) Pass option use_label_encoder=False when constructing XGBClassifier object; and 2) Encode your labels (y) as integers starting with 0, i.e. 0, 1, 2, ..., [num_class - 1].\n",
            "  warnings.warn(label_encoder_deprecation_msg, UserWarning)\n",
            "/Users/hansikarunarathna/opt/anaconda3/lib/python3.9/site-packages/xgboost/sklearn.py:1224: UserWarning: The use of label encoder in XGBClassifier is deprecated and will be removed in a future release. To remove this warning, do the following: 1) Pass option use_label_encoder=False when constructing XGBClassifier object; and 2) Encode your labels (y) as integers starting with 0, i.e. 0, 1, 2, ..., [num_class - 1].\n",
            "  warnings.warn(label_encoder_deprecation_msg, UserWarning)\n",
            "/Users/hansikarunarathna/opt/anaconda3/lib/python3.9/site-packages/xgboost/sklearn.py:1224: UserWarning: The use of label encoder in XGBClassifier is deprecated and will be removed in a future release. To remove this warning, do the following: 1) Pass option use_label_encoder=False when constructing XGBClassifier object; and 2) Encode your labels (y) as integers starting with 0, i.e. 0, 1, 2, ..., [num_class - 1].\n",
            "  warnings.warn(label_encoder_deprecation_msg, UserWarning)\n",
            "/Users/hansikarunarathna/opt/anaconda3/lib/python3.9/site-packages/xgboost/sklearn.py:1224: UserWarning: The use of label encoder in XGBClassifier is deprecated and will be removed in a future release. To remove this warning, do the following: 1) Pass option use_label_encoder=False when constructing XGBClassifier object; and 2) Encode your labels (y) as integers starting with 0, i.e. 0, 1, 2, ..., [num_class - 1].\n",
            "  warnings.warn(label_encoder_deprecation_msg, UserWarning)\n"
          ]
        },
        {
          "name": "stdout",
          "output_type": "stream",
          "text": [
            "[20:34:33] WARNING: /Users/runner/miniforge3/conda-bld/xgboost-split_1643227205751/work/src/learner.cc:1115: Starting in XGBoost 1.3.0, the default evaluation metric used with the objective 'binary:logistic' was changed from 'error' to 'logloss'. Explicitly set eval_metric if you'd like to restore the old behavior.\n",
            "[20:34:33] WARNING: /Users/runner/miniforge3/conda-bld/xgboost-split_1643227205751/work/src/learner.cc:1115: Starting in XGBoost 1.3.0, the default evaluation metric used with the objective 'binary:logistic' was changed from 'error' to 'logloss'. Explicitly set eval_metric if you'd like to restore the old behavior.\n",
            "[20:34:33] WARNING: /Users/runner/miniforge3/conda-bld/xgboost-split_1643227205751/work/src/learner.cc:1115: Starting in XGBoost 1.3.0, the default evaluation metric used with the objective 'binary:logistic' was changed from 'error' to 'logloss'. Explicitly set eval_metric if you'd like to restore the old behavior.\n",
            "[20:34:33] WARNING: /Users/runner/miniforge3/conda-bld/xgboost-split_1643227205751/work/src/learner.cc:1115: Starting in XGBoost 1.3.0, the default evaluation metric used with the objective 'binary:logistic' was changed from 'error' to 'logloss'. Explicitly set eval_metric if you'd like to restore the old behavior.\n",
            "[20:34:33] WARNING: /Users/runner/miniforge3/conda-bld/xgboost-split_1643227205751/work/src/learner.cc:1115: Starting in XGBoost 1.3.0, the default evaluation metric used with the objective 'binary:logistic' was changed from 'error' to 'logloss'. Explicitly set eval_metric if you'd like to restore the old behavior.\n"
          ]
        },
        {
          "name": "stderr",
          "output_type": "stream",
          "text": [
            "/Users/hansikarunarathna/opt/anaconda3/lib/python3.9/site-packages/xgboost/sklearn.py:1224: UserWarning: The use of label encoder in XGBClassifier is deprecated and will be removed in a future release. To remove this warning, do the following: 1) Pass option use_label_encoder=False when constructing XGBClassifier object; and 2) Encode your labels (y) as integers starting with 0, i.e. 0, 1, 2, ..., [num_class - 1].\n",
            "  warnings.warn(label_encoder_deprecation_msg, UserWarning)\n"
          ]
        },
        {
          "name": "stdout",
          "output_type": "stream",
          "text": [
            "[20:34:33] WARNING: /Users/runner/miniforge3/conda-bld/xgboost-split_1643227205751/work/src/learner.cc:1115: Starting in XGBoost 1.3.0, the default evaluation metric used with the objective 'binary:logistic' was changed from 'error' to 'logloss'. Explicitly set eval_metric if you'd like to restore the old behavior.\n",
            "[20:34:33] WARNING: /Users/runner/miniforge3/conda-bld/xgboost-split_1643227205751/work/src/learner.cc:1115: Starting in XGBoost 1.3.0, the default evaluation metric used with the objective 'binary:logistic' was changed from 'error' to 'logloss'. Explicitly set eval_metric if you'd like to restore the old behavior.\n"
          ]
        },
        {
          "name": "stderr",
          "output_type": "stream",
          "text": [
            "/Users/hansikarunarathna/opt/anaconda3/lib/python3.9/site-packages/xgboost/sklearn.py:1224: UserWarning: The use of label encoder in XGBClassifier is deprecated and will be removed in a future release. To remove this warning, do the following: 1) Pass option use_label_encoder=False when constructing XGBClassifier object; and 2) Encode your labels (y) as integers starting with 0, i.e. 0, 1, 2, ..., [num_class - 1].\n",
            "  warnings.warn(label_encoder_deprecation_msg, UserWarning)\n"
          ]
        },
        {
          "name": "stdout",
          "output_type": "stream",
          "text": [
            "[20:34:34] WARNING: /Users/runner/miniforge3/conda-bld/xgboost-split_1643227205751/work/src/learner.cc:1115: Starting in XGBoost 1.3.0, the default evaluation metric used with the objective 'binary:logistic' was changed from 'error' to 'logloss'. Explicitly set eval_metric if you'd like to restore the old behavior.\n"
          ]
        },
        {
          "name": "stderr",
          "output_type": "stream",
          "text": [
            "/Users/hansikarunarathna/opt/anaconda3/lib/python3.9/site-packages/xgboost/sklearn.py:1224: UserWarning: The use of label encoder in XGBClassifier is deprecated and will be removed in a future release. To remove this warning, do the following: 1) Pass option use_label_encoder=False when constructing XGBClassifier object; and 2) Encode your labels (y) as integers starting with 0, i.e. 0, 1, 2, ..., [num_class - 1].\n",
            "  warnings.warn(label_encoder_deprecation_msg, UserWarning)\n"
          ]
        },
        {
          "name": "stdout",
          "output_type": "stream",
          "text": [
            "[20:35:57] WARNING: /Users/runner/miniforge3/conda-bld/xgboost-split_1643227205751/work/src/learner.cc:1115: Starting in XGBoost 1.3.0, the default evaluation metric used with the objective 'binary:logistic' was changed from 'error' to 'logloss'. Explicitly set eval_metric if you'd like to restore the old behavior.\n"
          ]
        },
        {
          "name": "stderr",
          "output_type": "stream",
          "text": [
            "/Users/hansikarunarathna/opt/anaconda3/lib/python3.9/site-packages/xgboost/sklearn.py:1224: UserWarning: The use of label encoder in XGBClassifier is deprecated and will be removed in a future release. To remove this warning, do the following: 1) Pass option use_label_encoder=False when constructing XGBClassifier object; and 2) Encode your labels (y) as integers starting with 0, i.e. 0, 1, 2, ..., [num_class - 1].\n",
            "  warnings.warn(label_encoder_deprecation_msg, UserWarning)\n"
          ]
        },
        {
          "name": "stdout",
          "output_type": "stream",
          "text": [
            "[20:35:57] WARNING: /Users/runner/miniforge3/conda-bld/xgboost-split_1643227205751/work/src/learner.cc:1115: Starting in XGBoost 1.3.0, the default evaluation metric used with the objective 'binary:logistic' was changed from 'error' to 'logloss'. Explicitly set eval_metric if you'd like to restore the old behavior.\n",
            "Voting Classifier  CV Mean Accuracy Score is 85.29668851907883\n",
            "Voting Classifier CV Mean F1 Score is 78.34004540653171\n"
          ]
        }
      ],
      "source": [
        "skfold = StratifiedKFold(n_splits= 10,shuffle= True,random_state= 42)\n",
        "\n",
        "scr_acc = cross_val_score(voting_clf, X, y, scoring='accuracy', cv=skfold, n_jobs=-1)\n",
        "scr_f1 = cross_val_score(voting_clf, X, y, scoring='f1', cv=skfold, n_jobs=-1)\n",
        "\n",
        "scr_cv_acc = scr_acc.mean()*100\n",
        "scr_cv_f1 = scr_f1.mean()*100\n",
        "\n",
        "print('Voting Classifier  CV Mean Accuracy Score is {}'.format(scr_cv_acc))\n",
        "print('Voting Classifier CV Mean F1 Score is {}'.format(scr_cv_f1))\n"
      ]
    },
    {
      "attachments": {},
      "cell_type": "markdown",
      "id": "1bf2766b",
      "metadata": {},
      "source": [
        "### Define  stacking classifier\n"
      ]
    },
    {
      "cell_type": "code",
      "execution_count": 279,
      "id": "YH2pEDIN-qrm",
      "metadata": {
        "colab": {
          "base_uri": "https://localhost:8080/",
          "height": 160
        },
        "id": "YH2pEDIN-qrm",
        "outputId": "020a5fcc-8c34-4471-a0f7-81e9c35047b8"
      },
      "outputs": [
        {
          "name": "stdout",
          "output_type": "stream",
          "text": [
            "Cross-validation scores: [0.84273709 0.83865546 0.84465786 0.84534102 0.84414025 0.84822286\n",
            " 0.84269933 0.83333333 0.83309318 0.83789625]\n",
            "Mean cross-validation score: 0.8410776644951928\n",
            "Standard deviation of cross-validation scores: 0.00486339280404419\n"
          ]
        }
      ],
      "source": [
        "from sklearn.ensemble import StackingClassifier\n",
        "\n",
        "\n",
        "rf_model = RandomForestClassifier(min_samples_split=6)\n",
        "lgb_model=lgb.LGBMClassifier(learning_rate=0.01, max_depth=5, num_leaves=20,n_estimators=500)\n",
        "bag_model = BaggingClassifier(base_estimator=DecisionTreeClassifier(max_depth=10, min_samples_split=5))\n",
        "\n",
        "\n",
        "estimator_list = [\n",
        " ('rf_model' , rf_model),\n",
        " ('lgb_model' , lgb_model),\n",
        " ('bag',bag_model)\n",
        "\n",
        "]\n",
        "\n",
        "# Build stack model\n",
        "stack_model = StackingClassifier(\n",
        "    estimators=estimator_list, final_estimator=LogisticRegression(C=0.01,penalty=\"l2\"), cv=5\n",
        ")\n",
        "\n",
        "cv_scores = cross_val_score(stack_model, X_train, y_train, cv=10)\n",
        "\n",
        "# calculate the mean and standard deviation of the cross-validation scores\n",
        "mean_cv_score = cv_scores.mean()\n",
        "std_cv_score = cv_scores.std()\n",
        "\n",
        "print(\"Cross-validation scores:\", cv_scores)\n",
        "print(\"Mean cross-validation score:\", mean_cv_score)\n",
        "print(\"Standard deviation of cross-validation scores:\", std_cv_score)\n"
      ]
    },
    {
      "cell_type": "code",
      "execution_count": 275,
      "id": "1issrXGyu9Jm",
      "metadata": {
        "id": "1issrXGyu9Jm"
      },
      "outputs": [
        {
          "name": "stdout",
          "output_type": "stream",
          "text": [
            "Stacked Model CV Mean Accuracy Score is 84.851235501765\n",
            "Stacked Model CV Mean F1 Score is 77.62415032745716\n"
          ]
        }
      ],
      "source": [
        "skfold = StratifiedKFold(n_splits= 10,shuffle= True,random_state= 42)\n",
        "\n",
        "scr_acc = cross_val_score(stack_model, X, y, scoring='accuracy', cv=skfold, n_jobs=-1)\n",
        "scr_f1 = cross_val_score(stack_model, X, y, scoring='f1', cv=skfold, n_jobs=-1)\n",
        "\n",
        "scr_cv_acc = scr_acc.mean()*100\n",
        "scr_cv_f1 = scr_f1.mean()*100\n",
        "\n",
        "print('Stacked Model CV Mean Accuracy Score is {}'.format(scr_cv_acc))\n",
        "print('Stacked Model CV Mean F1 Score is {}'.format(scr_cv_f1))\n"
      ]
    },
    {
      "attachments": {},
      "cell_type": "markdown",
      "id": "7ec317df",
      "metadata": {},
      "source": [
        "### We will select the voting classifier as our ensemble model"
      ]
    },
    {
      "cell_type": "code",
      "execution_count": 387,
      "id": "410e9679",
      "metadata": {},
      "outputs": [],
      "source": [
        "ensemble=voting_clf"
      ]
    },
    {
      "cell_type": "markdown",
      "id": "VWQkQ-oP9GMH",
      "metadata": {
        "id": "VWQkQ-oP9GMH"
      },
      "source": [
        "### ROC Curve"
      ]
    },
    {
      "cell_type": "code",
      "execution_count": 388,
      "id": "EgVcPVXF9Eje",
      "metadata": {
        "id": "EgVcPVXF9Eje"
      },
      "outputs": [
        {
          "name": "stdout",
          "output_type": "stream",
          "text": [
            "[21:54:57] WARNING: /Users/runner/miniforge3/conda-bld/xgboost-split_1643227205751/work/src/learner.cc:1115: Starting in XGBoost 1.3.0, the default evaluation metric used with the objective 'binary:logistic' was changed from 'error' to 'logloss'. Explicitly set eval_metric if you'd like to restore the old behavior.\n"
          ]
        }
      ],
      "source": [
        "from sklearn.metrics import roc_curve, roc_auc_score\n",
        "\n",
        "\n",
        "classifiers=[ensemble]\n",
        "result_table = pd.DataFrame(columns=['classifiers', 'fpr','tpr','auc'])\n",
        "\n",
        "# Define a result table as a DataFrame\n",
        "result_table = pd.DataFrame(columns=['classifiers', 'fpr','tpr','auc'])\n",
        "\n",
        "# Train the models and record the results\n",
        "for cls in classifiers:\n",
        "    model = cls.fit(X_train.values, y_train.values)\n",
        "    yproba = model.predict_proba(X_test.values)[::,1]\n",
        "    \n",
        "    fpr, tpr, _ = roc_curve(y_test.values,  yproba)\n",
        "    auc = roc_auc_score(y_test, yproba)\n",
        "    \n",
        "    result_table = result_table.append({'classifiers':cls.__class__.__name__,\n",
        "                                        'fpr':fpr, \n",
        "                                        'tpr':tpr, \n",
        "                                        'auc':auc}, ignore_index=True)\n",
        "\n",
        "# Set name of the classifiers as index labels\n",
        "result_table.set_index('classifiers', inplace=True)\n",
        "\n",
        "\n",
        "\n"
      ]
    },
    {
      "cell_type": "code",
      "execution_count": 390,
      "id": "petnZfc3AMWv",
      "metadata": {
        "colab": {
          "base_uri": "https://localhost:8080/",
          "height": 414
        },
        "id": "petnZfc3AMWv",
        "outputId": "9e19bcf3-5aa2-4146-fe16-561219ff1215"
      },
      "outputs": [
        {
          "data": {
            "image/png": "[encoded data removed]",
            "text/plain": [
              "<Figure size 576x432 with 1 Axes>"
            ]
          },
          "metadata": {},
          "output_type": "display_data"
        }
      ],
      "source": [
        "%matplotlib inline\n",
        "import matplotlib.pyplot as plt\n",
        "import seaborn as sns\n",
        "sns.set()\n",
        "\n",
        "fig = plt.figure(figsize=(8,6))\n",
        "\n",
        "\n",
        "for i in result_table.index:\n",
        "    plt.plot(result_table.loc[i]['fpr'], \n",
        "             result_table.loc[i]['tpr'], \n",
        "             label=\"{}, AUC={:.3f}\".format(i, result_table.loc[i]['auc']))\n",
        "    \n",
        "plt.plot([0,1], [0,1], color='orange', linestyle='--')\n",
        "\n",
        "plt.xticks(np.arange(0.0, 1.1, step=0.1))\n",
        "plt.xlabel(\"False Positive Rate\", fontsize=15)\n",
        "\n",
        "plt.yticks(np.arange(0.0, 1.1, step=0.1))\n",
        "plt.ylabel(\"True Positive Rate\", fontsize=15)\n",
        "\n",
        "plt.title('ROC Curve Analysis', fontweight='bold', fontsize=15)\n",
        "plt.legend(prop={'size':13}, loc='lower right')\n",
        "\n",
        "plt.show()"
      ]
    },
    {
      "cell_type": "code",
      "execution_count": 397,
      "id": "CaGWZ-q6iwnN",
      "metadata": {
        "colab": {
          "base_uri": "https://localhost:8080/",
          "height": 463
        },
        "id": "CaGWZ-q6iwnN",
        "outputId": "f949edc6-10e4-4e08-bfc4-d0fd3ebb4329"
      },
      "outputs": [
        {
          "name": "stdout",
          "output_type": "stream",
          "text": [
            "              precision    recall  f1-score   support\n",
            "\n",
            "           0       0.85      0.93      0.89     11276\n",
            "           1       0.86      0.71      0.78      6571\n",
            "\n",
            "    accuracy                           0.85     17847\n",
            "   macro avg       0.85      0.82      0.83     17847\n",
            "weighted avg       0.85      0.85      0.85     17847\n",
            "\n"
          ]
        },
        {
          "data": {
            "image/png": "[encoded data removed]",
            "text/plain": [
              "<Figure size 504x360 with 2 Axes>"
            ]
          },
          "metadata": {},
          "output_type": "display_data"
        }
      ],
      "source": [
        "\n",
        "# visualizing the confusion matrix\n",
        "\n",
        "y_predicted=ensemble.predict(X_test);\n",
        "cm=confusion_matrix(y_test, y_predicted)\n",
        "ensemble_model = pd.DataFrame(data = cm, index = ['actual 1', 'actual 0'], columns = ['Predicted 1', 'Predicted 0'])\n",
        "\n",
        "\n",
        "plt.figure(figsize = (7, 5))\n",
        "sns.heatmap(ensemble_model, annot = True,fmt='g',cmap=\"Blues\")\n",
        "\n",
        "plt.title(\"Confusion Matrix\", size=20)\n",
        "plt.xlabel('Predicted Class')\n",
        "plt.ylabel('True Class')\n",
        "\n",
        "\n",
        "\n",
        "print(classification_report(y_test, y_predicted))"
      ]
    },
    {
      "cell_type": "markdown",
      "id": "abvS7m-QVkPj",
      "metadata": {
        "id": "abvS7m-QVkPj"
      },
      "source": [
        "### Test the model for few properties\n"
      ]
    },
    {
      "cell_type": "code",
      "execution_count": 398,
      "id": "IwfNahfrVj6L",
      "metadata": {
        "id": "IwfNahfrVj6L"
      },
      "outputs": [],
      "source": [
        "def predict_cancellation(arrival_date_month,arrival_date_day_of_month,total_stays,booking_changes,required_car_parking_spaces,customer_type,adr,previous_cancellations,market_segment,total_of_special_requests,lead_time,deposit_type):    \n",
        "    customer_type_index = np.where(X.columns=='customer_type_'+customer_type)[0][0]\n",
        "    market_segment_index = np.where(X.columns=='market_segment_'+market_segment)[0][0]\n",
        "    deposit_type_index = np.where(X.columns=='deposit_type_'+deposit_type)[0][0]\n",
        "    arrival_date_month_index = np.where(X.columns=='arrival_date_month_'+arrival_date_month)[0][0]\n",
        "\n",
        "\n",
        "    x = np.zeros(len(X.columns))\n",
        "    x[1] = arrival_date_day_of_month\n",
        "    x[7] = total_stays\n",
        "    x[3] = booking_changes\n",
        "    x[5] = required_car_parking_spaces\n",
        "    x[2] = previous_cancellations\n",
        "    x[6] = total_of_special_requests\n",
        "    x[4] = adr\n",
        "    x[0] = lead_time\n",
        "\n",
        "  \n",
        "\n",
        "\n",
        "    if customer_type_index >= 0:\n",
        "        x[customer_type_index] = 1\n",
        "\n",
        "    if market_segment_index >= 0:\n",
        "        x[market_segment_index] = 1\n",
        "\n",
        "    if deposit_type_index >= 0:\n",
        "        x[deposit_type_index] = 1\n",
        "    \n",
        "    if arrival_date_month_index >= 0:\n",
        "        x[arrival_date_month_index] = 1\n",
        "  \n",
        "\n",
        "    \n",
        "    return ensemble.predict([x])[0],ensemble.predict_proba([x])\n",
        "\n",
        "\n",
        "\n",
        "\n"
      ]
    },
    {
      "cell_type": "code",
      "execution_count": 399,
      "id": "7OxdCA_Ed9UF",
      "metadata": {
        "colab": {
          "base_uri": "https://localhost:8080/"
        },
        "id": "7OxdCA_Ed9UF",
        "outputId": "b37a2f1e-7045-4605-f5a2-b9594dba1bd7"
      },
      "outputs": [
        {
          "name": "stdout",
          "output_type": "stream",
          "text": [
            "(0, array([[0.75330581, 0.24669419]]))\n"
          ]
        }
      ],
      "source": [
        "print(predict_cancellation('July',1,3,0,0,'Transient',82,0,'Online TA',1,85,'No Deposit'))"
      ]
    },
    {
      "cell_type": "markdown",
      "id": "c8PwYTH4hG7N",
      "metadata": {
        "id": "c8PwYTH4hG7N"
      },
      "source": [
        "### Export the tested model to a pickle file\n"
      ]
    },
    {
      "cell_type": "code",
      "execution_count": 400,
      "id": "v7mR2Uphd9Hc",
      "metadata": {
        "id": "v7mR2Uphd9Hc"
      },
      "outputs": [],
      "source": [
        "import pickle\n",
        "with open('ensemble_model.pickle','ab') as f:\n",
        "    pickle.dump(ensemble,f)"
      ]
    },
    {
      "cell_type": "code",
      "execution_count": null,
      "id": "Eb-s-6yaoS5j",
      "metadata": {
        "id": "Eb-s-6yaoS5j"
      },
      "outputs": [],
      "source": [
        "import json\n",
        "columns = {\n",
        "    'data_columns' : [col.lower() for col in X.columns]\n",
        "}\n",
        "\n",
        "with open(\"data_columns.json\",\"w\") as f:\n",
        "    f.write(json.dumps(columns))"
      ]
    }
  ],
  "metadata": {
    "colab": {
      "collapsed_sections": [
        "87d67cbb",
        "9a9e4085",
        "34b452f5",
        "3cf3b591",
        "aac9df5f",
        "yw1ROYYP09pu",
        "r8RvxJNBj-Pb",
        "a33b971b",
        "b1192cc6",
        "miAlip963ou4",
        "C6vLWiGxeEcA",
        "6a136254",
        "sJ3mxVriZZBF",
        "GGSRAODsruRo",
        "MVvH5-Sosf21",
        "bcf4a6bf",
        "eu7u0DOs5R6Q",
        "Pw4s32XFM-DC",
        "QUGS8FglNDe-",
        "c963bd86"
      ],
      "provenance": []
    },
    "gpuClass": "standard",
    "kernelspec": {
      "display_name": "Python 3.9.7 ('base')",
      "language": "python",
      "name": "python3"
    },
    "language_info": {
      "codemirror_mode": {
        "name": "ipython",
        "version": 3
      },
      "file_extension": ".py",
      "mimetype": "text/x-python",
      "name": "python",
      "nbconvert_exporter": "python",
      "pygments_lexer": "ipython3",
      "version": "3.9.7"
    },
    "vscode": {
      "interpreter": {
        "hash": "2b77fa8c1cc59c983ee5bffc0aaf8e2bbb488fb2df80a5f6d69be8fc6d314768"
      }
    }
  },
  "nbformat": 4,
  "nbformat_minor": 5
}
