{
  "cells": [
    {
      "cell_type": "code",
      "execution_count": 1,
      "id": "272f8a92",
      "metadata": {
        "id": "272f8a92"
      },
      "outputs": [],
      "source": [
        "import pandas as pd\n",
        "import numpy as np\n",
        "import matplotlib.pyplot as plt\n",
        "import seaborn as sns\n",
        "import warnings \n",
        "from sklearn.metrics import confusion_matrix,classification_report, roc_auc_score\n",
        "\n",
        "warnings.filterwarnings('ignore')"
      ]
    },
    {
      "cell_type": "code",
      "execution_count": 2,
      "id": "3f88b640",
      "metadata": {
        "id": "3f88b640"
      },
      "outputs": [],
      "source": [
        "from sklearn.tree import DecisionTreeClassifier\n",
        "from sklearn.neighbors import KNeighborsClassifier\n",
        "from sklearn.linear_model import LogisticRegression\n",
        "from sklearn.ensemble import AdaBoostClassifier, GradientBoostingClassifier,RandomForestClassifier,BaggingClassifier,ExtraTreesClassifier\n",
        "from xgboost.sklearn import XGBClassifier\n",
        "from sklearn.svm import SVC"
      ]
    },
    {
      "cell_type": "code",
      "execution_count": 3,
      "id": "9a103af6",
      "metadata": {
        "colab": {
          "base_uri": "https://localhost:8080/"
        },
        "id": "9a103af6",
        "outputId": "95b75cbf-264d-4fa7-c733-9e78c5f5e7b0",
        "scrolled": true
      },
      "outputs": [
        {
          "data": {
            "text/plain": [
              "(118981, 35)"
            ]
          },
          "execution_count": 3,
          "metadata": {},
          "output_type": "execute_result"
        }
      ],
      "source": [
        "df = pd.read_csv('hotel_cleaned_data_set_final_for_model.csv')\n",
        "df.head()\n",
        "df.shape"
      ]
    },
    {
      "cell_type": "code",
      "execution_count": null,
      "id": "yWwY0avsrL79",
      "metadata": {
        "colab": {
          "base_uri": "https://localhost:8080/"
        },
        "id": "yWwY0avsrL79",
        "outputId": "0881df81-5d10-462e-c195-304e0e8c9b15"
      },
      "outputs": [
        {
          "data": {
            "text/plain": [
              "(59490, 35)"
            ]
          },
          "execution_count": 40,
          "metadata": {},
          "output_type": "execute_result"
        }
      ],
      "source": [
        "df1 = df.sample(frac=0.5)\n",
        "df1.shape"
      ]
    },
    {
      "cell_type": "code",
      "execution_count": null,
      "id": "DGZ5pxHFsF50",
      "metadata": {
        "colab": {
          "base_uri": "https://localhost:8080/"
        },
        "id": "DGZ5pxHFsF50",
        "outputId": "c7c01d75-e5c9-4dd3-8d72-36ac54c5745f"
      },
      "outputs": [
        {
          "data": {
            "text/plain": [
              "0    0.628475\n",
              "1    0.371525\n",
              "Name: is_canceled, dtype: float64"
            ]
          },
          "execution_count": 41,
          "metadata": {},
          "output_type": "execute_result"
        }
      ],
      "source": [
        "df1['is_canceled'].value_counts(normalize=True)\n"
      ]
    },
    {
      "cell_type": "markdown",
      "id": "87d67cbb",
      "metadata": {
        "id": "87d67cbb"
      },
      "source": [
        "# X/y Split and Mteric Selection"
      ]
    },
    {
      "cell_type": "code",
      "execution_count": null,
      "id": "ed513156",
      "metadata": {
        "id": "ed513156"
      },
      "outputs": [],
      "source": [
        "X = df1.drop(['is_canceled'], axis = 1)\n",
        "y = df1['is_canceled']"
      ]
    },
    {
      "cell_type": "markdown",
      "id": "5c0d4267",
      "metadata": {
        "id": "5c0d4267"
      },
      "source": [
        "To select the appropriate evaluation metric, we need to understand about the risk of false negative and false positive in our prediction case. In short term point-of-view (POV), false negative of booking cancellation prediction is more likely resulting in profit-loss because of unnecessary preparation of the hotel towards non-existent customer. But in the long term POV, failing to prepare for the customer's arrival also will reduce our customer's experience, resulting in unseen profit/opportunity-loss in the future (false positive). So, balancing false positive and false negative (F1 score) is necessity for this prediction model building."
      ]
    },
    {
      "cell_type": "markdown",
      "id": "785a084b",
      "metadata": {
        "id": "785a084b"
      },
      "source": [
        "Thus we select F1 score as our performance metric in addition to accuracy (primary)"
      ]
    },
    {
      "cell_type": "markdown",
      "id": "9a9e4085",
      "metadata": {
        "id": "9a9e4085"
      },
      "source": [
        "# Balancing Method\n"
      ]
    },
    {
      "cell_type": "code",
      "execution_count": null,
      "id": "f3c56c64",
      "metadata": {
        "id": "f3c56c64"
      },
      "outputs": [],
      "source": [
        "from sklearn.metrics import precision_score, recall_score, f1_score,accuracy_score\n",
        "from sklearn.model_selection import KFold\n",
        "from imblearn.under_sampling import RandomUnderSampler\n",
        "from imblearn.over_sampling import SMOTE, RandomOverSampler\n",
        "\n",
        "from sklearn.neighbors import KNeighborsClassifier\n",
        "from sklearn.linear_model import LogisticRegression\n",
        "from sklearn.ensemble import RandomForestClassifier\n",
        "from xgboost.sklearn import XGBClassifier\n"
      ]
    },
    {
      "cell_type": "code",
      "execution_count": null,
      "id": "3e767b3b",
      "metadata": {
        "id": "3e767b3b"
      },
      "outputs": [],
      "source": [
        "def balance_train_data(X, y, method=None):\n",
        "    '''\n",
        "    Balances the data passed in according to the specified method.\n",
        "    Returns balanced numpy arrays.\n",
        "    '''\n",
        "    if method == None:\n",
        "        return X, y\n",
        "\n",
        "    elif method == 'undersampling':\n",
        "        rus = RandomUnderSampler()\n",
        "        X_train, y_train = rus.fit_resample(X, y)\n",
        "        return X_train, y_train\n",
        "\n",
        "    elif method == 'oversampling':\n",
        "        ros = RandomOverSampler()\n",
        "        X_train, y_train = ros.fit_resample(X, y)\n",
        "        return X_train, y_train\n",
        "\n",
        "    elif method == 'smote':\n",
        "        smote = SMOTE()\n",
        "        X_train, y_train = smote.fit_resample(X, y)\n",
        "        return X_train, y_train\n",
        "\n",
        "    elif method == 'both':\n",
        "        smote = SMOTE(sampling_strategy=0.75)\n",
        "        under = RandomUnderSampler(sampling_strategy=1)\n",
        "        X_train, y_train = smote.fit_resample(X, y)\n",
        "        X_train, y_train = under.fit_resample(X_train, y_train)\n",
        "        return X_train, y_train\n",
        "\n",
        "    else:\n",
        "        print('Incorrect balance method')\n",
        "        return"
      ]
    },
    {
      "cell_type": "code",
      "execution_count": null,
      "id": "039e3efe",
      "metadata": {
        "id": "039e3efe"
      },
      "outputs": [],
      "source": [
        "def plot_cross_val(models, X, y, ax, sampling_method, names, n_splits=5):\n",
        "    kf = KFold(n_splits=n_splits, shuffle=True)\n",
        "\n",
        "\n",
        "    precisions = []\n",
        "    recalls = []\n",
        "    f1 = []\n",
        "    for i in range(len(models)):\n",
        "        precisions.append([])\n",
        "        recalls.append([])\n",
        "        f1.append([])\n",
        "\n",
        "    for train, test in kf.split(X):\n",
        "        X_test, y_test = X.iloc[test], y.iloc[test]\n",
        "        X_train, y_train = X.iloc[train], y.iloc[train]\n",
        "        \n",
        "        X_train, y_train = balance_train_data(X_train, y_train, method=sampling_method)\n",
        "\n",
        "        for i, model in enumerate(models):\n",
        "            model.fit(X_train, y_train)\n",
        "            y_pred = model.predict(X_test)\n",
        "\n",
        "            # precisions[i].append(precision_score(y_test, y_pred))\n",
        "            # recalls[i].append(recall_score(y_test, y_pred))\n",
        "            f1[i].append(f1_score(y_test, y_pred))\n",
        "\n",
        "    x = range(0, n_splits)\n",
        "    colormap = {0 : 'r',\n",
        "                1 : 'b',\n",
        "                2 : 'g',\n",
        "                3 : 'c',\n",
        "                4 : 'm'}\n",
        "\n",
        "\n",
        "    for i in range(len(models)):\n",
        "        print(f1[i])\n",
        "        ax.plot(x, f1[i], c=colormap[i],\n",
        "                linewidth=1, linestyle='-',\n",
        "                label='%s F1 Score' % names[i])\n",
        "        # ax.plot(x, precisions[i], c=colormap[i],\n",
        "        #        linewidth=1, linestyle='-',\n",
        "        #        label='%s Precision' % names[i])\n",
        "        # ax.plot(x, recalls[i], c=colormap[i],\n",
        "        #        linewidth=1, linestyle='--',\n",
        "        #        label='%s Recall' % names[i])"
      ]
    },
    {
      "cell_type": "markdown",
      "id": "47a07c8b",
      "metadata": {
        "id": "47a07c8b"
      },
      "source": [
        "To find the effect of balancing will use logistic regression as our basic binary classification model, KNN as instance-based machine learning model, Forest as bagging ensemble method, and XGBoost as boosting ensemble method."
      ]
    },
    {
      "cell_type": "code",
      "execution_count": null,
      "id": "6b87fd4b",
      "metadata": {
        "id": "6b87fd4b"
      },
      "outputs": [],
      "source": [
        "models = [LogisticRegression(), KNeighborsClassifier(), RandomForestClassifier(), XGBClassifier()]\n"
      ]
    },
    {
      "cell_type": "code",
      "execution_count": null,
      "id": "86d6d420",
      "metadata": {
        "colab": {
          "base_uri": "https://localhost:8080/",
          "height": 594
        },
        "id": "86d6d420",
        "outputId": "ffda7850-4141-4df4-ef1a-3330ac2a8c92"
      },
      "outputs": [
        {
          "name": "stdout",
          "output_type": "stream",
          "text": [
            "[0.699340488814173, 0.6690830984024702, 0.6814345991561181, 0.6675775379150157, 0.6823932525039537]\n",
            "[0.6470935031246315, 0.6458706824429306, 0.632010613918707, 0.6287104622871046, 0.6462241462241461]\n",
            "[0.7812199807877042, 0.7822415249125346, 0.7762934175370416, 0.7777228945418623, 0.7854241338112306]\n",
            "[0.7111400651465798, 0.702322495023225, 0.70996699669967, 0.7024693023883417, 0.7136746597537265]\n"
          ]
        },
        {
          "data": {
            "text/plain": [
              "Text(0.5, 1.0, 'No Balancing')"
            ]
          },
          "execution_count": 157,
          "metadata": {},
          "output_type": "execute_result"
        },
        {
          "data": {
            "image/png": "[encoded data removed]",
            "text/plain": [
              "<Figure size 1000x500 with 1 Axes>"
            ]
          },
          "metadata": {},
          "output_type": "display_data"
        }
      ],
      "source": [
        "fig, ax = plt.subplots(figsize=(10, 5))\n",
        "\n",
        "plot_cross_val(models, X, y, ax, None, [m.__class__.__name__ for m in models])\n",
        "ax.legend()\n",
        "ax.set_ylim(-0.05, 1.05)\n",
        "ax.set_xticks([0, 1, 2, 3, 4])\n",
        "ax.set_xlabel('Folds', fontsize=20)\n",
        "ax.set_ylabel('F1 Score', fontsize=20)\n",
        "ax.set_title('No Balancing', fontsize=20)\n",
        "\n"
      ]
    },
    {
      "cell_type": "code",
      "execution_count": null,
      "id": "4338262e",
      "metadata": {
        "colab": {
          "base_uri": "https://localhost:8080/",
          "height": 594
        },
        "id": "4338262e",
        "outputId": "3d399364-fe89-4625-b08c-bccb1b837dd1"
      },
      "outputs": [
        {
          "name": "stdout",
          "output_type": "stream",
          "text": [
            "[0.707492000441355, 0.6929010620458356, 0.6972943125345112, 0.7003040882982318, 0.7044607566346697]\n",
            "[0.644868301544051, 0.6438652518800866, 0.646141130282054, 0.6353790613718411, 0.6442307692307693]\n",
            "[0.780418665503707, 0.7758678052567373, 0.7791601866251944, 0.784536541889483, 0.7883936451897617]\n",
            "[0.7259637714816535, 0.7151921465341794, 0.7242857142857142, 0.7302678359800902, 0.7295256077413265]\n"
          ]
        },
        {
          "data": {
            "text/plain": [
              "Text(0.5, 1.0, 'Undersampling')"
            ]
          },
          "execution_count": 158,
          "metadata": {},
          "output_type": "execute_result"
        },
        {
          "data": {
            "image/png": "[encoded data removed]",
            "text/plain": [
              "<Figure size 1000x500 with 1 Axes>"
            ]
          },
          "metadata": {},
          "output_type": "display_data"
        }
      ],
      "source": [
        "fig, ax = plt.subplots(figsize=(10, 5))\n",
        "plot_cross_val(models, X, y, ax, 'undersampling', [m.__class__.__name__ for m in models])\n",
        "ax.legend()\n",
        "ax.set_ylim(-0.05, 1.05)\n",
        "ax.set_xticks([0, 1, 2, 3, 4])\n",
        "ax.set_xlabel('Folds', fontsize=20)\n",
        "ax.set_ylabel('F1 Score', fontsize=20)\n",
        "ax.set_title('Undersampling', fontsize=20)"
      ]
    },
    {
      "cell_type": "code",
      "execution_count": null,
      "id": "6213ae56",
      "metadata": {
        "colab": {
          "base_uri": "https://localhost:8080/",
          "height": 586
        },
        "id": "6213ae56",
        "outputId": "936e3a8c-dece-4291-dae0-274ca5929f02"
      },
      "outputs": [
        {
          "name": "stdout",
          "output_type": "stream",
          "text": [
            "[0.7019372380197122, 0.7015600271309066, 0.7136243386243386, 0.6914606741573034, 0.6976585587633553]\n",
            "[0.6548013245033113, 0.6538661131292164, 0.6568326162671584, 0.6421272158498436, 0.6415294742432289]\n",
            "[0.7833528722157093, 0.7793305930710511, 0.7931509997701678, 0.7788686302010285, 0.7787969029184038]\n",
            "[0.7292529892269445, 0.7233136094674557, 0.7366102480871785, 0.7220386974988202, 0.7246236036911122]\n"
          ]
        },
        {
          "data": {
            "text/plain": [
              "Text(0.5, 1.0, 'Oversampling')"
            ]
          },
          "execution_count": 159,
          "metadata": {},
          "output_type": "execute_result"
        },
        {
          "data": {
            "image/png": "[encoded data removed]",
            "text/plain": [
              "<Figure size 1000x500 with 1 Axes>"
            ]
          },
          "metadata": {},
          "output_type": "display_data"
        }
      ],
      "source": [
        "fig, ax = plt.subplots(figsize=(10, 5))\n",
        "plot_cross_val(models, X, y, ax, 'oversampling', [m.__class__.__name__ for m in models])\n",
        "ax.legend()\n",
        "ax.set_ylim(-0.05, 1.05)\n",
        "ax.set_xticks([0, 1, 2, 3, 4])\n",
        "ax.set_xlabel('Folds', fontsize=20)\n",
        "ax.set_ylabel('F1 Score', fontsize=20)\n",
        "ax.set_title('Oversampling')"
      ]
    },
    {
      "cell_type": "code",
      "execution_count": null,
      "id": "53d5397f",
      "metadata": {
        "colab": {
          "base_uri": "https://localhost:8080/",
          "height": 586
        },
        "id": "53d5397f",
        "outputId": "c4403fef-a0e7-4e78-d013-83a033e9688b"
      },
      "outputs": [
        {
          "name": "stdout",
          "output_type": "stream",
          "text": [
            "[0.6983035304906006, 0.6989871400933196, 0.6985123198512321, 0.7012097694590276, 0.6973790555363122]\n",
            "[0.6544926333264163, 0.6444650015417823, 0.6487738132828124, 0.6519234725365152, 0.6563602407138411]\n",
            "[0.7796650717703351, 0.7794169715567096, 0.7844489359172513, 0.7842865395725014, 0.7862215909090908]\n",
            "[0.7174202933688932, 0.7210507290034943, 0.7238164426686039, 0.7284345047923323, 0.7204457364341086]\n"
          ]
        },
        {
          "data": {
            "text/plain": [
              "Text(0.5, 1.0, 'SMOTE')"
            ]
          },
          "execution_count": 160,
          "metadata": {},
          "output_type": "execute_result"
        },
        {
          "data": {
            "image/png": "[encoded data removed]",
            "text/plain": [
              "<Figure size 1000x500 with 1 Axes>"
            ]
          },
          "metadata": {},
          "output_type": "display_data"
        }
      ],
      "source": [
        "fig, ax = plt.subplots(figsize=(10, 5))\n",
        "plot_cross_val(models, X, y, ax, 'smote', [m.__class__.__name__ for m in models])\n",
        "ax.legend()\n",
        "ax.set_ylim(-0.05, 1.05)\n",
        "ax.set_xticks([0, 1, 2, 3, 4])\n",
        "ax.set_xlabel('Folds', fontsize=20)\n",
        "ax.set_ylabel('F1 Score', fontsize=20)\n",
        "ax.set_title('SMOTE')"
      ]
    },
    {
      "cell_type": "code",
      "execution_count": null,
      "id": "2ce35d7f",
      "metadata": {
        "colab": {
          "base_uri": "https://localhost:8080/",
          "height": 586
        },
        "id": "2ce35d7f",
        "outputId": "ee0fe681-51d4-4d2b-8f86-b68c039aae35"
      },
      "outputs": [
        {
          "name": "stdout",
          "output_type": "stream",
          "text": [
            "[0.6909132368031011, 0.6952606101542271, 0.7023056057866185, 0.7075089928057554, 0.700957213700842]\n",
            "[0.6395288769500981, 0.6433697347893915, 0.6501484590969592, 0.6523209345219798, 0.6458964976476739]\n",
            "[0.7714514835605454, 0.7875588201537932, 0.7840717891194616, 0.7867160327611354, 0.7782628676470588]\n",
            "[0.7143198090692123, 0.7227876900969944, 0.727663640707119, 0.7311039853412735, 0.7247177516214267]\n"
          ]
        },
        {
          "data": {
            "text/plain": [
              "Text(0.5, 1.0, 'SMOTE + Undersampling')"
            ]
          },
          "execution_count": 161,
          "metadata": {},
          "output_type": "execute_result"
        },
        {
          "data": {
            "image/png": "[encoded data removed]",
            "text/plain": [
              "<Figure size 1000x500 with 1 Axes>"
            ]
          },
          "metadata": {},
          "output_type": "display_data"
        }
      ],
      "source": [
        "fig, ax = plt.subplots(figsize=(10, 5))\n",
        "plot_cross_val(models, X, y, ax, 'both', [m.__class__.__name__ for m in models])\n",
        "ax.legend()\n",
        "ax.set_ylim(-0.05, 1.05)\n",
        "ax.set_xticks([0, 1, 2, 3, 4])\n",
        "ax.set_xlabel('Folds', fontsize=20)\n",
        "ax.set_ylabel('F1 Score', fontsize=20)\n",
        "ax.set_title('SMOTE + Undersampling')"
      ]
    },
    {
      "cell_type": "markdown",
      "id": "9640070a",
      "metadata": {
        "id": "9640070a"
      },
      "source": [
        "Not balancing the data actually doesn't make much of a difference, so I decided to move forward with the data as is. It is likely that this is the case because the data is not too imbalanced."
      ]
    },
    {
      "cell_type": "markdown",
      "id": "34b452f5",
      "metadata": {
        "id": "34b452f5"
      },
      "source": [
        "# Train/Test Split"
      ]
    },
    {
      "cell_type": "code",
      "execution_count": null,
      "id": "da7b7460",
      "metadata": {
        "id": "da7b7460"
      },
      "outputs": [],
      "source": [
        "# Train and test split data\n",
        "from sklearn.model_selection import train_test_split\n",
        "X_train,X_test,y_train,y_test = train_test_split(X,y,random_state = 42,stratify = y,test_size = 0.30)"
      ]
    },
    {
      "cell_type": "markdown",
      "id": "3cf3b591",
      "metadata": {
        "id": "3cf3b591"
      },
      "source": [
        "# Model Building"
      ]
    },
    {
      "cell_type": "markdown",
      "id": "47a49652",
      "metadata": {
        "id": "47a49652"
      },
      "source": [
        "### XGBoost"
      ]
    },
    {
      "cell_type": "code",
      "execution_count": null,
      "id": "ed540e73",
      "metadata": {
        "colab": {
          "base_uri": "https://localhost:8080/"
        },
        "id": "ed540e73",
        "outputId": "ec4b628b-bcf3-4275-fa6a-5a2d44dc2301"
      },
      "outputs": [
        {
          "data": {
            "text/plain": [
              "XGBClassifier()"
            ]
          },
          "execution_count": 49,
          "metadata": {},
          "output_type": "execute_result"
        }
      ],
      "source": [
        "xgb = XGBClassifier()\n",
        "xgb.fit(X_train,y_train)"
      ]
    },
    {
      "cell_type": "code",
      "execution_count": null,
      "id": "6e809539",
      "metadata": {
        "colab": {
          "base_uri": "https://localhost:8080/"
        },
        "id": "6e809539",
        "outputId": "1fa7e87b-1458-4d63-f009-e1632c84ef68",
        "scrolled": true
      },
      "outputs": [
        {
          "name": "stdout",
          "output_type": "stream",
          "text": [
            "Training Accuracy : 0.8138462646783373\n",
            "Testing Accuracy : 0.8189051381184512\n"
          ]
        }
      ],
      "source": [
        "training_acc_xgb=xgb.score(X_train,y_train)\n",
        "testing_acc_xgb=xgb.score(X_test,y_test)\n",
        "\n",
        "y_predicted=xgb.predict(X_test)\n",
        "\n",
        "recall_xgb=recall_score(y_test,y_predicted)\n",
        "accuracy_xgb=accuracy_score(y_test,y_predicted)\n",
        "precision_xgb=precision_score(y_test,y_predicted)\n",
        "f1_xgb=f1_score(y_test,y_predicted)\n",
        "\n",
        "print(f\"Training Accuracy : {training_acc_xgb}\")\n",
        "print(f\"Testing Accuracy : {testing_acc_xgb}\")\n",
        "\n",
        "#Model is not over or under fitting"
      ]
    },
    {
      "cell_type": "code",
      "execution_count": null,
      "id": "bbd01910",
      "metadata": {
        "colab": {
          "base_uri": "https://localhost:8080/",
          "height": 337
        },
        "id": "bbd01910",
        "outputId": "41e780a3-c943-474a-aacd-fe21c6e15485"
      },
      "outputs": [
        {
          "data": {
            "text/plain": [
              "<matplotlib.axes._subplots.AxesSubplot at 0x7f812a580f10>"
            ]
          },
          "execution_count": 51,
          "metadata": {},
          "output_type": "execute_result"
        },
        {
          "data": {
            "image/png": "[encoded data removed]",
            "text/plain": [
              "<Figure size 504x360 with 2 Axes>"
            ]
          },
          "metadata": {
            "needs_background": "light"
          },
          "output_type": "display_data"
        }
      ],
      "source": [
        "\n",
        "cm=confusion_matrix(y_test, y_predicted)\n",
        "df_stacked_model = pd.DataFrame(data = cm, index = ['actual 1', 'actual 0'], columns = ['Predicted 1', 'Predicted 0'])\n",
        "\n",
        "\n",
        "plt.figure(figsize = (7, 5))\n",
        "sns.heatmap(df_stacked_model, annot = True,fmt='g')"
      ]
    },
    {
      "cell_type": "code",
      "execution_count": null,
      "id": "d2c45c3d",
      "metadata": {
        "colab": {
          "base_uri": "https://localhost:8080/"
        },
        "id": "d2c45c3d",
        "outputId": "efd75c59-7385-4c2b-baed-7c852a3263f6"
      },
      "outputs": [
        {
          "name": "stdout",
          "output_type": "stream",
          "text": [
            "              precision    recall  f1-score   support\n",
            "\n",
            "           0       0.81      0.93      0.87     11216\n",
            "           1       0.85      0.62      0.72      6631\n",
            "\n",
            "    accuracy                           0.82     17847\n",
            "   macro avg       0.83      0.78      0.79     17847\n",
            "weighted avg       0.82      0.82      0.81     17847\n",
            "\n"
          ]
        }
      ],
      "source": [
        "print(classification_report(y_test, y_predicted))"
      ]
    },
    {
      "cell_type": "markdown",
      "id": "8uDOyoCf2z7h",
      "metadata": {
        "id": "8uDOyoCf2z7h"
      },
      "source": [
        "### LGB"
      ]
    },
    {
      "cell_type": "code",
      "execution_count": 214,
      "id": "Baqdp1Hh22pt",
      "metadata": {
        "colab": {
          "base_uri": "https://localhost:8080/"
        },
        "id": "Baqdp1Hh22pt",
        "outputId": "acdfd183-e291-4639-f40a-ee0b002a98c6"
      },
      "outputs": [
        {
          "data": {
            "text/plain": [
              "LGBMClassifier()"
            ]
          },
          "execution_count": 214,
          "metadata": {},
          "output_type": "execute_result"
        }
      ],
      "source": [
        "import lightgbm as lgb\n",
        "lgb_model = lgb.LGBMClassifier()\n",
        "lgb_model.fit(X_train,y_train)"
      ]
    },
    {
      "cell_type": "code",
      "execution_count": 215,
      "id": "V9Jczn0z3B6C",
      "metadata": {
        "colab": {
          "base_uri": "https://localhost:8080/"
        },
        "id": "V9Jczn0z3B6C",
        "outputId": "d26e68fe-1522-4286-98af-50f3f5cbe26b"
      },
      "outputs": [
        {
          "name": "stdout",
          "output_type": "stream",
          "text": [
            "Training Accuracy : 0.8369713997550609\n",
            "Testing Accuracy : 0.8336975402028353\n"
          ]
        }
      ],
      "source": [
        "training_acc_lgb=lgb_model.score(X_train,y_train)\n",
        "testing_acc_lgb=lgb_model.score(X_test,y_test)\n",
        "\n",
        "y_predicted=lgb_model.predict(X_test)\n",
        "\n",
        "recall_lgb=recall_score(y_test,y_predicted)\n",
        "accuracy_lgb=accuracy_score(y_test,y_predicted)\n",
        "precision_lgb=precision_score(y_test,y_predicted)\n",
        "f1_lgb=f1_score(y_test,y_predicted)\n",
        "\n",
        "print(f\"Training Accuracy : {training_acc_lgb}\")\n",
        "print(f\"Testing Accuracy : {testing_acc_lgb}\")\n",
        "\n",
        "#Model is not overfitting or underfitting"
      ]
    },
    {
      "cell_type": "code",
      "execution_count": 216,
      "id": "mLAyur203PbZ",
      "metadata": {
        "colab": {
          "base_uri": "https://localhost:8080/",
          "height": 342
        },
        "id": "mLAyur203PbZ",
        "outputId": "9bd7db2a-362b-4c03-b013-93ab73f4bc12"
      },
      "outputs": [
        {
          "data": {
            "text/plain": [
              "<matplotlib.axes._subplots.AxesSubplot at 0x7f8129ce4be0>"
            ]
          },
          "execution_count": 216,
          "metadata": {},
          "output_type": "execute_result"
        },
        {
          "data": {
            "image/png": "[encoded data removed]",
            "text/plain": [
              "<Figure size 504x360 with 2 Axes>"
            ]
          },
          "metadata": {},
          "output_type": "display_data"
        }
      ],
      "source": [
        "\n",
        "cm=confusion_matrix(y_test, y_predicted)\n",
        "df_stacked_model = pd.DataFrame(data = cm, index = ['actual 1', 'actual 0'], columns = ['Predicted 1', 'Predicted 0'])\n",
        "\n",
        "\n",
        "plt.figure(figsize = (7, 5))\n",
        "sns.heatmap(df_stacked_model, annot = True,fmt='g')"
      ]
    },
    {
      "cell_type": "code",
      "execution_count": 217,
      "id": "UR_N3tSy3SBy",
      "metadata": {
        "colab": {
          "base_uri": "https://localhost:8080/"
        },
        "id": "UR_N3tSy3SBy",
        "outputId": "88bb9174-de0a-422f-8c1d-d13e13cf6b47"
      },
      "outputs": [
        {
          "name": "stdout",
          "output_type": "stream",
          "text": [
            "              precision    recall  f1-score   support\n",
            "\n",
            "           0       0.83      0.93      0.88     11216\n",
            "           1       0.85      0.68      0.75      6631\n",
            "\n",
            "    accuracy                           0.83     17847\n",
            "   macro avg       0.84      0.80      0.81     17847\n",
            "weighted avg       0.84      0.83      0.83     17847\n",
            "\n"
          ]
        }
      ],
      "source": [
        "print(classification_report(y_test, y_predicted))"
      ]
    },
    {
      "cell_type": "markdown",
      "id": "3c781871",
      "metadata": {
        "id": "3c781871"
      },
      "source": [
        "### Decision Tree"
      ]
    },
    {
      "cell_type": "code",
      "execution_count": null,
      "id": "c890df97",
      "metadata": {
        "colab": {
          "base_uri": "https://localhost:8080/"
        },
        "id": "c890df97",
        "outputId": "cc630116-4eb1-4010-fdb0-cfefa0082d93"
      },
      "outputs": [
        {
          "data": {
            "text/plain": [
              "DecisionTreeClassifier()"
            ]
          },
          "execution_count": 53,
          "metadata": {},
          "output_type": "execute_result"
        }
      ],
      "source": [
        "dt_model = DecisionTreeClassifier()\n",
        "dt_model.fit(X_train,y_train)"
      ]
    },
    {
      "cell_type": "code",
      "execution_count": null,
      "id": "7477929b",
      "metadata": {
        "colab": {
          "base_uri": "https://localhost:8080/"
        },
        "id": "7477929b",
        "outputId": "ada54891-945f-4f0f-b2bf-8bca647835f6"
      },
      "outputs": [
        {
          "name": "stdout",
          "output_type": "stream",
          "text": [
            "Training Accuracy : 0.9925557716783133\n",
            "Testing Accuracy : 0.7932425617750882\n"
          ]
        }
      ],
      "source": [
        "training_acc_dt=dt_model.score(X_train,y_train)\n",
        "testing_acc_dt=dt_model.score(X_test,y_test)\n",
        "\n",
        "y_predicted=dt_model.predict(X_test)\n",
        "\n",
        "recall_dt=recall_score(y_test,y_predicted)\n",
        "accuracy_dt=accuracy_score(y_test,y_predicted)\n",
        "precision_dt=precision_score(y_test,y_predicted)\n",
        "f1_dt=f1_score(y_test,y_predicted)\n",
        "\n",
        "print(f\"Training Accuracy : {training_acc_dt}\")\n",
        "print(f\"Testing Accuracy : {testing_acc_dt}\")\n",
        "\n",
        "#Model is overfitting"
      ]
    },
    {
      "cell_type": "code",
      "execution_count": null,
      "id": "c9a67e75",
      "metadata": {
        "colab": {
          "base_uri": "https://localhost:8080/",
          "height": 337
        },
        "id": "c9a67e75",
        "outputId": "caa239a4-f593-4a7d-f9ed-d7592a57cb50"
      },
      "outputs": [
        {
          "data": {
            "text/plain": [
              "<matplotlib.axes._subplots.AxesSubplot at 0x7f812aac0790>"
            ]
          },
          "execution_count": 55,
          "metadata": {},
          "output_type": "execute_result"
        },
        {
          "data": {
            "image/png": "[encoded data removed]",
            "text/plain": [
              "<Figure size 504x360 with 2 Axes>"
            ]
          },
          "metadata": {
            "needs_background": "light"
          },
          "output_type": "display_data"
        }
      ],
      "source": [
        "\n",
        "cm=confusion_matrix(y_test, y_predicted)\n",
        "df_stacked_model = pd.DataFrame(data = cm, index = ['actual 1', 'actual 0'], columns = ['Predicted 1', 'Predicted 0'])\n",
        "\n",
        "\n",
        "plt.figure(figsize = (7, 5))\n",
        "sns.heatmap(df_stacked_model, annot = True,fmt='g')"
      ]
    },
    {
      "cell_type": "code",
      "execution_count": null,
      "id": "4d422495",
      "metadata": {
        "colab": {
          "base_uri": "https://localhost:8080/"
        },
        "id": "4d422495",
        "outputId": "ced9fc34-356c-428c-b9d2-beea28cf9bcf"
      },
      "outputs": [
        {
          "name": "stdout",
          "output_type": "stream",
          "text": [
            "              precision    recall  f1-score   support\n",
            "\n",
            "           0       0.84      0.83      0.83     11216\n",
            "           1       0.72      0.74      0.73      6631\n",
            "\n",
            "    accuracy                           0.79     17847\n",
            "   macro avg       0.78      0.78      0.78     17847\n",
            "weighted avg       0.79      0.79      0.79     17847\n",
            "\n"
          ]
        }
      ],
      "source": [
        "\n",
        "print(classification_report(y_test, y_predicted))"
      ]
    },
    {
      "cell_type": "markdown",
      "id": "aac9df5f",
      "metadata": {
        "id": "aac9df5f"
      },
      "source": [
        "### RandomForest"
      ]
    },
    {
      "cell_type": "code",
      "execution_count": null,
      "id": "21d276e4",
      "metadata": {
        "colab": {
          "base_uri": "https://localhost:8080/"
        },
        "id": "21d276e4",
        "outputId": "e3dc0b68-8482-4ce2-9de5-e2de2efa9b24"
      },
      "outputs": [
        {
          "data": {
            "text/plain": [
              "RandomForestClassifier()"
            ]
          },
          "execution_count": 57,
          "metadata": {},
          "output_type": "execute_result"
        }
      ],
      "source": [
        "rf_model = RandomForestClassifier( )\n",
        "rf_model.fit(X_train,y_train)"
      ]
    },
    {
      "cell_type": "code",
      "execution_count": null,
      "id": "390a3bdd",
      "metadata": {
        "colab": {
          "base_uri": "https://localhost:8080/"
        },
        "id": "390a3bdd",
        "outputId": "22a41fe2-10f8-49c1-f86e-177c1ed22b65"
      },
      "outputs": [
        {
          "name": "stdout",
          "output_type": "stream",
          "text": [
            "Training Accuracy : 0.9925557716783133\n",
            "Testing Accuracy : 0.848209783156833\n"
          ]
        }
      ],
      "source": [
        "training_acc_rf=rf_model.score(X_train,y_train)\n",
        "testing_acc_rf=rf_model.score(X_test,y_test)\n",
        "\n",
        "y_predicted=rf_model.predict(X_test)\n",
        "\n",
        "recall_rf=recall_score(y_test,y_predicted)\n",
        "accuracy_rf=accuracy_score(y_test,y_predicted)\n",
        "precision_rf=precision_score(y_test,y_predicted)\n",
        "f1_rf=f1_score(y_test,y_predicted)\n",
        "\n",
        "print(f\"Training Accuracy : {training_acc_rf}\")\n",
        "print(f\"Testing Accuracy : {testing_acc_rf}\")\n",
        "\n",
        "#Model is overfitting"
      ]
    },
    {
      "cell_type": "code",
      "execution_count": null,
      "id": "0620b691",
      "metadata": {
        "colab": {
          "base_uri": "https://localhost:8080/",
          "height": 337
        },
        "id": "0620b691",
        "outputId": "a584452e-850e-4114-d5d8-857a21125f8b"
      },
      "outputs": [
        {
          "data": {
            "text/plain": [
              "<matplotlib.axes._subplots.AxesSubplot at 0x7f812a3f9e80>"
            ]
          },
          "execution_count": 59,
          "metadata": {},
          "output_type": "execute_result"
        },
        {
          "data": {
            "image/png": "[encoded data removed]",
            "text/plain": [
              "<Figure size 504x360 with 2 Axes>"
            ]
          },
          "metadata": {
            "needs_background": "light"
          },
          "output_type": "display_data"
        }
      ],
      "source": [
        "\n",
        "cm=confusion_matrix(y_test, y_predicted)\n",
        "df_stacked_model = pd.DataFrame(data = cm, index = ['actual 1', 'actual 0'], columns = ['Predicted 1', 'Predicted 0'])\n",
        "\n",
        "\n",
        "plt.figure(figsize = (7, 5))\n",
        "sns.heatmap(df_stacked_model, annot = True,fmt='g')"
      ]
    },
    {
      "cell_type": "code",
      "execution_count": null,
      "id": "9b4d10ae",
      "metadata": {
        "colab": {
          "base_uri": "https://localhost:8080/"
        },
        "id": "9b4d10ae",
        "outputId": "0500cc12-9821-4441-f940-d333109820b4"
      },
      "outputs": [
        {
          "name": "stdout",
          "output_type": "stream",
          "text": [
            "              precision    recall  f1-score   support\n",
            "\n",
            "           0       0.85      0.92      0.88     11216\n",
            "           1       0.84      0.73      0.78      6631\n",
            "\n",
            "    accuracy                           0.85     17847\n",
            "   macro avg       0.85      0.82      0.83     17847\n",
            "weighted avg       0.85      0.85      0.85     17847\n",
            "\n"
          ]
        }
      ],
      "source": [
        "print(classification_report(y_test, y_predicted))"
      ]
    },
    {
      "cell_type": "markdown",
      "id": "yw1ROYYP09pu",
      "metadata": {
        "id": "yw1ROYYP09pu"
      },
      "source": [
        "### SVC"
      ]
    },
    {
      "cell_type": "code",
      "execution_count": null,
      "id": "LwF1fww81DSo",
      "metadata": {
        "colab": {
          "base_uri": "https://localhost:8080/"
        },
        "id": "LwF1fww81DSo",
        "outputId": "57949e2f-8b59-403d-ce44-82803c9dda52"
      },
      "outputs": [
        {
          "data": {
            "text/plain": [
              "SVC()"
            ]
          },
          "execution_count": 61,
          "metadata": {},
          "output_type": "execute_result"
        }
      ],
      "source": [
        "svc_model = SVC( )\n",
        "svc_model.fit(X_train,y_train)"
      ]
    },
    {
      "cell_type": "code",
      "execution_count": null,
      "id": "Vm-W_4F_1IIm",
      "metadata": {
        "colab": {
          "base_uri": "https://localhost:8080/"
        },
        "id": "Vm-W_4F_1IIm",
        "outputId": "fbd4d11f-f5c0-464d-ce4b-0f424eea4b94"
      },
      "outputs": [
        {
          "name": "stdout",
          "output_type": "stream",
          "text": [
            "Training Accuracy : 0.6854933602286098\n",
            "Testing Accuracy : 0.6825236734465177\n"
          ]
        }
      ],
      "source": [
        "training_acc_svc=svc_model.score(X_train,y_train)\n",
        "testing_acc_svc=svc_model.score(X_test,y_test)\n",
        "\n",
        "y_predicted=svc_model.predict(X_test)\n",
        "\n",
        "recall_svc=recall_score(y_test,y_predicted)\n",
        "accuracy_svc=accuracy_score(y_test,y_predicted)\n",
        "precision_svc=precision_score(y_test,y_predicted)\n",
        "f1_svc=f1_score(y_test,y_predicted)\n",
        "\n",
        "print(f\"Training Accuracy : {training_acc_svc}\")\n",
        "print(f\"Testing Accuracy : {testing_acc_svc}\")\n",
        "\n",
        "#Model is not overfitting"
      ]
    },
    {
      "cell_type": "code",
      "execution_count": null,
      "id": "ZcURP-DY1ngs",
      "metadata": {
        "colab": {
          "base_uri": "https://localhost:8080/",
          "height": 105
        },
        "id": "ZcURP-DY1ngs",
        "outputId": "0687df4c-7b09-4658-9571-5b7d4cc3d56d"
      },
      "outputs": [
        {
          "data": {
            "text/plain": [
              "<matplotlib.axes._subplots.AxesSubplot at 0x7f812a312f70>"
            ]
          },
          "execution_count": 63,
          "metadata": {},
          "output_type": "execute_result"
        },
        {
          "data": {
            "image/png": "[encoded data removed]",
            "text/plain": [
              "<Figure size 504x360 with 2 Axes>"
            ]
          },
          "metadata": {
            "needs_background": "light"
          },
          "output_type": "display_data"
        }
      ],
      "source": [
        "\n",
        "cm=confusion_matrix(y_test, y_predicted)\n",
        "df_stacked_model = pd.DataFrame(data = cm, index = ['actual 1', 'actual 0'], columns = ['Predicted 1', 'Predicted 0'])\n",
        "\n",
        "\n",
        "plt.figure(figsize = (7, 5))\n",
        "sns.heatmap(df_stacked_model, annot = True,fmt='g')"
      ]
    },
    {
      "cell_type": "code",
      "execution_count": null,
      "id": "pFXf1vuE1rc9",
      "metadata": {
        "colab": {
          "base_uri": "https://localhost:8080/"
        },
        "id": "pFXf1vuE1rc9",
        "outputId": "c77aabe8-3dac-4f96-8d57-d9b7ec7ccdd9"
      },
      "outputs": [
        {
          "name": "stdout",
          "output_type": "stream",
          "text": [
            "              precision    recall  f1-score   support\n",
            "\n",
            "           0       0.68      0.94      0.79     11216\n",
            "           1       0.70      0.25      0.37      6631\n",
            "\n",
            "    accuracy                           0.68     17847\n",
            "   macro avg       0.69      0.59      0.58     17847\n",
            "weighted avg       0.69      0.68      0.63     17847\n",
            "\n"
          ]
        }
      ],
      "source": [
        "print(classification_report(y_test, y_predicted))"
      ]
    },
    {
      "cell_type": "markdown",
      "id": "a33b971b",
      "metadata": {
        "id": "a33b971b"
      },
      "source": [
        "\n",
        "#  Comparing Each Models Evaluation Matrix"
      ]
    },
    {
      "cell_type": "code",
      "execution_count": null,
      "id": "d400873b",
      "metadata": {
        "id": "d400873b"
      },
      "outputs": [],
      "source": [
        "from IPython.core.display import display, HTML\n",
        "\n",
        "def display_side_by_side(dfs:list, captions:list):\n",
        "    \"\"\"Display tables side by side to save vertical space\n",
        "    Input:\n",
        "        dfs: list of pandas.DataFrame\n",
        "        captions: list of table captions\n",
        "    \"\"\"\n",
        "    output = \"\"\n",
        "    combined = dict(zip(captions, dfs))\n",
        "    for caption, df in combined.items():\n",
        "        output += df.style.set_table_attributes(\"style='display:inline'\").set_caption(caption)._repr_html_()\n",
        "        output += \"\\xa0\\xa0\\xa0\"\n",
        "    display(HTML(output))"
      ]
    },
    {
      "cell_type": "code",
      "execution_count": null,
      "id": "a7ebcfe6",
      "metadata": {
        "colab": {
          "base_uri": "https://localhost:8080/",
          "height": 337
        },
        "id": "a7ebcfe6",
        "outputId": "5f81f9e8-47ce-4fc7-8908-9bea852ce14c"
      },
      "outputs": [
        {
          "name": "stdout",
          "output_type": "stream",
          "text": [
            "\n"
          ]
        },
        {
          "data": {
            "text/html": [
              "<style type=\"text/css\">\n",
              "</style>\n",
              "<table id=\"T_03f3c_\" style='display:inline'>\n",
              "  <caption>Evaluation Matrix</caption>\n",
              "  <thead>\n",
              "    <tr>\n",
              "      <th class=\"blank level0\" >&nbsp;</th>\n",
              "      <th class=\"col_heading level0 col0\" >Logistic Regression</th>\n",
              "      <th class=\"col_heading level0 col1\" >SVC</th>\n",
              "      <th class=\"col_heading level0 col2\" >Decision Tree</th>\n",
              "      <th class=\"col_heading level0 col3\" >Random Forest</th>\n",
              "      <th class=\"col_heading level0 col4\" >XGB</th>\n",
              "    </tr>\n",
              "  </thead>\n",
              "  <tbody>\n",
              "    <tr>\n",
              "      <th id=\"T_03f3c_level0_row0\" class=\"row_heading level0 row0\" >Accuracy</th>\n",
              "      <td id=\"T_03f3c_row0_col0\" class=\"data row0 col0\" >0.797221</td>\n",
              "      <td id=\"T_03f3c_row0_col1\" class=\"data row0 col1\" >0.682524</td>\n",
              "      <td id=\"T_03f3c_row0_col2\" class=\"data row0 col2\" >0.793243</td>\n",
              "      <td id=\"T_03f3c_row0_col3\" class=\"data row0 col3\" >0.848210</td>\n",
              "      <td id=\"T_03f3c_row0_col4\" class=\"data row0 col4\" >0.818905</td>\n",
              "    </tr>\n",
              "    <tr>\n",
              "      <th id=\"T_03f3c_level0_row1\" class=\"row_heading level0 row1\" >Recall</th>\n",
              "      <td id=\"T_03f3c_row1_col0\" class=\"data row1 col0\" >0.565676</td>\n",
              "      <td id=\"T_03f3c_row1_col1\" class=\"data row1 col1\" >0.252903</td>\n",
              "      <td id=\"T_03f3c_row1_col2\" class=\"data row1 col2\" >0.736540</td>\n",
              "      <td id=\"T_03f3c_row1_col3\" class=\"data row1 col3\" >0.732469</td>\n",
              "      <td id=\"T_03f3c_row1_col4\" class=\"data row1 col4\" >0.623586</td>\n",
              "    </tr>\n",
              "    <tr>\n",
              "      <th id=\"T_03f3c_level0_row2\" class=\"row_heading level0 row2\" >Precision</th>\n",
              "      <td id=\"T_03f3c_row2_col0\" class=\"data row2 col0\" >0.835412</td>\n",
              "      <td id=\"T_03f3c_row2_col1\" class=\"data row2 col1\" >0.701967</td>\n",
              "      <td id=\"T_03f3c_row2_col2\" class=\"data row2 col2\" >0.715395</td>\n",
              "      <td id=\"T_03f3c_row2_col3\" class=\"data row2 col3\" >0.838570</td>\n",
              "      <td id=\"T_03f3c_row2_col4\" class=\"data row2 col4\" >0.848902</td>\n",
              "    </tr>\n",
              "    <tr>\n",
              "      <th id=\"T_03f3c_level0_row3\" class=\"row_heading level0 row3\" >F1 Score</th>\n",
              "      <td id=\"T_03f3c_row3_col0\" class=\"data row3 col0\" >0.674580</td>\n",
              "      <td id=\"T_03f3c_row3_col1\" class=\"data row3 col1\" >0.371840</td>\n",
              "      <td id=\"T_03f3c_row3_col2\" class=\"data row3 col2\" >0.725814</td>\n",
              "      <td id=\"T_03f3c_row3_col3\" class=\"data row3 col3\" >0.781937</td>\n",
              "      <td id=\"T_03f3c_row3_col4\" class=\"data row3 col4\" >0.719005</td>\n",
              "    </tr>\n",
              "  </tbody>\n",
              "</table>\n",
              "   "
            ],
            "text/plain": [
              "<IPython.core.display.HTML object>"
            ]
          },
          "metadata": {},
          "output_type": "display_data"
        },
        {
          "name": "stdout",
          "output_type": "stream",
          "text": [
            "\n",
            "\n"
          ]
        },
        {
          "data": {
            "text/html": [
              "<style type=\"text/css\">\n",
              "</style>\n",
              "<table id=\"T_5cbc2_\" style='display:inline'>\n",
              "  <caption>Accuracy Train & Test</caption>\n",
              "  <thead>\n",
              "    <tr>\n",
              "      <th class=\"blank level0\" >&nbsp;</th>\n",
              "      <th class=\"col_heading level0 col0\" >training</th>\n",
              "      <th class=\"col_heading level0 col1\" >testing</th>\n",
              "    </tr>\n",
              "  </thead>\n",
              "  <tbody>\n",
              "    <tr>\n",
              "      <th id=\"T_5cbc2_level0_row0\" class=\"row_heading level0 row0\" >Logistic Regresion</th>\n",
              "      <td id=\"T_5cbc2_row0_col0\" class=\"data row0 col0\" >0.790049</td>\n",
              "      <td id=\"T_5cbc2_row0_col1\" class=\"data row0 col1\" >0.797221</td>\n",
              "    </tr>\n",
              "    <tr>\n",
              "      <th id=\"T_5cbc2_level0_row1\" class=\"row_heading level0 row1\" >SVC</th>\n",
              "      <td id=\"T_5cbc2_row1_col0\" class=\"data row1 col0\" >0.685493</td>\n",
              "      <td id=\"T_5cbc2_row1_col1\" class=\"data row1 col1\" >0.682524</td>\n",
              "    </tr>\n",
              "    <tr>\n",
              "      <th id=\"T_5cbc2_level0_row2\" class=\"row_heading level0 row2\" >Decision Tree</th>\n",
              "      <td id=\"T_5cbc2_row2_col0\" class=\"data row2 col0\" >0.992556</td>\n",
              "      <td id=\"T_5cbc2_row2_col1\" class=\"data row2 col1\" >0.793243</td>\n",
              "    </tr>\n",
              "    <tr>\n",
              "      <th id=\"T_5cbc2_level0_row3\" class=\"row_heading level0 row3\" >Random Forest</th>\n",
              "      <td id=\"T_5cbc2_row3_col0\" class=\"data row3 col0\" >0.992556</td>\n",
              "      <td id=\"T_5cbc2_row3_col1\" class=\"data row3 col1\" >0.848210</td>\n",
              "    </tr>\n",
              "    <tr>\n",
              "      <th id=\"T_5cbc2_level0_row4\" class=\"row_heading level0 row4\" >XGB</th>\n",
              "      <td id=\"T_5cbc2_row4_col0\" class=\"data row4 col0\" >0.813846</td>\n",
              "      <td id=\"T_5cbc2_row4_col1\" class=\"data row4 col1\" >0.818905</td>\n",
              "    </tr>\n",
              "  </tbody>\n",
              "</table>\n",
              "   "
            ],
            "text/plain": [
              "<IPython.core.display.HTML object>"
            ]
          },
          "metadata": {},
          "output_type": "display_data"
        }
      ],
      "source": [
        "evaluation_matrix_base = {\n",
        "    'Logistic Regression': [accuracy_lreg, recall_lreg, precision_lreg, f1_lreg],\n",
        "    'SVC':[accuracy_svc,recall_svc,precision_svc, f1_svc],\n",
        "    'Decision Tree':[accuracy_dt, recall_dt, precision_dt, f1_dt],\n",
        "    'Random Forest':[accuracy_rf, recall_rf, precision_rf, f1_rf],\n",
        "    'XGB':[accuracy_xgb, recall_xgb, precision_xgb, f1_xgb],\n",
        "    'LGB':[accuracy_lgb, recall_lgb, precision_lgb, f1_lgb],\n",
        "\n",
        "}\n",
        "\n",
        "\n",
        "eva_base = pd.DataFrame(data = evaluation_matrix_base, index = ['Accuracy', 'Recall', 'Precision', 'F1 Score'])\n",
        "\n",
        "evaluation_matrix_base_training = {\n",
        "    \"training\" : [training_acc_lreg, training_acc_svc, training_acc_dt, training_acc_rf, training_acc_xgb,training_acc_lgb],\n",
        "    \"testing\": [testing_acc_lreg, testing_acc_svc, testing_acc_dt, testing_acc_rf, testing_acc_xgb,testing_acc_lgb]\n",
        "}\n",
        "    \n",
        "\n",
        "eva_base_train = pd.DataFrame(data = evaluation_matrix_base_training, index = ['Logistic Regresion', 'SVC', 'Decision Tree', 'Random Forest', 'XGB','LGB'])\n",
        "\n",
        "print()\n",
        "display_side_by_side([eva_base], ['Evaluation Matrix'])\n",
        "print(\"\\n\")\n",
        "display_side_by_side([eva_base_train], ['Accuracy Train & Test'])\n",
        "\n"
      ]
    },
    {
      "cell_type": "markdown",
      "id": "b1192cc6",
      "metadata": {
        "id": "b1192cc6"
      },
      "source": [
        "# Applying Hyper Parameter Tuning using Grid SeachCV for  alogorithms to check best score and best parameters\n"
      ]
    },
    {
      "cell_type": "code",
      "execution_count": null,
      "id": "7a813d6d",
      "metadata": {
        "id": "7a813d6d"
      },
      "outputs": [],
      "source": [
        "from sklearn.model_selection import GridSearchCV\n",
        "met_grid= {\"F1\": \"f1\", \"Accuracy\": \"accuracy\"}\n"
      ]
    },
    {
      "cell_type": "markdown",
      "id": "113f3c44",
      "metadata": {
        "id": "113f3c44"
      },
      "source": [
        "### XGB"
      ]
    },
    {
      "cell_type": "code",
      "execution_count": null,
      "id": "08b02649",
      "metadata": {
        "colab": {
          "base_uri": "https://localhost:8080/"
        },
        "id": "08b02649",
        "outputId": "33ec698a-6e34-44f7-faf1-27df8b16f90a"
      },
      "outputs": [
        {
          "name": "stdout",
          "output_type": "stream",
          "text": [
            "XGBOOST Best score: 0.833345340153207 using best parameters {'gamma': 0, 'learning_rate': 0.3, 'max_depth': 8}\n"
          ]
        }
      ],
      "source": [
        "param_grid ={'max_depth':[6,8,10,12],'learning_rate': [0.3, 0.5, 0.7],'gamma': [0,1,2,3]}\n",
        "clf_xgb = GridSearchCV(estimator= xgb, param_grid = param_grid, cv = 3, n_jobs=-1, scoring=met_grid ,refit='Accuracy')\n",
        "best_clf_xgb = clf_xgb.fit(X_train,y_train)\n",
        "print('XGBOOST Best score: {} using best parameters {}'.format(best_clf_xgb.best_score_, best_clf_xgb.best_params_))"
      ]
    },
    {
      "cell_type": "code",
      "execution_count": null,
      "id": "TrADx2KQkSRl",
      "metadata": {
        "colab": {
          "base_uri": "https://localhost:8080/"
        },
        "id": "TrADx2KQkSRl",
        "outputId": "d224e48a-b306-4964-ff86-f522f68f2ccd"
      },
      "outputs": [
        {
          "name": "stdout",
          "output_type": "stream",
          "text": [
            "Training Accuracy : 0.833345340153207\n",
            "Testing Accuracy : 0.8423824732448031\n",
            "F1 Score : 0.7719497365220916\n"
          ]
        }
      ],
      "source": [
        "XGB_tuned = clf_xgb.best_estimator_\n",
        "acc_XGB_tuned_train = clf_xgb.best_score_\n",
        "y_pred_XGB_tuned = XGB_tuned.predict(X_test)\n",
        "acc_XGB_tuned_test = accuracy_score(y_test, y_pred_XGB_tuned)\n",
        "f1_XGB_tuned = f1_score(y_test, y_pred_XGB_tuned)\n",
        "\n",
        "\n",
        "print(f\"Training Accuracy : {acc_XGB_tuned_train}\")\n",
        "print(f\"Testing Accuracy : {acc_XGB_tuned_test}\")\n",
        "print(f\"F1 Score : {f1_XGB_tuned}\")\n"
      ]
    },
    {
      "cell_type": "markdown",
      "id": "miAlip963ou4",
      "metadata": {
        "id": "miAlip963ou4"
      },
      "source": [
        "### LGB"
      ]
    },
    {
      "cell_type": "code",
      "execution_count": 224,
      "id": "tL-AYOXt3wFf",
      "metadata": {
        "colab": {
          "base_uri": "https://localhost:8080/"
        },
        "id": "tL-AYOXt3wFf",
        "outputId": "6cae2030-bbe7-4d15-80ba-7207a8983146"
      },
      "outputs": [
        {
          "name": "stdout",
          "output_type": "stream",
          "text": [
            "LGB Best score: 0.8314962898926591 using best parameters {'learning_rate': 0.1, 'max_depth': 5, 'n_estimators': 500}\n"
          ]
        }
      ],
      "source": [
        "param_grid ={'n_estimators':[10, 50, 100,500],'learning_rate': [0.0001, 0.001, 0.01, 0.1,1],'max_depth': [1,3,4,5]}\n",
        "clf_lgb = GridSearchCV(estimator= lgb_model, param_grid = param_grid, cv = 3, n_jobs=-1, scoring=met_grid ,refit='Accuracy')\n",
        "best_clf_lgb = clf_lgb.fit(X_train,y_train)\n",
        "print('LGB Best score: {} using best parameters {}'.format(best_clf_lgb.best_score_, best_clf_lgb.best_params_))"
      ]
    },
    {
      "cell_type": "code",
      "execution_count": 225,
      "id": "EnlEVLzs4bOs",
      "metadata": {
        "colab": {
          "base_uri": "https://localhost:8080/"
        },
        "id": "EnlEVLzs4bOs",
        "outputId": "2b06b03b-3b09-41e5-d6c4-fd90d71c6049"
      },
      "outputs": [
        {
          "name": "stdout",
          "output_type": "stream",
          "text": [
            "Training Accuracy : 0.8314962898926591\n",
            "Testing Accuracy : 0.8382361181150894\n",
            "F1 Score : 0.7618576260001649\n"
          ]
        }
      ],
      "source": [
        "LGB_tuned = clf_lgb.best_estimator_\n",
        "acc_LGB_tuned_train = clf_lgb.best_score_\n",
        "y_pred_LGB_tuned = LGB_tuned.predict(X_test)\n",
        "acc_LGB_tuned_test = accuracy_score(y_test, y_pred_LGB_tuned)\n",
        "f1_LGB_tuned = f1_score(y_test, y_pred_LGB_tuned)\n",
        "\n",
        "\n",
        "print(f\"Training Accuracy : {acc_LGB_tuned_train}\")\n",
        "print(f\"Testing Accuracy : {acc_LGB_tuned_test}\")\n",
        "print(f\"F1 Score : {f1_LGB_tuned}\")\n"
      ]
    },
    {
      "cell_type": "markdown",
      "id": "C6vLWiGxeEcA",
      "metadata": {
        "id": "C6vLWiGxeEcA"
      },
      "source": [
        "### Random Forest"
      ]
    },
    {
      "cell_type": "code",
      "execution_count": null,
      "id": "faNebQCxeGU2",
      "metadata": {
        "colab": {
          "base_uri": "https://localhost:8080/"
        },
        "id": "faNebQCxeGU2",
        "outputId": "77005bba-1e61-4bf7-bfc8-2a1ff3c1ae3a"
      },
      "outputs": [
        {
          "name": "stdout",
          "output_type": "stream",
          "text": [
            " Random Forest Best  score: 0.8372595634320295 using best parameters {'max_depth': 20, 'min_samples_leaf': 1, 'min_samples_split': 2}\n"
          ]
        }
      ],
      "source": [
        "\n",
        "param_grid = [{'min_samples_split': [2,3,4,6,8,10],'max_depth': [12,14,18,20],'min_samples_leaf': [1,2,4,8]}]\n",
        "\n",
        "clf_rf = GridSearchCV(estimator= rf_model, param_grid = param_grid, cv = 3, n_jobs=-1, scoring=met_grid ,refit='Accuracy')\n",
        "best_clf_rf = clf_rf.fit(X_train,y_train)\n",
        "print(' Random Forest Best  score: {} using best parameters {}'.format(best_clf_rf.best_score_, best_clf_rf.best_params_))"
      ]
    },
    {
      "cell_type": "code",
      "execution_count": null,
      "id": "u8y3flmaexLO",
      "metadata": {
        "colab": {
          "base_uri": "https://localhost:8080/"
        },
        "id": "u8y3flmaexLO",
        "outputId": "153b9c65-079b-4d06-cf51-bcc80bf70fe5"
      },
      "outputs": [
        {
          "name": "stdout",
          "output_type": "stream",
          "text": [
            "Training Accuracy : 0.8372595634320295\n",
            "Testing Accuracy : 0.8437832688967334\n",
            "F1 Score : 0.7680918316419897\n"
          ]
        }
      ],
      "source": [
        "RF_tuned = clf_rf.best_estimator_\n",
        "acc_RF_tuned_train = clf_rf.best_score_\n",
        "y_pred_RF_tuned = RF_tuned.predict(X_test)\n",
        "\n",
        "acc_RF_tuned_test = accuracy_score(y_test, y_pred_RF_tuned)\n",
        "f1_RF_tuned = f1_score(y_test, y_pred_RF_tuned)\n",
        "\n",
        "\n",
        "print(f\"Training Accuracy : {acc_RF_tuned_train}\")\n",
        "print(f\"Testing Accuracy : {acc_RF_tuned_test}\")\n",
        "print(f\"F1 Score : {f1_RF_tuned}\")\n"
      ]
    },
    {
      "cell_type": "markdown",
      "id": "6a136254",
      "metadata": {
        "id": "6a136254"
      },
      "source": [
        "### Logistic Regresion"
      ]
    },
    {
      "cell_type": "code",
      "execution_count": null,
      "id": "88ed4991",
      "metadata": {
        "colab": {
          "base_uri": "https://localhost:8080/"
        },
        "id": "88ed4991",
        "outputId": "1726dc3b-5cff-465a-a69d-67308a495f09"
      },
      "outputs": [
        {
          "name": "stdout",
          "output_type": "stream",
          "text": [
            "Logistic Regression Best score: 0.8024397857983333 using best parameters {'C': 2.0, 'class_weight': None, 'max_iter': 2000, 'penalty': 'l2'}\n"
          ]
        }
      ],
      "source": [
        "\n",
        "param_grid = [{'penalty': ['l2','l1','elasticent'],'C': [1.0, 2.0, 3.0, 5,0.5, 0.1],'class_weight': [None, 'balanced'],'max_iter': [500,2000,4000]}]\n",
        "clf_lgr = GridSearchCV(estimator= lreg, param_grid = param_grid, cv = 3, n_jobs=-1, scoring=met_grid ,refit='Accuracy')\n",
        "best_clf_lgr = clf_lgr.fit(X_train,y_train)\n",
        "print('Logistic Regression Best score: {} using best parameters {}'.format(best_clf_lgr.best_score_, best_clf_lgr.best_params_))"
      ]
    },
    {
      "cell_type": "code",
      "execution_count": null,
      "id": "o16jssGJc6H7",
      "metadata": {
        "colab": {
          "base_uri": "https://localhost:8080/"
        },
        "id": "o16jssGJc6H7",
        "outputId": "9c5f83bb-fbff-45a4-8d16-d0c35656d8c0"
      },
      "outputs": [
        {
          "name": "stdout",
          "output_type": "stream",
          "text": [
            "Training Accuracy : 0.8024397857983333\n",
            "Testing Accuracy : 0.8105003642068696\n",
            "F1 Score : 0.7017110601517023\n"
          ]
        }
      ],
      "source": [
        "LGR_tuned = clf_lgr.best_estimator_\n",
        "acc_LGR_tuned_train = clf_lgr.best_score_\n",
        "y_pred_LGR_tuned = LGR_tuned.predict(X_test)\n",
        "acc_LGR_tuned_test = accuracy_score(y_test, y_pred_LGR_tuned)\n",
        "f1_LGR_tuned = f1_score(y_test, y_pred_LGR_tuned)\n",
        "\n",
        "\n",
        "print(f\"Training Accuracy : {acc_LGR_tuned_train}\")\n",
        "print(f\"Testing Accuracy : {acc_LGR_tuned_test}\")\n",
        "print(f\"F1 Score : {f1_LGR_tuned}\")\n"
      ]
    },
    {
      "cell_type": "markdown",
      "id": "sJ3mxVriZZBF",
      "metadata": {
        "id": "sJ3mxVriZZBF"
      },
      "source": [
        "### Decision Tree"
      ]
    },
    {
      "cell_type": "code",
      "execution_count": null,
      "id": "4SrgzdMGZYF_",
      "metadata": {
        "colab": {
          "base_uri": "https://localhost:8080/"
        },
        "id": "4SrgzdMGZYF_",
        "outputId": "f157984f-9663-4d51-d7ae-d434e2f0751a"
      },
      "outputs": [
        {
          "name": "stdout",
          "output_type": "stream",
          "text": [
            "Decision Tree Best score: 0.8153351103426747 using best parameters {'max_depth': 10, 'min_samples_leaf': 1, 'min_samples_split': 4}\n"
          ]
        }
      ],
      "source": [
        "\n",
        "param_grid = [{'min_samples_split': [2,1,3,4,6,8,10],'max_depth': [None,1,2,4,8,10,12,14,16],'min_samples_leaf': [1,2,4,5,8]}]\n",
        "\n",
        "clf_dt = GridSearchCV(estimator= dt_model, param_grid = param_grid, cv = 3, n_jobs=-1, scoring=met_grid ,refit='Accuracy')\n",
        "best_clf_dt = clf_dt.fit(X_train,y_train)\n",
        "print('Decision Tree Best score: {} using best parameters {}'.format(best_clf_dt.best_score_, best_clf_dt.best_params_))"
      ]
    },
    {
      "cell_type": "code",
      "execution_count": null,
      "id": "C9xhb3SdaB4v",
      "metadata": {
        "colab": {
          "base_uri": "https://localhost:8080/"
        },
        "id": "C9xhb3SdaB4v",
        "outputId": "72cc32f1-eb4d-44d8-ceac-b139a364efaa"
      },
      "outputs": [
        {
          "name": "stdout",
          "output_type": "stream",
          "text": [
            "Training Accuracy : 0.8153351103426747\n",
            "Testing Accuracy : 0.8226032386395472\n",
            "F1 Score : 0.7347520107238606\n"
          ]
        }
      ],
      "source": [
        "DT_tuned = clf_dt.best_estimator_\n",
        "acc_DT_tuned_train = clf_dt.best_score_\n",
        "y_pred_DT_tuned = DT_tuned.predict(X_test)\n",
        "acc_DT_tuned_test = accuracy_score(y_test, y_pred_DT_tuned)\n",
        "f1_DT_tuned = f1_score(y_test, y_pred_DT_tuned)\n",
        "\n",
        "\n",
        "print(f\"Training Accuracy : {acc_DT_tuned_train}\")\n",
        "print(f\"Testing Accuracy : {acc_DT_tuned_test}\")\n",
        "print(f\"F1 Score : {f1_DT_tuned}\")\n"
      ]
    },
    {
      "cell_type": "markdown",
      "id": "GGSRAODsruRo",
      "metadata": {
        "id": "GGSRAODsruRo"
      },
      "source": [
        "# Comparing Tuned Models"
      ]
    },
    {
      "cell_type": "code",
      "execution_count": null,
      "id": "F5_KE6Z0ryeX",
      "metadata": {
        "id": "F5_KE6Z0ryeX"
      },
      "outputs": [],
      "source": [
        "evaluation_matrix_tuned = {\n",
        "    \"Training Accuracy\" : [acc_LGR_tuned_train, acc_DT_tuned_train, acc_RF_tuned_train, acc_XGB_tuned_train,acc_LGB_tuned_train],\n",
        "    \"Testing Accuracy\": [acc_LGR_tuned_test, acc_DT_tuned_test, acc_RF_tuned_test, acc_XGB_tuned_test,acc_LGB_tuned_test],\n",
        "    \"F1\": [f1_LGR_tuned, f1_DT_tuned, f1_RF_tuned, f1_XGB_tuned]\n",
        "\n",
        "}\n",
        "\n",
        "eva_tuned = pd.DataFrame(data = evaluation_matrix_tuned, index = ['Logistic Regression', 'Decision Tree', 'Random Forest', 'XGB','LGB'])\n"
      ]
    },
    {
      "cell_type": "code",
      "execution_count": null,
      "id": "J5BgZWtDLlpQ",
      "metadata": {
        "colab": {
          "base_uri": "https://localhost:8080/",
          "height": 141
        },
        "id": "J5BgZWtDLlpQ",
        "outputId": "d390823f-529f-438e-9533-64cd41f99dcf"
      },
      "outputs": [
        {
          "data": {
            "text/html": [
              "<style type=\"text/css\">\n",
              "</style>\n",
              "<table id=\"T_214a9_\" style='display:inline'>\n",
              "  <caption>Tuned Models</caption>\n",
              "  <thead>\n",
              "    <tr>\n",
              "      <th class=\"blank level0\" >&nbsp;</th>\n",
              "      <th class=\"col_heading level0 col0\" >Training Accuracy</th>\n",
              "      <th class=\"col_heading level0 col1\" >Testing Accuracy</th>\n",
              "      <th class=\"col_heading level0 col2\" >F1</th>\n",
              "    </tr>\n",
              "  </thead>\n",
              "  <tbody>\n",
              "    <tr>\n",
              "      <th id=\"T_214a9_level0_row0\" class=\"row_heading level0 row0\" >Logistic Regression</th>\n",
              "      <td id=\"T_214a9_row0_col0\" class=\"data row0 col0\" >0.807098</td>\n",
              "      <td id=\"T_214a9_row0_col1\" class=\"data row0 col1\" >0.801871</td>\n",
              "      <td id=\"T_214a9_row0_col2\" class=\"data row0 col2\" >0.682756</td>\n",
              "    </tr>\n",
              "    <tr>\n",
              "      <th id=\"T_214a9_level0_row1\" class=\"row_heading level0 row1\" >Decision Tree</th>\n",
              "      <td id=\"T_214a9_row1_col0\" class=\"data row1 col0\" >0.818457</td>\n",
              "      <td id=\"T_214a9_row1_col1\" class=\"data row1 col1\" >0.814591</td>\n",
              "      <td id=\"T_214a9_row1_col2\" class=\"data row1 col2\" >0.723258</td>\n",
              "    </tr>\n",
              "    <tr>\n",
              "      <th id=\"T_214a9_level0_row2\" class=\"row_heading level0 row2\" >Random Forest</th>\n",
              "      <td id=\"T_214a9_row2_col0\" class=\"data row2 col0\" >0.842495</td>\n",
              "      <td id=\"T_214a9_row2_col1\" class=\"data row2 col1\" >0.845016</td>\n",
              "      <td id=\"T_214a9_row2_col2\" class=\"data row2 col2\" >0.771481</td>\n",
              "    </tr>\n",
              "    <tr>\n",
              "      <th id=\"T_214a9_level0_row3\" class=\"row_heading level0 row3\" >XGB</th>\n",
              "      <td id=\"T_214a9_row3_col0\" class=\"data row3 col0\" >0.837188</td>\n",
              "      <td id=\"T_214a9_row3_col1\" class=\"data row3 col1\" >0.840029</td>\n",
              "      <td id=\"T_214a9_row3_col2\" class=\"data row3 col2\" >0.770959</td>\n",
              "    </tr>\n",
              "  </tbody>\n",
              "</table>\n",
              "   "
            ],
            "text/plain": [
              "<IPython.core.display.HTML object>"
            ]
          },
          "metadata": {},
          "output_type": "display_data"
        }
      ],
      "source": [
        "display_side_by_side([ eva_tuned], ['Tuned Models'])\n"
      ]
    },
    {
      "cell_type": "markdown",
      "id": "MVvH5-Sosf21",
      "metadata": {
        "id": "MVvH5-Sosf21"
      },
      "source": [
        "# Applying StratifiedKfold Cross Validation Technique on top 3 algorithms to know the exact mean CV accuracy score of the models\n",
        "\n"
      ]
    },
    {
      "cell_type": "markdown",
      "id": "eJS8zs4R-WCf",
      "metadata": {
        "id": "eJS8zs4R-WCf"
      },
      "source": [
        "Input the best parameters obtained in hyper tuning tuning for respective alogorithms"
      ]
    },
    {
      "cell_type": "code",
      "execution_count": null,
      "id": "068e0d5a",
      "metadata": {
        "id": "068e0d5a"
      },
      "outputs": [],
      "source": [
        "from sklearn.model_selection import cross_val_score,StratifiedKFold,cross_validate\n",
        "skfold = StratifiedKFold(n_splits= 5,shuffle= True,random_state= 42)\n"
      ]
    },
    {
      "cell_type": "markdown",
      "id": "bcf4a6bf",
      "metadata": {
        "id": "bcf4a6bf"
      },
      "source": [
        "### XGB"
      ]
    },
    {
      "cell_type": "code",
      "execution_count": null,
      "id": "tEHmP5YX-q0e",
      "metadata": {
        "colab": {
          "base_uri": "https://localhost:8080/"
        },
        "id": "tEHmP5YX-q0e",
        "outputId": "3f19e04c-c4ae-4555-aebe-31a9aff091ad"
      },
      "outputs": [
        {
          "name": "stdout",
          "output_type": "stream",
          "text": [
            "XGBOOST CV Mean Accuracy Score is 84.00067238191292\n",
            "XGBOOST CV F1 Score is 76.73924678953213\n"
          ]
        }
      ],
      "source": [
        "xgb_model=XGBClassifier(gamma= 0, learning_rate=0.3, max_depth= 8)\n",
        "\n",
        "xgb_cv_result_acc = cross_val_score(xgb_model,X, y, cv=skfold, scoring=\"accuracy\",n_jobs=-1)\n",
        "xgb_cv_acc = xgb_cv_result_acc.mean()*100\n",
        "\n",
        "xgb_cv_result_f1 = cross_val_score(xgb_model,X, y, cv=skfold,scoring=\"f1\",n_jobs=-1)\n",
        "xgb_cv_f1 = xgb_cv_result_f1.mean()*100\n",
        "print('XGBOOST CV Mean Accuracy Score is {}'.format(xgb_cv_acc))\n",
        "print('XGBOOST CV F1 Score is {}'.format(xgb_cv_f1))"
      ]
    },
    {
      "cell_type": "code",
      "execution_count": null,
      "id": "MtXFiu3OQYeK",
      "metadata": {
        "colab": {
          "base_uri": "https://localhost:8080/",
          "height": 473
        },
        "id": "MtXFiu3OQYeK",
        "outputId": "de5962d5-cfdb-4553-d7f4-f186df6183da"
      },
      "outputs": [
        {
          "name": "stdout",
          "output_type": "stream",
          "text": [
            "              precision    recall  f1-score   support\n",
            "\n",
            "           0       0.85      0.92      0.88     11216\n",
            "           1       0.83      0.72      0.77      6631\n",
            "\n",
            "    accuracy                           0.84     17847\n",
            "   macro avg       0.84      0.82      0.83     17847\n",
            "weighted avg       0.84      0.84      0.84     17847\n",
            "\n"
          ]
        },
        {
          "data": {
            "image/png": "[encoded data removed]",
            "text/plain": [
              "<Figure size 504x360 with 2 Axes>"
            ]
          },
          "metadata": {
            "needs_background": "light"
          },
          "output_type": "display_data"
        }
      ],
      "source": [
        "xgb_model.fit(X_train,y_train)\n",
        "y_predicted=xgb_model.predict(X_test)\n",
        "\n",
        "cm=confusion_matrix(y_test, y_predicted)\n",
        "df_stacked_model = pd.DataFrame(data = cm, index = ['actual 1', 'actual 0'], columns = ['Predicted 1', 'Predicted 0'])\n",
        "\n",
        "\n",
        "plt.figure(figsize = (7, 5))\n",
        "sns.heatmap(df_stacked_model, annot = True,fmt='g')\n",
        "\n",
        "print(classification_report(y_test, y_predicted))\n"
      ]
    },
    {
      "cell_type": "markdown",
      "id": "eu7u0DOs5R6Q",
      "metadata": {
        "id": "eu7u0DOs5R6Q"
      },
      "source": [
        "### LGB"
      ]
    },
    {
      "cell_type": "code",
      "execution_count": 233,
      "id": "Q-gx_0jq5S6-",
      "metadata": {
        "colab": {
          "base_uri": "https://localhost:8080/"
        },
        "id": "Q-gx_0jq5S6-",
        "outputId": "4dde3253-627e-4cdf-8962-8b70f386de16"
      },
      "outputs": [
        {
          "name": "stdout",
          "output_type": "stream",
          "text": [
            "LGB CV Mean Accuracy Score is 83.80736258194655\n",
            "LGB CV F1 Score is 77.47956502668242\n"
          ]
        }
      ],
      "source": [
        "lgb_model=lgb.LGBMClassifier(learning_rate=0.1, max_depth= 5, n_estimators=500)\n",
        "\n",
        "lgb_cv_result_acc = cross_val_score(lgb_model,X, y, cv=skfold, scoring=\"accuracy\",n_jobs=-1)\n",
        "lgb_cv_acc = lgb_cv_result_acc.mean()*100\n",
        "\n",
        "lgb_cv_result_f1 = cross_val_score(xgb_model,X, y, cv=skfold,scoring=\"f1\",n_jobs=-1)\n",
        "lgb_cv_f1 = lgb_cv_result_f1.mean()*100\n",
        "print('LGB CV Mean Accuracy Score is {}'.format(lgb_cv_acc))\n",
        "print('LGB CV F1 Score is {}'.format(lgb_cv_f1))"
      ]
    },
    {
      "cell_type": "code",
      "execution_count": 228,
      "id": "yAq9JjRS5hsD",
      "metadata": {
        "colab": {
          "base_uri": "https://localhost:8080/",
          "height": 478
        },
        "id": "yAq9JjRS5hsD",
        "outputId": "35654c64-c6ae-463f-9139-75a8c1587561"
      },
      "outputs": [
        {
          "name": "stdout",
          "output_type": "stream",
          "text": [
            "              precision    recall  f1-score   support\n",
            "\n",
            "           0       0.84      0.92      0.88     11216\n",
            "           1       0.84      0.70      0.76      6631\n",
            "\n",
            "    accuracy                           0.84     17847\n",
            "   macro avg       0.84      0.81      0.82     17847\n",
            "weighted avg       0.84      0.84      0.83     17847\n",
            "\n"
          ]
        },
        {
          "data": {
            "image/png": "[encoded data removed]",
            "text/plain": [
              "<Figure size 504x360 with 2 Axes>"
            ]
          },
          "metadata": {},
          "output_type": "display_data"
        }
      ],
      "source": [
        "lgb_model.fit(X_train,y_train)\n",
        "y_predicted=lgb_model.predict(X_test)\n",
        "\n",
        "cm=confusion_matrix(y_test, y_predicted)\n",
        "df_stacked_model = pd.DataFrame(data = cm, index = ['actual 1', 'actual 0'], columns = ['Predicted 1', 'Predicted 0'])\n",
        "\n",
        "\n",
        "plt.figure(figsize = (7, 5))\n",
        "sns.heatmap(df_stacked_model, annot = True,fmt='g')\n",
        "\n",
        "print(classification_report(y_test, y_predicted))\n"
      ]
    },
    {
      "cell_type": "markdown",
      "id": "Pw4s32XFM-DC",
      "metadata": {
        "id": "Pw4s32XFM-DC"
      },
      "source": [
        "### Decision Tree"
      ]
    },
    {
      "cell_type": "code",
      "execution_count": null,
      "id": "HeSSTDJuNA0S",
      "metadata": {
        "colab": {
          "base_uri": "https://localhost:8080/"
        },
        "id": "HeSSTDJuNA0S",
        "outputId": "883c55e4-dbce-468b-9b04-5f9ad2cf5868"
      },
      "outputs": [
        {
          "name": "stdout",
          "output_type": "stream",
          "text": [
            "DecisionTree CV Mean Accuracy Score is 81.7683644309968\n",
            "DecisionTree CV F1 Score  is 72.26111821862663\n"
          ]
        }
      ],
      "source": [
        "dt_model=DecisionTreeClassifier(max_depth= 10, min_samples_leaf= 1, min_samples_split= 4)\n",
        "\n",
        "dt_cv_result_acc = cross_val_score(dt_model,X, y, cv=skfold,scoring=\"accuracy\",n_jobs=-1)\n",
        "dt_cv_acc = dt_cv_result_acc.mean()*100\n",
        "print('DecisionTree CV Mean Accuracy Score is {}'.format(dt_cv_acc))\n",
        "\n",
        "dt_cv_result_f1 = cross_val_score(dt_model,X, y, cv=skfold,scoring=\"f1\",n_jobs=-1)\n",
        "dt_cv_f1 = dt_cv_result_f1.mean()*100\n",
        "print('DecisionTree CV F1 Score  is {}'.format(dt_cv_f1))"
      ]
    },
    {
      "cell_type": "code",
      "execution_count": null,
      "id": "rb7GOvCsPbP7",
      "metadata": {
        "colab": {
          "base_uri": "https://localhost:8080/",
          "height": 473
        },
        "id": "rb7GOvCsPbP7",
        "outputId": "73854d85-86a7-431b-d3f5-ef4f438772b7"
      },
      "outputs": [
        {
          "name": "stdout",
          "output_type": "stream",
          "text": [
            "              precision    recall  f1-score   support\n",
            "\n",
            "           0       0.82      0.92      0.87     11216\n",
            "           1       0.83      0.66      0.73      6631\n",
            "\n",
            "    accuracy                           0.82     17847\n",
            "   macro avg       0.82      0.79      0.80     17847\n",
            "weighted avg       0.82      0.82      0.82     17847\n",
            "\n"
          ]
        },
        {
          "data": {
            "image/png": "[encoded data removed]",
            "text/plain": [
              "<Figure size 504x360 with 2 Axes>"
            ]
          },
          "metadata": {
            "needs_background": "light"
          },
          "output_type": "display_data"
        }
      ],
      "source": [
        "dt_model.fit(X_train,y_train)\n",
        "y_predicted=dt_model.predict(X_test)\n",
        "\n",
        "cm=confusion_matrix(y_test, y_predicted)\n",
        "df_stacked_model = pd.DataFrame(data = cm, index = ['actual 1', 'actual 0'], columns = ['Predicted 1', 'Predicted 0'])\n",
        "\n",
        "\n",
        "plt.figure(figsize = (7, 5))\n",
        "sns.heatmap(df_stacked_model, annot = True,fmt='g')\n",
        "\n",
        "print(classification_report(y_test, y_predicted))\n"
      ]
    },
    {
      "cell_type": "markdown",
      "id": "QUGS8FglNDe-",
      "metadata": {
        "id": "QUGS8FglNDe-"
      },
      "source": [
        "### Random Forest"
      ]
    },
    {
      "cell_type": "code",
      "execution_count": null,
      "id": "TI1EdH3HNGZ9",
      "metadata": {
        "colab": {
          "base_uri": "https://localhost:8080/"
        },
        "id": "TI1EdH3HNGZ9",
        "outputId": "0834a8a0-7ec3-4e35-f34d-124b71ec278d"
      },
      "outputs": [
        {
          "name": "stdout",
          "output_type": "stream",
          "text": [
            "Random Forest CV Mean Accuracy Score is 84.27298705664818\n",
            "Random Forest CV F1 Score  is 76.6031252617571\n"
          ]
        }
      ],
      "source": [
        "rf_model=RandomForestClassifier(max_depth= 20, min_samples_leaf= 1, min_samples_split=2)\n",
        "\n",
        "rf_cv_result_acc = cross_val_score(rf_model,X, y, cv=skfold,scoring=\"accuracy\",n_jobs=-1)\n",
        "rf_cv_acc = rf_cv_result_acc.mean()*100\n",
        "print('Random Forest CV Mean Accuracy Score is {}'.format(rf_cv_acc))\n",
        "\n",
        "rf_cv_result_f1 = cross_val_score(rf_model,X, y, cv=skfold,scoring=\"f1\",n_jobs=-1)\n",
        "rf_cv_f1 = rf_cv_result_f1.mean()*100\n",
        "print('Random Forest CV F1 Score  is {}'.format(rf_cv_f1))"
      ]
    },
    {
      "cell_type": "code",
      "execution_count": null,
      "id": "riWx9KXSQKAA",
      "metadata": {
        "colab": {
          "base_uri": "https://localhost:8080/",
          "height": 473
        },
        "id": "riWx9KXSQKAA",
        "outputId": "c72ad5db-673a-4727-f3c9-fc4c2c217a3f"
      },
      "outputs": [
        {
          "name": "stdout",
          "output_type": "stream",
          "text": [
            "              precision    recall  f1-score   support\n",
            "\n",
            "           0       0.84      0.93      0.88     11216\n",
            "           1       0.86      0.70      0.77      6631\n",
            "\n",
            "    accuracy                           0.84     17847\n",
            "   macro avg       0.85      0.81      0.83     17847\n",
            "weighted avg       0.85      0.84      0.84     17847\n",
            "\n"
          ]
        },
        {
          "data": {
            "image/png": "[encoded data removed]",
            "text/plain": [
              "<Figure size 504x360 with 2 Axes>"
            ]
          },
          "metadata": {
            "needs_background": "light"
          },
          "output_type": "display_data"
        }
      ],
      "source": [
        "rf_model.fit(X_train,y_train)\n",
        "y_predicted=rf_model.predict(X_test)\n",
        "\n",
        "cm=confusion_matrix(y_test, y_predicted)\n",
        "df_stacked_model = pd.DataFrame(data = cm, index = ['actual 1', 'actual 0'], columns = ['Predicted 1', 'Predicted 0'])\n",
        "\n",
        "\n",
        "plt.figure(figsize = (7, 5))\n",
        "sns.heatmap(df_stacked_model, annot = True,fmt='g')\n",
        "\n",
        "print(classification_report(y_test, y_predicted))\n"
      ]
    },
    {
      "cell_type": "markdown",
      "id": "c963bd86",
      "metadata": {
        "id": "c963bd86"
      },
      "source": [
        "### Logistic Regresion"
      ]
    },
    {
      "cell_type": "code",
      "execution_count": null,
      "id": "7610ddb5",
      "metadata": {
        "colab": {
          "base_uri": "https://localhost:8080/"
        },
        "id": "7610ddb5",
        "outputId": "eb045e69-0838-42ab-c07f-5171f586248e"
      },
      "outputs": [
        {
          "name": "stdout",
          "output_type": "stream",
          "text": [
            "Logistic Regression  CV Mean Accuarcy Score is 80.54631030425283\n",
            "Logistic Regression CV Mean F1 Score is 69.40532826056362\n"
          ]
        }
      ],
      "source": [
        "lrg_model=LogisticRegression(C= 2, max_iter= 2000, penalty='l2', solver= 'lbfgs',class_weight= None)\n",
        "\n",
        "lrg_cv_result_acc = cross_val_score(lrg_model,X, y, cv=skfold,scoring=\"accuracy\",n_jobs=-1)\n",
        "lrg_cv_acc = lrg_cv_result_acc.mean()*100\n",
        "print('Logistic Regression  CV Mean Accuarcy Score is {}'.format(lrg_cv_acc))\n",
        "\n",
        "lrg_cv_result_f1 = cross_val_score(lrg_model,X, y, cv=skfold,scoring=\"f1\",n_jobs=-1)\n",
        "lrg_cv_f1 = lrg_cv_result_f1.mean()*100\n",
        "print('Logistic Regression CV Mean F1 Score is {}'.format(lrg_cv_f1))"
      ]
    },
    {
      "cell_type": "code",
      "execution_count": null,
      "id": "HGD8hE3Y7WK3",
      "metadata": {
        "colab": {
          "base_uri": "https://localhost:8080/",
          "height": 207
        },
        "id": "HGD8hE3Y7WK3",
        "outputId": "d13f39d4-116e-4449-bf45-e1bf80c67a6b"
      },
      "outputs": [
        {
          "name": "stdout",
          "output_type": "stream",
          "text": [
            "              precision    recall  f1-score   support\n",
            "\n",
            "           0       0.80      0.94      0.86     11216\n",
            "           1       0.85      0.60      0.70      6631\n",
            "\n",
            "    accuracy                           0.81     17847\n",
            "   macro avg       0.82      0.77      0.78     17847\n",
            "weighted avg       0.82      0.81      0.80     17847\n",
            "\n"
          ]
        },
        {
          "data": {
            "image/png": "[encoded data removed]",
            "text/plain": [
              "<Figure size 504x360 with 2 Axes>"
            ]
          },
          "metadata": {
            "needs_background": "light"
          },
          "output_type": "display_data"
        }
      ],
      "source": [
        "lrg_model.fit(X_train,y_train)\n",
        "y_predicted=lrg_model.predict(X_test)\n",
        "\n",
        "cm=confusion_matrix(y_test, y_predicted)\n",
        "df_stacked_model = pd.DataFrame(data = cm, index = ['actual 1', 'actual 0'], columns = ['Predicted 1', 'Predicted 0'])\n",
        "\n",
        "\n",
        "plt.figure(figsize = (7, 5))\n",
        "sns.heatmap(df_stacked_model, annot = True,fmt='g')\n",
        "\n",
        "print(classification_report(y_test, y_predicted))\n"
      ]
    },
    {
      "cell_type": "markdown",
      "id": "KY__-oPxOt00",
      "metadata": {
        "id": "KY__-oPxOt00"
      },
      "source": [
        "# Plotting Dataframe to present the mean CV  scores of the Models\n"
      ]
    },
    {
      "cell_type": "code",
      "execution_count": null,
      "id": "d287db5f",
      "metadata": {
        "colab": {
          "base_uri": "https://localhost:8080/",
          "height": 173
        },
        "id": "d287db5f",
        "outputId": "e3779cb3-d992-46dd-9924-77114f5766cd"
      },
      "outputs": [
        {
          "data": {
            "text/html": [
              "\n",
              "  <div id=\"df-6a05eee2-1cb2-4b03-a97b-e7999df563e6\">\n",
              "    <div class=\"colab-df-container\">\n",
              "      <div>\n",
              "<style scoped>\n",
              "    .dataframe tbody tr th:only-of-type {\n",
              "        vertical-align: middle;\n",
              "    }\n",
              "\n",
              "    .dataframe tbody tr th {\n",
              "        vertical-align: top;\n",
              "    }\n",
              "\n",
              "    .dataframe thead th {\n",
              "        text-align: right;\n",
              "    }\n",
              "</style>\n",
              "<table border=\"1\" class=\"dataframe\">\n",
              "  <thead>\n",
              "    <tr style=\"text-align: right;\">\n",
              "      <th></th>\n",
              "      <th>Model</th>\n",
              "      <th>CV_Accuracy_Score</th>\n",
              "    </tr>\n",
              "  </thead>\n",
              "  <tbody>\n",
              "    <tr>\n",
              "      <th>0</th>\n",
              "      <td>Random Forest</td>\n",
              "      <td>84.272987</td>\n",
              "    </tr>\n",
              "    <tr>\n",
              "      <th>1</th>\n",
              "      <td>Decision Tree</td>\n",
              "      <td>81.768364</td>\n",
              "    </tr>\n",
              "    <tr>\n",
              "      <th>2</th>\n",
              "      <td>XGBClassifier</td>\n",
              "      <td>84.000672</td>\n",
              "    </tr>\n",
              "    <tr>\n",
              "      <th>3</th>\n",
              "      <td>Logistic Regression</td>\n",
              "      <td>80.546310</td>\n",
              "    </tr>\n",
              "  </tbody>\n",
              "</table>\n",
              "</div>\n",
              "      <button class=\"colab-df-convert\" onclick=\"convertToInteractive('df-6a05eee2-1cb2-4b03-a97b-e7999df563e6')\"\n",
              "              title=\"Convert this dataframe to an interactive table.\"\n",
              "              style=\"display:none;\">\n",
              "        \n",
              "  <svg xmlns=\"http://www.w3.org/2000/svg\" height=\"24px\"viewBox=\"0 0 24 24\"\n",
              "       width=\"24px\">\n",
              "    <path d=\"M0 0h24v24H0V0z\" fill=\"none\"/>\n",
              "    <path d=\"M18.56 5.44l.94 2.06.94-2.06 2.06-.94-2.06-.94-.94-2.06-.94 2.06-2.06.94zm-11 1L8.5 8.5l.94-2.06 2.06-.94-2.06-.94L8.5 2.5l-.94 2.06-2.06.94zm10 10l.94 2.06.94-2.06 2.06-.94-2.06-.94-.94-2.06-.94 2.06-2.06.94z\"/><path d=\"M17.41 7.96l-1.37-1.37c-.4-.4-.92-.59-1.43-.59-.52 0-1.04.2-1.43.59L10.3 9.45l-7.72 7.72c-.78.78-.78 2.05 0 2.83L4 21.41c.39.39.9.59 1.41.59.51 0 1.02-.2 1.41-.59l7.78-7.78 2.81-2.81c.8-.78.8-2.07 0-2.86zM5.41 20L4 18.59l7.72-7.72 1.47 1.35L5.41 20z\"/>\n",
              "  </svg>\n",
              "      </button>\n",
              "      \n",
              "  <style>\n",
              "    .colab-df-container {\n",
              "      display:flex;\n",
              "      flex-wrap:wrap;\n",
              "      gap: 12px;\n",
              "    }\n",
              "\n",
              "    .colab-df-convert {\n",
              "      background-color: #E8F0FE;\n",
              "      border: none;\n",
              "      border-radius: 50%;\n",
              "      cursor: pointer;\n",
              "      display: none;\n",
              "      fill: #1967D2;\n",
              "      height: 32px;\n",
              "      padding: 0 0 0 0;\n",
              "      width: 32px;\n",
              "    }\n",
              "\n",
              "    .colab-df-convert:hover {\n",
              "      background-color: #E2EBFA;\n",
              "      box-shadow: 0px 1px 2px rgba(60, 64, 67, 0.3), 0px 1px 3px 1px rgba(60, 64, 67, 0.15);\n",
              "      fill: #174EA6;\n",
              "    }\n",
              "\n",
              "    [theme=dark] .colab-df-convert {\n",
              "      background-color: #3B4455;\n",
              "      fill: #D2E3FC;\n",
              "    }\n",
              "\n",
              "    [theme=dark] .colab-df-convert:hover {\n",
              "      background-color: #434B5C;\n",
              "      box-shadow: 0px 1px 3px 1px rgba(0, 0, 0, 0.15);\n",
              "      filter: drop-shadow(0px 1px 2px rgba(0, 0, 0, 0.3));\n",
              "      fill: #FFFFFF;\n",
              "    }\n",
              "  </style>\n",
              "\n",
              "      <script>\n",
              "        const buttonEl =\n",
              "          document.querySelector('#df-6a05eee2-1cb2-4b03-a97b-e7999df563e6 button.colab-df-convert');\n",
              "        buttonEl.style.display =\n",
              "          google.colab.kernel.accessAllowed ? 'block' : 'none';\n",
              "\n",
              "        async function convertToInteractive(key) {\n",
              "          const element = document.querySelector('#df-6a05eee2-1cb2-4b03-a97b-e7999df563e6');\n",
              "          const dataTable =\n",
              "            await google.colab.kernel.invokeFunction('convertToInteractive',\n",
              "                                                     [key], {});\n",
              "          if (!dataTable) return;\n",
              "\n",
              "          const docLinkHtml = 'Like what you see? Visit the ' +\n",
              "            '<a target=\"_blank\" href=https://colab.research.google.com/notebooks/data_table.ipynb>data table notebook</a>'\n",
              "            + ' to learn more about interactive tables.';\n",
              "          element.innerHTML = '';\n",
              "          dataTable['output_type'] = 'display_data';\n",
              "          await google.colab.output.renderOutput(dataTable, element);\n",
              "          const docLink = document.createElement('div');\n",
              "          docLink.innerHTML = docLinkHtml;\n",
              "          element.appendChild(docLink);\n",
              "        }\n",
              "      </script>\n",
              "    </div>\n",
              "  </div>\n",
              "  "
            ],
            "text/plain": [
              "                 Model  CV_Accuracy_Score\n",
              "0        Random Forest          84.272987\n",
              "1        Decision Tree          81.768364\n",
              "2        XGBClassifier          84.000672\n",
              "3  Logistic Regression          80.546310"
            ]
          },
          "execution_count": 84,
          "metadata": {},
          "output_type": "execute_result"
        }
      ],
      "source": [
        "# Creating a dataframe to compare our models' performances:\n",
        "predictive_model_scores_acc = pd.DataFrame(data=[('Random Forest',rf_cv_acc), \n",
        "                                             ('Decision Tree',dt_cv_acc),('XGBClassifier',xgb_cv_acc),('Logistic Regression',lrg_cv_acc)\n",
        "                                             ],\n",
        "                                       columns=['Model', 'CV_Accuracy_Score', ])\n",
        "predictive_model_scores_acc"
      ]
    },
    {
      "cell_type": "code",
      "execution_count": null,
      "id": "eb45057f",
      "metadata": {
        "colab": {
          "base_uri": "https://localhost:8080/",
          "height": 173
        },
        "id": "eb45057f",
        "outputId": "7ebc2924-ab75-4289-b3be-bb3c006033a6"
      },
      "outputs": [
        {
          "data": {
            "text/html": [
              "\n",
              "  <div id=\"df-eb25852c-a982-4e0c-ab58-4ab729765d4a\">\n",
              "    <div class=\"colab-df-container\">\n",
              "      <div>\n",
              "<style scoped>\n",
              "    .dataframe tbody tr th:only-of-type {\n",
              "        vertical-align: middle;\n",
              "    }\n",
              "\n",
              "    .dataframe tbody tr th {\n",
              "        vertical-align: top;\n",
              "    }\n",
              "\n",
              "    .dataframe thead th {\n",
              "        text-align: right;\n",
              "    }\n",
              "</style>\n",
              "<table border=\"1\" class=\"dataframe\">\n",
              "  <thead>\n",
              "    <tr style=\"text-align: right;\">\n",
              "      <th></th>\n",
              "      <th>Model</th>\n",
              "      <th>CV_F1_Score</th>\n",
              "    </tr>\n",
              "  </thead>\n",
              "  <tbody>\n",
              "    <tr>\n",
              "      <th>0</th>\n",
              "      <td>Random Forest</td>\n",
              "      <td>76.603125</td>\n",
              "    </tr>\n",
              "    <tr>\n",
              "      <th>1</th>\n",
              "      <td>Decision Tree</td>\n",
              "      <td>72.261118</td>\n",
              "    </tr>\n",
              "    <tr>\n",
              "      <th>2</th>\n",
              "      <td>XGBClassifier</td>\n",
              "      <td>76.739247</td>\n",
              "    </tr>\n",
              "    <tr>\n",
              "      <th>3</th>\n",
              "      <td>Logistic Regression</td>\n",
              "      <td>69.405328</td>\n",
              "    </tr>\n",
              "  </tbody>\n",
              "</table>\n",
              "</div>\n",
              "      <button class=\"colab-df-convert\" onclick=\"convertToInteractive('df-eb25852c-a982-4e0c-ab58-4ab729765d4a')\"\n",
              "              title=\"Convert this dataframe to an interactive table.\"\n",
              "              style=\"display:none;\">\n",
              "        \n",
              "  <svg xmlns=\"http://www.w3.org/2000/svg\" height=\"24px\"viewBox=\"0 0 24 24\"\n",
              "       width=\"24px\">\n",
              "    <path d=\"M0 0h24v24H0V0z\" fill=\"none\"/>\n",
              "    <path d=\"M18.56 5.44l.94 2.06.94-2.06 2.06-.94-2.06-.94-.94-2.06-.94 2.06-2.06.94zm-11 1L8.5 8.5l.94-2.06 2.06-.94-2.06-.94L8.5 2.5l-.94 2.06-2.06.94zm10 10l.94 2.06.94-2.06 2.06-.94-2.06-.94-.94-2.06-.94 2.06-2.06.94z\"/><path d=\"M17.41 7.96l-1.37-1.37c-.4-.4-.92-.59-1.43-.59-.52 0-1.04.2-1.43.59L10.3 9.45l-7.72 7.72c-.78.78-.78 2.05 0 2.83L4 21.41c.39.39.9.59 1.41.59.51 0 1.02-.2 1.41-.59l7.78-7.78 2.81-2.81c.8-.78.8-2.07 0-2.86zM5.41 20L4 18.59l7.72-7.72 1.47 1.35L5.41 20z\"/>\n",
              "  </svg>\n",
              "      </button>\n",
              "      \n",
              "  <style>\n",
              "    .colab-df-container {\n",
              "      display:flex;\n",
              "      flex-wrap:wrap;\n",
              "      gap: 12px;\n",
              "    }\n",
              "\n",
              "    .colab-df-convert {\n",
              "      background-color: #E8F0FE;\n",
              "      border: none;\n",
              "      border-radius: 50%;\n",
              "      cursor: pointer;\n",
              "      display: none;\n",
              "      fill: #1967D2;\n",
              "      height: 32px;\n",
              "      padding: 0 0 0 0;\n",
              "      width: 32px;\n",
              "    }\n",
              "\n",
              "    .colab-df-convert:hover {\n",
              "      background-color: #E2EBFA;\n",
              "      box-shadow: 0px 1px 2px rgba(60, 64, 67, 0.3), 0px 1px 3px 1px rgba(60, 64, 67, 0.15);\n",
              "      fill: #174EA6;\n",
              "    }\n",
              "\n",
              "    [theme=dark] .colab-df-convert {\n",
              "      background-color: #3B4455;\n",
              "      fill: #D2E3FC;\n",
              "    }\n",
              "\n",
              "    [theme=dark] .colab-df-convert:hover {\n",
              "      background-color: #434B5C;\n",
              "      box-shadow: 0px 1px 3px 1px rgba(0, 0, 0, 0.15);\n",
              "      filter: drop-shadow(0px 1px 2px rgba(0, 0, 0, 0.3));\n",
              "      fill: #FFFFFF;\n",
              "    }\n",
              "  </style>\n",
              "\n",
              "      <script>\n",
              "        const buttonEl =\n",
              "          document.querySelector('#df-eb25852c-a982-4e0c-ab58-4ab729765d4a button.colab-df-convert');\n",
              "        buttonEl.style.display =\n",
              "          google.colab.kernel.accessAllowed ? 'block' : 'none';\n",
              "\n",
              "        async function convertToInteractive(key) {\n",
              "          const element = document.querySelector('#df-eb25852c-a982-4e0c-ab58-4ab729765d4a');\n",
              "          const dataTable =\n",
              "            await google.colab.kernel.invokeFunction('convertToInteractive',\n",
              "                                                     [key], {});\n",
              "          if (!dataTable) return;\n",
              "\n",
              "          const docLinkHtml = 'Like what you see? Visit the ' +\n",
              "            '<a target=\"_blank\" href=https://colab.research.google.com/notebooks/data_table.ipynb>data table notebook</a>'\n",
              "            + ' to learn more about interactive tables.';\n",
              "          element.innerHTML = '';\n",
              "          dataTable['output_type'] = 'display_data';\n",
              "          await google.colab.output.renderOutput(dataTable, element);\n",
              "          const docLink = document.createElement('div');\n",
              "          docLink.innerHTML = docLinkHtml;\n",
              "          element.appendChild(docLink);\n",
              "        }\n",
              "      </script>\n",
              "    </div>\n",
              "  </div>\n",
              "  "
            ],
            "text/plain": [
              "                 Model  CV_F1_Score\n",
              "0        Random Forest    76.603125\n",
              "1        Decision Tree    72.261118\n",
              "2        XGBClassifier    76.739247\n",
              "3  Logistic Regression    69.405328"
            ]
          },
          "execution_count": 85,
          "metadata": {},
          "output_type": "execute_result"
        }
      ],
      "source": [
        "# Creating a dataframe to compare our models' performances:\n",
        "predictive_model_scores_f1 = pd.DataFrame(data=[('Random Forest',rf_cv_f1), \n",
        "                                             ('Decision Tree',dt_cv_f1),('XGBClassifier',xgb_cv_f1),('Logistic Regression',lrg_cv_f1)],\n",
        "                                       columns=['Model', 'CV_F1_Score', ])\n",
        "predictive_model_scores_f1"
      ]
    },
    {
      "cell_type": "code",
      "execution_count": null,
      "id": "e90681de",
      "metadata": {
        "colab": {
          "base_uri": "https://localhost:8080/",
          "height": 499
        },
        "id": "e90681de",
        "outputId": "29172692-3813-4c0c-a88d-5fee257011cf"
      },
      "outputs": [
        {
          "data": {
            "image/png": "[encoded data removed]",
            "text/plain": [
              "<Figure size 1000x500 with 1 Axes>"
            ]
          },
          "metadata": {},
          "output_type": "display_data"
        }
      ],
      "source": [
        "# Visualizing testing accuracy of each model: \n",
        "plt.style.use('default')\n",
        "plt.figure(figsize=(10,5))\n",
        "p=sns.barplot(x='Model', y='CV_Accuracy_Score', data=predictive_model_scores_acc, palette='PuBu')\n",
        "plt.title('CV Accuracy Score For Each Model', fontsize = 20)\n",
        "plt.xlabel('Model', fontsize = 12)\n",
        "plt.ylabel('CV Accuracy Score', fontsize = 12)\n",
        "for index, row in predictive_model_scores_acc.iterrows():\n",
        "    p.text(x=row.name, y=row.CV_Accuracy_Score, s=round(row.CV_Accuracy_Score,2), color='black', horizontalalignment='center');"
      ]
    },
    {
      "cell_type": "code",
      "execution_count": null,
      "id": "27077830",
      "metadata": {
        "colab": {
          "base_uri": "https://localhost:8080/",
          "height": 499
        },
        "id": "27077830",
        "outputId": "a76b39d6-26f6-4b1f-8fc8-ae54670acbc8"
      },
      "outputs": [
        {
          "data": {
            "image/png": "[encoded data removed]",
            "text/plain": [
              "<Figure size 1000x500 with 1 Axes>"
            ]
          },
          "metadata": {},
          "output_type": "display_data"
        }
      ],
      "source": [
        "# Visualizing testing accuracy of each model: \n",
        "plt.style.use('default')\n",
        "plt.figure(figsize=(10,5))\n",
        "p=sns.barplot(x='Model', y='CV_F1_Score', data=predictive_model_scores_f1, palette='PuBu')\n",
        "plt.title('CV F1 Score For Each Model', fontsize = 20)\n",
        "plt.xlabel('Model', fontsize = 12)\n",
        "plt.ylabel('CV F1 Score', fontsize = 12)\n",
        "for index, row in predictive_model_scores_f1.iterrows():\n",
        "    p.text(x=row.name, y=row.CV_F1_Score, s=round(row.CV_F1_Score,2), color='black', horizontalalignment='center');"
      ]
    },
    {
      "cell_type": "markdown",
      "id": "s1t5feRhVAU0",
      "metadata": {
        "id": "s1t5feRhVAU0"
      },
      "source": [
        "# Building Stacked Model"
      ]
    },
    {
      "cell_type": "code",
      "execution_count": 283,
      "id": "YH2pEDIN-qrm",
      "metadata": {
        "id": "YH2pEDIN-qrm"
      },
      "outputs": [],
      "source": [
        "# Define estimators\n",
        "from sklearn.ensemble import StackingClassifier\n",
        "from sklearn.linear_model import LogisticRegression\n",
        "from sklearn.model_selection import GridSearchCV\n",
        "# DecisionTreeClassifier\n",
        "skfold = StratifiedKFold(n_splits= 5,shuffle= True,random_state= 42)\n",
        "\n",
        "xgb_model=XGBClassifier(gamma= 0, learning_rate=0.3, max_depth= 12)\n",
        "rf_model=RandomForestClassifier(max_depth= None, max_leaf_nodes= None, min_samples_leaf= 1, min_samples_split=4)\n",
        "dt_model=DecisionTreeClassifier(max_depth= 12, min_samples_leaf= 8, min_samples_split= 4)\n",
        "lrg_model=LogisticRegression(C= 2, max_iter= 2000, penalty='l2', solver= 'lbfgs')\n",
        "lgb_model=lgb.LGBMClassifier(learning_rate=0.1, max_depth= 4, n_estimators=50)\n",
        "# lgb_model=lgb.LGBMClassifier(learning_rate=0.1, max_depth= 5, n_estimators=500)\n",
        "\n",
        "estimator_list = [\n",
        " ('rf_model' , rf_model),\n",
        " ('dt_model' , dt_model),\n",
        "\n",
        "]\n",
        "\n",
        "# Build stack model\n",
        "stack_model = StackingClassifier(\n",
        "    estimators=estimator_list, final_estimator=LogisticRegression(), cv=skfold\n",
        ")\n",
        "\n",
        "# # Train stacked model\n",
        "# stack_model.fit(X_train, y_train)\n"
      ]
    },
    {
      "cell_type": "code",
      "execution_count": 287,
      "id": "1issrXGyu9Jm",
      "metadata": {
        "id": "1issrXGyu9Jm"
      },
      "outputs": [],
      "source": [
        "scr_acc = cross_val_score(stack_model, X, y, scoring='accuracy', cv=skfold, n_jobs=-1)\n",
        "scr_f1 = cross_val_score(stack_model, X, y, scoring='f1', cv=skfold, n_jobs=-1)\n"
      ]
    },
    {
      "cell_type": "code",
      "execution_count": 289,
      "id": "rWk1sIMeyIXQ",
      "metadata": {
        "colab": {
          "base_uri": "https://localhost:8080/"
        },
        "id": "rWk1sIMeyIXQ",
        "outputId": "aea144df-48af-4b4c-d7e1-b72c3e7814c9"
      },
      "outputs": [
        {
          "name": "stdout",
          "output_type": "stream",
          "text": [
            "Stacked Model CV Mean Accuracy Score is 84.90334510001681\n",
            "Stacked Model CV Mean F1 Score is 78.05418257362587\n"
          ]
        }
      ],
      "source": [
        "scr_cv_acc = scr_acc.mean()*100\n",
        "scr_cv_f1 = scr_f1.mean()*100\n",
        "\n",
        "print('Stacked Model CV Mean Accuracy Score is {}'.format(scr_cv_acc))\n",
        "print('Stacked Model CV Mean F1 Score is {}'.format(scr_cv_f1))"
      ]
    },
    {
      "cell_type": "markdown",
      "id": "VWQkQ-oP9GMH",
      "metadata": {
        "id": "VWQkQ-oP9GMH"
      },
      "source": [
        "### ROC Curve"
      ]
    },
    {
      "cell_type": "code",
      "execution_count": 285,
      "id": "EgVcPVXF9Eje",
      "metadata": {
        "id": "EgVcPVXF9Eje"
      },
      "outputs": [],
      "source": [
        "from sklearn.metrics import roc_curve, roc_auc_score\n",
        "\n",
        "\n",
        "classifiers=[stack_model]\n",
        "result_table = pd.DataFrame(columns=['classifiers', 'fpr','tpr','auc'])\n",
        "\n",
        "# Define a result table as a DataFrame\n",
        "result_table = pd.DataFrame(columns=['classifiers', 'fpr','tpr','auc'])\n",
        "\n",
        "# Train the models and record the results\n",
        "for cls in classifiers:\n",
        "    model = cls.fit(X_train.values, y_train.values)\n",
        "    yproba = model.predict_proba(X_test.values)[::,1]\n",
        "    \n",
        "    fpr, tpr, _ = roc_curve(y_test.values,  yproba)\n",
        "    auc = roc_auc_score(y_test, yproba)\n",
        "    \n",
        "    result_table = result_table.append({'classifiers':cls.__class__.__name__,\n",
        "                                        'fpr':fpr, \n",
        "                                        'tpr':tpr, \n",
        "                                        'auc':auc}, ignore_index=True)\n",
        "\n",
        "# Set name of the classifiers as index labels\n",
        "result_table.set_index('classifiers', inplace=True)\n",
        "\n",
        "\n",
        "\n"
      ]
    },
    {
      "cell_type": "code",
      "execution_count": 273,
      "id": "petnZfc3AMWv",
      "metadata": {
        "colab": {
          "base_uri": "https://localhost:8080/",
          "height": 414
        },
        "id": "petnZfc3AMWv",
        "outputId": "9f9c18bc-64bf-4dcf-daa6-465ae8b1b3cb"
      },
      "outputs": [
        {
          "data": {
            "image/png": "[encoded data removed]",
            "text/plain": [
              "<Figure size 576x432 with 1 Axes>"
            ]
          },
          "metadata": {},
          "output_type": "display_data"
        }
      ],
      "source": [
        "%matplotlib inline\n",
        "import matplotlib.pyplot as plt\n",
        "import seaborn as sns\n",
        "sns.set()\n",
        "\n",
        "fig = plt.figure(figsize=(8,6))\n",
        "\n",
        "\n",
        "for i in result_table.index:\n",
        "    plt.plot(result_table.loc[i]['fpr'], \n",
        "             result_table.loc[i]['tpr'], \n",
        "             label=\"{}, AUC={:.3f}\".format(i, result_table.loc[i]['auc']))\n",
        "    \n",
        "plt.plot([0,1], [0,1], color='orange', linestyle='--')\n",
        "\n",
        "plt.xticks(np.arange(0.0, 1.1, step=0.1))\n",
        "plt.xlabel(\"False Positive Rate\", fontsize=15)\n",
        "\n",
        "plt.yticks(np.arange(0.0, 1.1, step=0.1))\n",
        "plt.ylabel(\"True Positive Rate\", fontsize=15)\n",
        "\n",
        "plt.title('ROC Curve Analysis', fontweight='bold', fontsize=15)\n",
        "plt.legend(prop={'size':13}, loc='lower right')\n",
        "\n",
        "plt.show()"
      ]
    },
    {
      "cell_type": "code",
      "execution_count": 200,
      "id": "dd47985b",
      "metadata": {
        "id": "dd47985b"
      },
      "outputs": [],
      "source": [
        "y_predicted=stack_model.predict(X_test.values)\n",
        "cm_stacked_model = confusion_matrix(y_test, y_predicted)\n",
        "df_stacked_model = pd.DataFrame(cm_stacked_model, index=[' Not Cancelled',  'Cancelled'],\n",
        "                 columns=[' Not Cancelled', ' Cancelled'])\n"
      ]
    },
    {
      "cell_type": "code",
      "execution_count": 201,
      "id": "CaGWZ-q6iwnN",
      "metadata": {
        "colab": {
          "base_uri": "https://localhost:8080/",
          "height": 463
        },
        "id": "CaGWZ-q6iwnN",
        "outputId": "be8f1d23-ef08-46bb-ba5b-067fb5c6677a"
      },
      "outputs": [
        {
          "name": "stdout",
          "output_type": "stream",
          "text": [
            "              precision    recall  f1-score   support\n",
            "\n",
            "           0       0.85      0.92      0.88     11216\n",
            "           1       0.84      0.73      0.78      6631\n",
            "\n",
            "    accuracy                           0.85     17847\n",
            "   macro avg       0.85      0.82      0.83     17847\n",
            "weighted avg       0.85      0.85      0.85     17847\n",
            "\n"
          ]
        },
        {
          "data": {
            "image/png": "[encoded data removed]",
            "text/plain": [
              "<Figure size 720x288 with 2 Axes>"
            ]
          },
          "metadata": {},
          "output_type": "display_data"
        }
      ],
      "source": [
        "\n",
        "# visualizing the confusion matrix\n",
        "sns.set(font_scale=1.2)\n",
        "plt.figure(figsize=(10,4))\n",
        "    \n",
        "sns.heatmap(df_stacked_model, annot=True, fmt='g', cmap=\"Blues\",xticklabels=df_stacked_model.columns, yticklabels=df_stacked_model.index, annot_kws={\"size\": 20})\n",
        "plt.title(\"Confusion Matrix\", size=20)\n",
        "plt.xlabel('Predicted Class')\n",
        "plt.ylabel('True Class');\n",
        "\n",
        "print(classification_report(y_test, y_predicted))"
      ]
    },
    {
      "cell_type": "markdown",
      "id": "abvS7m-QVkPj",
      "metadata": {
        "id": "abvS7m-QVkPj"
      },
      "source": [
        "### Test the model for few properties\n"
      ]
    },
    {
      "cell_type": "code",
      "execution_count": null,
      "id": "6c4f53b7",
      "metadata": {
        "colab": {
          "base_uri": "https://localhost:8080/"
        },
        "id": "6c4f53b7",
        "outputId": "f9ff0676-568a-4591-8e3d-fa8101f1b08f"
      },
      "outputs": [
        {
          "name": "stdout",
          "output_type": "stream",
          "text": [
            "<class 'pandas.core.frame.DataFrame'>\n",
            "Int64Index: 17847 entries, 49698 to 66454\n",
            "Data columns (total 34 columns):\n",
            " #   Column                         Non-Null Count  Dtype  \n",
            "---  ------                         --------------  -----  \n",
            " 0   lead_time                      17847 non-null  int64  \n",
            " 1   arrival_date_day_of_month      17847 non-null  int64  \n",
            " 2   previous_cancellations         17847 non-null  int64  \n",
            " 3   booking_changes                17847 non-null  int64  \n",
            " 4   adr                            17847 non-null  float64\n",
            " 5   required_car_parking_spaces    17847 non-null  int64  \n",
            " 6   total_of_special_requests      17847 non-null  int64  \n",
            " 7   total_stays                    17847 non-null  int64  \n",
            " 8   arrival_date_month_April       17847 non-null  int64  \n",
            " 9   arrival_date_month_August      17847 non-null  int64  \n",
            " 10  arrival_date_month_December    17847 non-null  int64  \n",
            " 11  arrival_date_month_February    17847 non-null  int64  \n",
            " 12  arrival_date_month_January     17847 non-null  int64  \n",
            " 13  arrival_date_month_July        17847 non-null  int64  \n",
            " 14  arrival_date_month_June        17847 non-null  int64  \n",
            " 15  arrival_date_month_March       17847 non-null  int64  \n",
            " 16  arrival_date_month_May         17847 non-null  int64  \n",
            " 17  arrival_date_month_November    17847 non-null  int64  \n",
            " 18  arrival_date_month_October     17847 non-null  int64  \n",
            " 19  arrival_date_month_September   17847 non-null  int64  \n",
            " 20  market_segment_Aviation        17847 non-null  int64  \n",
            " 21  market_segment_Complementary   17847 non-null  int64  \n",
            " 22  market_segment_Corporate       17847 non-null  int64  \n",
            " 23  market_segment_Direct          17847 non-null  int64  \n",
            " 24  market_segment_Groups          17847 non-null  int64  \n",
            " 25  market_segment_Offline TA/TO   17847 non-null  int64  \n",
            " 26  market_segment_Online TA       17847 non-null  int64  \n",
            " 27  deposit_type_No Deposit        17847 non-null  int64  \n",
            " 28  deposit_type_Non Refund        17847 non-null  int64  \n",
            " 29  deposit_type_Refundable        17847 non-null  int64  \n",
            " 30  customer_type_Contract         17847 non-null  int64  \n",
            " 31  customer_type_Group            17847 non-null  int64  \n",
            " 32  customer_type_Transient        17847 non-null  int64  \n",
            " 33  customer_type_Transient-Party  17847 non-null  int64  \n",
            "dtypes: float64(1), int64(33)\n",
            "memory usage: 4.8 MB\n"
          ]
        }
      ],
      "source": [
        "X_test.info()"
      ]
    },
    {
      "cell_type": "code",
      "execution_count": null,
      "id": "JKt88HNjB7m6",
      "metadata": {
        "colab": {
          "base_uri": "https://localhost:8080/"
        },
        "id": "JKt88HNjB7m6",
        "outputId": "0395c644-09fb-4127-cb72-d9ccb25353eb"
      },
      "outputs": [
        {
          "name": "stdout",
          "output_type": "stream",
          "text": [
            "<class 'pandas.core.frame.DataFrame'>\n",
            "Int64Index: 59490 entries, 93460 to 115764\n",
            "Data columns (total 34 columns):\n",
            " #   Column                         Non-Null Count  Dtype  \n",
            "---  ------                         --------------  -----  \n",
            " 0   lead_time                      59490 non-null  int64  \n",
            " 1   arrival_date_day_of_month      59490 non-null  int64  \n",
            " 2   previous_cancellations         59490 non-null  int64  \n",
            " 3   booking_changes                59490 non-null  int64  \n",
            " 4   adr                            59490 non-null  float64\n",
            " 5   required_car_parking_spaces    59490 non-null  int64  \n",
            " 6   total_of_special_requests      59490 non-null  int64  \n",
            " 7   total_stays                    59490 non-null  int64  \n",
            " 8   arrival_date_month_April       59490 non-null  int64  \n",
            " 9   arrival_date_month_August      59490 non-null  int64  \n",
            " 10  arrival_date_month_December    59490 non-null  int64  \n",
            " 11  arrival_date_month_February    59490 non-null  int64  \n",
            " 12  arrival_date_month_January     59490 non-null  int64  \n",
            " 13  arrival_date_month_July        59490 non-null  int64  \n",
            " 14  arrival_date_month_June        59490 non-null  int64  \n",
            " 15  arrival_date_month_March       59490 non-null  int64  \n",
            " 16  arrival_date_month_May         59490 non-null  int64  \n",
            " 17  arrival_date_month_November    59490 non-null  int64  \n",
            " 18  arrival_date_month_October     59490 non-null  int64  \n",
            " 19  arrival_date_month_September   59490 non-null  int64  \n",
            " 20  market_segment_Aviation        59490 non-null  int64  \n",
            " 21  market_segment_Complementary   59490 non-null  int64  \n",
            " 22  market_segment_Corporate       59490 non-null  int64  \n",
            " 23  market_segment_Direct          59490 non-null  int64  \n",
            " 24  market_segment_Groups          59490 non-null  int64  \n",
            " 25  market_segment_Offline TA/TO   59490 non-null  int64  \n",
            " 26  market_segment_Online TA       59490 non-null  int64  \n",
            " 27  deposit_type_No Deposit        59490 non-null  int64  \n",
            " 28  deposit_type_Non Refund        59490 non-null  int64  \n",
            " 29  deposit_type_Refundable        59490 non-null  int64  \n",
            " 30  customer_type_Contract         59490 non-null  int64  \n",
            " 31  customer_type_Group            59490 non-null  int64  \n",
            " 32  customer_type_Transient        59490 non-null  int64  \n",
            " 33  customer_type_Transient-Party  59490 non-null  int64  \n",
            "dtypes: float64(1), int64(33)\n",
            "memory usage: 15.9 MB\n"
          ]
        }
      ],
      "source": [
        "X.info()"
      ]
    },
    {
      "cell_type": "code",
      "execution_count": 242,
      "id": "IwfNahfrVj6L",
      "metadata": {
        "id": "IwfNahfrVj6L"
      },
      "outputs": [],
      "source": [
        "def predict_cancellation(arrival_date_month,arrival_date_day_of_month,total_stays,booking_changes,required_car_parking_spaces,customer_type,adr,previous_cancellations,market_segment,total_of_special_requests,lead_time,deposit_type):    \n",
        "    customer_type_index = np.where(X.columns=='customer_type_'+customer_type)[0][0]\n",
        "    market_segment_index = np.where(X.columns=='market_segment_'+market_segment)[0][0]\n",
        "    deposit_type_index = np.where(X.columns=='deposit_type_'+deposit_type)[0][0]\n",
        "    arrival_date_month_index = np.where(X.columns=='arrival_date_month_'+arrival_date_month)[0][0]\n",
        "\n",
        "\n",
        "    x = np.zeros(len(X.columns))\n",
        "    x[1] = arrival_date_day_of_month\n",
        "    x[7] = total_stays\n",
        "    x[3] = booking_changes\n",
        "    x[5] = required_car_parking_spaces\n",
        "    x[2] = previous_cancellations\n",
        "    x[6] = total_of_special_requests\n",
        "    x[4] = adr\n",
        "    x[0] = lead_time\n",
        "\n",
        "  \n",
        "\n",
        "\n",
        "    if customer_type_index >= 0:\n",
        "        x[customer_type_index] = 1\n",
        "\n",
        "    if market_segment_index >= 0:\n",
        "        x[market_segment_index] = 1\n",
        "\n",
        "    if deposit_type_index >= 0:\n",
        "        x[deposit_type_index] = 1\n",
        "    \n",
        "    if arrival_date_month_index >= 0:\n",
        "        x[arrival_date_month_index] = 1\n",
        "  \n",
        "\n",
        "    \n",
        "    return stack_model.predict([x])[0],stack_model.predict_proba([x])\n",
        "\n",
        "\n",
        "\n",
        "\n"
      ]
    },
    {
      "cell_type": "code",
      "execution_count": 243,
      "id": "7OxdCA_Ed9UF",
      "metadata": {
        "colab": {
          "base_uri": "https://localhost:8080/"
        },
        "id": "7OxdCA_Ed9UF",
        "outputId": "01c8d7b9-9bd8-4276-aac5-86669c88d25f"
      },
      "outputs": [
        {
          "name": "stdout",
          "output_type": "stream",
          "text": [
            "(1, array([[4.72502597e-04, 9.99527497e-01]]))\n"
          ]
        }
      ],
      "source": [
        "print(predict_cancellation('March',1,4,2,1,'Group',34,20,'Complementary',1,223,'No Deposit'))"
      ]
    },
    {
      "cell_type": "code",
      "execution_count": null,
      "id": "VTtW1o5qfhCN",
      "metadata": {
        "id": "VTtW1o5qfhCN"
      },
      "outputs": [],
      "source": [
        "X_train.columns.values.tolist() "
      ]
    },
    {
      "cell_type": "markdown",
      "id": "c8PwYTH4hG7N",
      "metadata": {
        "id": "c8PwYTH4hG7N"
      },
      "source": [
        "### Export the tested model to a pickle file\n"
      ]
    },
    {
      "cell_type": "code",
      "execution_count": 286,
      "id": "v7mR2Uphd9Hc",
      "metadata": {
        "id": "v7mR2Uphd9Hc"
      },
      "outputs": [],
      "source": [
        "import pickle\n",
        "with open('hotel_booking_cancellation_model3.pickle','ab') as f:\n",
        "    pickle.dump(stack_model,f)"
      ]
    },
    {
      "cell_type": "code",
      "execution_count": 208,
      "id": "Eb-s-6yaoS5j",
      "metadata": {
        "id": "Eb-s-6yaoS5j"
      },
      "outputs": [],
      "source": [
        "import json\n",
        "columns = {\n",
        "    'data_columns' : [col.lower() for col in X.columns]\n",
        "}\n",
        "\n",
        "with open(\"data_columns.json\",\"w\") as f:\n",
        "    f.write(json.dumps(columns))"
      ]
    }
  ],
  "metadata": {
    "colab": {
      "collapsed_sections": [
        "87d67cbb",
        "9a9e4085",
        "47a49652",
        "3c781871",
        "aac9df5f",
        "yw1ROYYP09pu",
        "113f3c44",
        "C6vLWiGxeEcA",
        "6a136254",
        "sJ3mxVriZZBF",
        "GGSRAODsruRo",
        "QUGS8FglNDe-",
        "c963bd86"
      ],
      "provenance": []
    },
    "gpuClass": "standard",
    "kernelspec": {
      "display_name": "Python 3.9.7 ('base')",
      "language": "python",
      "name": "python3"
    },
    "language_info": {
      "codemirror_mode": {
        "name": "ipython",
        "version": 3
      },
      "file_extension": ".py",
      "mimetype": "text/x-python",
      "name": "python",
      "nbconvert_exporter": "python",
      "pygments_lexer": "ipython3",
      "version": "3.9.7"
    },
    "vscode": {
      "interpreter": {
        "hash": "2b77fa8c1cc59c983ee5bffc0aaf8e2bbb488fb2df80a5f6d69be8fc6d314768"
      }
    }
  },
  "nbformat": 4,
  "nbformat_minor": 5
}
